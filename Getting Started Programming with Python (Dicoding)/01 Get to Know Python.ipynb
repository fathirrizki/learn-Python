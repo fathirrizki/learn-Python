{
 "cells": [
  {
   "cell_type": "markdown",
   "id": "4736ce22",
   "metadata": {},
   "source": [
    "## Pengenalan Python\n",
    "Python adalah bahasa pemrograman multifungsi yang dirilis pada tahun **1991** oleh **Guido van Rossum (GvR)**. Beliau membuat Python sebagai bahasa pemrograman yang mudah dibaca dan dimengerti (*readable*) serta memiliki kemampuan penanganan kesalahan (*exception handling*). Berdasarkan tujuan tersebut, Guido van Rossum berhasil  menjadikan Python sebagai bahasa pemrograman yang dapat diimplementasikan ke dalam berbagai sektor. Python dapat digunakan untuk membangun *website (server-side)*, *analisis data*, hingga *pembelajaran mesin (machine learning)*.\n",
    "\n",
    "Python memiliki ciri khas tersendiri sebagai salah satu pemrograman populer. Salah satu ciri khas yang paling dikenal adalah Python *tidak mewajibkan penggunaan titik koma atau semi colon (;)* pada setiap akhir kode programnya.\n",
    "\n",
    "### Versi Python\n",
    "**Python versi 2** dirilis pada **Oktober tahun 2000**, beberapa fitur di antaranya adalah *garbage collecto*r dan *memory management*.\n",
    "\n",
    "**Python versi 3** dirilis pada **Desember tahun 2008**, Versi 3 ini tidak *bersifat backward-compatible*\n",
    "\n",
    "### Fakta Unik Python\n",
    "- Python memiliki prinsip **readable**, **consistent**, & **explicit**.\n",
    "\n",
    "- Beberapa di antara Python system: *Python Software Foundation (PSF)* dan *Python Enhancement Proposals (PEP)*.\n",
    "\n",
    "  *Python Software Foundation (PSF)* merupakan **lembaga non-komersial** yang mengabdikan diri untuk menciptakan kondisi Python dan komunitas Python agar dapat tumbuh dan berkembang.\n",
    "\n",
    "  *Python Enhancement Proposals (PEP)* yang menjadi **panduan dalam pengembangan Python**.\n",
    "\n",
    "- Python merupakan **tiga peringkat teratas** bahasa pemrograman yang dipilih oleh para programmer atau pemula untuk belajar kode/program.\n",
    "\n",
    "- Python dapat digunakan dalam mengakomodasi berbagai gaya pemrograman, di antaranya: *terstruktur*, *prosedural*, *berorientasi objek*, dan *fungsional*.\n",
    "\n",
    "- Python dapat dimanfaatkan dalam berbagai sektor berikut:\n",
    "1) Web development (server-side);\n",
    "2) Software development;\n",
    "3) Mathematics & data science;\n",
    "4) Machine learning;\n",
    "5) System scripting;\n",
    "6) Internet of Things (IoT) development; dan lain lain."
   ]
  },
  {
   "cell_type": "markdown",
   "id": "85a2182d",
   "metadata": {},
   "source": [
    "## Menjalankan Kode Program di Lokal\n",
    "Ada tiga mode untuk menjalankan kode program Python menggunakan lokal komputer, yaitu **kode interaktif**, **script**, dan **notebook**.\n",
    "\n",
    "1) **Mode kode interaktif** memungkinkan Anda menjalankan kode Python hanya berbasis *terminal/command prompt*. Mode ini biasanya digunakan para programmer untuk bereksplorasi dan menjalankan dua hingga tiga baris kode saja.\n",
    "\n",
    "2) **Script** adalah mode yang paling sering digunakan oleh programmer untuk membuat kode program. Sederhananya, Anda akan membuat sebuah file (disebut sebagai script) dengan ekstensi “**.py**”. Kemudian untuk bisa menjalankan kode di dalamnya, Anda perlu mengeksekusi file tersebut.\n",
    "\n",
    "3) Untuk menggunakan mode **Notebook**, Anda bisa mengakses *Google Colaboratory* atau mengakses *Jupyter Notebook*."
   ]
  },
  {
   "cell_type": "code",
   "execution_count": 1,
   "id": "8309fc15",
   "metadata": {
    "vscode": {
     "languageId": "powershell"
    }
   },
   "outputs": [],
   "source": [
    "# Syntax for creating a new virtual environment in windows (SYNTAX FOR POWERSHELL OR CMD):\n",
    "# python -m venv nama_venv\n",
    "# kalau ingin mengaktifkan:\n",
    "# nama_venv\\Scripts\\activate\n",
    "# kalau ingin menonaktifkan:\n",
    "# deactivate"
   ]
  },
  {
   "cell_type": "markdown",
   "id": "502fabca",
   "metadata": {},
   "source": [
    "## Variable dan Assignment\n",
    "### Variable\n",
    "Definisi dari **variabel** merujuk kepada **lokasi dalam komputer yang digunakan untuk menyimpan nilai dengan tipe data tertentu**. Ketika menuliskan variabel, Anda telah memerintahkan komputer untuk mencari dan memesan ruang kosong dalam komputer yang nantinya akan diisi nilai atau data. Tujuan dari pembuatan variabel adalah menyimpan nilai yang nantinya dapat digunakan secara berulang.\n",
    "\n",
    "### Assignment\n",
    "**Assignment** merupakan **proses pemberian atau penetapan nilai pada sebuah variabel**. Dalam Python, proses melakukan assignment dapat mengikuti formula berikut.\n",
    "\n",
    "**Ruas Kiri** = **Ruas Kanan**\n",
    "\n",
    "Catatan: \n",
    "**Ruas kiri** adalah *variabel*.\n",
    "**Ruas kanan** adalah *ekspresi*/*nilai*/*variabel yang sudah jelas nilainya*."
   ]
  },
  {
   "cell_type": "code",
   "execution_count": 2,
   "id": "cb67d7df",
   "metadata": {},
   "outputs": [
    {
     "name": "stdout",
     "output_type": "stream",
     "text": [
      "Hello World!\n",
      "20\n"
     ]
    }
   ],
   "source": [
    "greeting = \"Hello World!\" # greeting adalah variabel yang menyimpan nilai string \"Hello World!\"\n",
    "print(greeting)\n",
    "\n",
    "a = 10 # variabel a menyimpan nilai 10\n",
    "b = 5 + 5 # variabel b menyimpan ekspresi 5 + 5\n",
    "print(a + b)"
   ]
  },
  {
   "cell_type": "markdown",
   "id": "24644322",
   "metadata": {},
   "source": [
    "## Input/Output dan Comment\n",
    "### Input\n",
    "Gunakan fungsi **input()** agar pengguna dapat memasukkan nilai"
   ]
  },
  {
   "cell_type": "code",
   "execution_count": 3,
   "id": "f9583908",
   "metadata": {},
   "outputs": [
    {
     "name": "stdout",
     "output_type": "stream",
     "text": [
      "Muhammad Fathir Rizki\n"
     ]
    }
   ],
   "source": [
    "name = input('Masukkan nama anda: ') # menggunakan '' atau \"\" sama saja\n",
    "print(name)"
   ]
  },
  {
   "cell_type": "markdown",
   "id": "9fbc220a",
   "metadata": {},
   "source": [
    "### Output\n",
    "Fungsi **print()** adalah perintah untuk menampilkan output ke layar komputer."
   ]
  },
  {
   "cell_type": "code",
   "execution_count": 4,
   "id": "345734d7",
   "metadata": {},
   "outputs": [
    {
     "name": "stdout",
     "output_type": "stream",
     "text": [
      "Muhammad Fathir Rizki\n"
     ]
    }
   ],
   "source": [
    "name = input('Masukkan nama anda: ')\n",
    "print(name) # menampilkan nilai hasil input pengguna ke layar komputer"
   ]
  },
  {
   "cell_type": "markdown",
   "id": "0fdf80b3",
   "metadata": {},
   "source": [
    "### Comment\n",
    "Fitur comment/komentar untuk **memberitahu fungsi, baris kode, atau informasi** lainnya yang berguna bagi programmer lain. Komentar merupakan *barisan teks yang akan diabaikan oleh Python* ketika program tersebut dijalankan."
   ]
  },
  {
   "cell_type": "code",
   "execution_count": 5,
   "id": "814d9c6e",
   "metadata": {},
   "outputs": [
    {
     "name": "stdout",
     "output_type": "stream",
     "text": [
      "Hello World!\n"
     ]
    }
   ],
   "source": [
    "'''\n",
    "Ini Block Comment\n",
    "'''\n",
    "\"\"\"\n",
    "Ini Block Comment juga\n",
    "\"\"\"\n",
    "# Ini Inline Comment\n",
    "print(\"Hello World!\") # Ini Inline Comment juga"
   ]
  }
 ],
 "metadata": {
  "kernelspec": {
   "display_name": ".venv",
   "language": "python",
   "name": "python3"
  },
  "language_info": {
   "codemirror_mode": {
    "name": "ipython",
    "version": 3
   },
   "file_extension": ".py",
   "mimetype": "text/x-python",
   "name": "python",
   "nbconvert_exporter": "python",
   "pygments_lexer": "ipython3",
   "version": "3.13.2"
  }
 },
 "nbformat": 4,
 "nbformat_minor": 5
}
