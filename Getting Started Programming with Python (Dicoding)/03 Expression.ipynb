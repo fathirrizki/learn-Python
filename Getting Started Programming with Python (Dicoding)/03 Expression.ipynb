{
 "cells": [
  {
   "cell_type": "markdown",
   "id": "2cdb439e",
   "metadata": {},
   "source": [
    "## Pengertian Ekspresi\n",
    "Data yang Anda simpan pada suatu variabel umumnya akan dioperasikan untuk menghasilkan suatu nilai sesuai keinginan. **Ekspresi pada matematika** adalah **kombinasi dari simbol-simbol matematika, seperti angka, variabel, operasi matematika, dan sebagainya**. Contoh ekspresi pada matematika:\n",
    "\n",
    "4x - 7 = 5\n",
    "\n",
    "\"4x-7\" merupakan **ekspresi**, \"4x\", \"7\", dan \"5\" merupakan **suku bilangan**, \"-\" dan \"-\" merupakan **operator**. Apabila kita mengingat kembali, operasi pada matematika ataupun pemrograman merupakan suatu proses yang dilakukan untuk mendapatkan hasil nilai tertentu.\n",
    "\n",
    "**Ekspresi pada pemrograman** merupakan **kombinasi dari satu atau lebih variabel, konstanta, operator, dan fungsi yang bermakna untuk menghasilkan suatu nilai dalam suatu tipe tertentu**. Struktur umum ekspresi yang sering dijumpai adalah:\n",
    "\n",
    "|< operan1 > < operator > < operan2 >|\n",
    "|:---:|\n",
    "\n",
    "Namun, perlu Anda ketahui bahwa struktur umum tersebut merupakan **struktur ekspresi biner** (jenis ekspresi menggunakan *dua operan*). Mari bedah struktur tersebut lebih dalam.\n",
    "1) Operan dapat berupa nilai, variabel, konstanta, atau ekspresi lain.\n",
    "2) Operator merupakan suatu fungsi standar yang disediakan dalam bahasa pemrograman untuk melakukan beberapa hal dasar, seperti perhitungan aritmetika, logika, dan relasional. Contohnya adalah penjumlahan (+), pengurangan (-), perkalian (*), modulus (%), dan sebagainya."
   ]
  },
  {
   "cell_type": "code",
   "execution_count": 26,
   "id": "99614345",
   "metadata": {},
   "outputs": [
    {
     "name": "stdout",
     "output_type": "stream",
     "text": [
      "15 \n",
      "\n",
      "[1, 2, 3, 4, 5, 'halo', 'p', 'y', 't', 'h', 'o', 'n']\n",
      "<class 'list'>\n",
      "['m', 'a', 'c', 'h', 'i', 'n', 'e', 'learning', 'm', 'a', 'c', 'h', 'i', 'n', 'e', 'learning']\n",
      "<class 'list'>\n"
     ]
    }
   ],
   "source": [
    "# penerapan ekspresi pada Python\n",
    "x = 10\n",
    "y = 5\n",
    "print(x + y, '\\n')\n",
    "\n",
    "# menggabungkan dua list dengan menggunakan operator penjumlahan (+)\n",
    "list1 = [1,2,3,4,5]\n",
    "list2 = ['halo','p','y','t','h','o','n']\n",
    "gabung = list1 + list2\n",
    "print(gabung)\n",
    "print(type(gabung))\n",
    "\n",
    "# mereplikasi list dengan menggunakan operator perkalian (*)\n",
    "z = ['m','a','c','h','i','n','e','learning']\n",
    "print(z * 2)\n",
    "print(type(z * 2))"
   ]
  },
  {
   "cell_type": "markdown",
   "id": "fd30eb52",
   "metadata": {},
   "source": [
    "## Jenis-Jenis Ekspresi\n",
    "Pada dasarnya, jenis-jenis ekspresi dibagi menjadi dua. Pertama adalah **menurut jumlah operan (arity) dari operator** dan **kedua adalah menurut tipe data yang dihasilkan**.\n",
    "\n",
    "### Ekspresi Menurut Arity dari Operator\n",
    "|Jenis|Contoh|\n",
    "|:---:|:---:|\n",
    "|Biner|(x + y), (x - y), (x * y), (x ** y), (x / y), (x // y), (x < y), (x <= y), (x > y), (x >= y), (x % y), (x == y), (x != y)|\n",
    "|Uner|(x += 1), (x-=1), (not x)|\n",
    "\n",
    "Ekspresi *biner* merupakan jenis yang **memiliki dua operan**. Operatornya meliputi penjumlahan (+), pengurangan (-), perkalian (*), perpangkatan (**), pembagian (/), pembagian bulat (//), lebih kecil dari (<), lebih kecil dari sama dengan (<=), lebih besar dari (>), lebih besar dari sama dengan (>=), modulus (%), sama dengan (==), dan tidak sama dengan (!=).\n",
    "\n",
    "Sedangkan, ekspresi *uner* adalah jenis ekspresi yang **memiliki bentuk dasar operasi dengan satu operan**. Contohnya adalah increment (x+=1), decrement (x-=1), dan negasi (not x)."
   ]
  },
  {
   "cell_type": "code",
   "execution_count": 56,
   "id": "42a0ab25",
   "metadata": {},
   "outputs": [
    {
     "name": "stdout",
     "output_type": "stream",
     "text": [
      "81 \n",
      "\n",
      "2\n",
      "1 \n",
      "\n",
      "False\n"
     ]
    }
   ],
   "source": [
    "# Biner/Binary\n",
    "x = 3\n",
    "y = 4\n",
    "print(x ** y, '\\n') # dapat dijalankan dalam fungsi print(), tidak seperti increment/decrement unary\n",
    "\n",
    "# Uner/Unary\n",
    "x = 1\n",
    "x += 1 # sama saja dengan x = x + 1\n",
    "print(x)\n",
    "x -= 1 # sama saja dengan x = x - 1\n",
    "print(x, '\\n')\n",
    "# print(x += 1) invalid syntax\n",
    "\n",
    "y = True\n",
    "print(not y)"
   ]
  },
  {
   "cell_type": "markdown",
   "id": "723e6f0a",
   "metadata": {},
   "source": [
    "### Ekspresi Menurut Tipe Data yang Dihasilkan\n",
    "|Jenis|Contoh|\n",
    "|:---:|:---:|\n",
    "|Ekspresi aritmetika: <br> < numerik > < operator > < numerik > = < numerik >|2 + 2 = 4, 2 - 2 = 0|\n",
    "|Ekspresi relasional: <br> < numerik > < operator > < numerik > = < boolean >|3 < 10 = True, 1 > 10 = False|\n",
    "|Ekspresi logika: <br> < boolean > < operator > < boolean > = < boolean >|True or False = True|"
   ]
  },
  {
   "cell_type": "code",
   "execution_count": 59,
   "id": "db6966d1",
   "metadata": {},
   "outputs": [
    {
     "name": "stdout",
     "output_type": "stream",
     "text": [
      "21\n",
      "10 \n",
      "\n",
      "True\n",
      "False \n",
      "\n",
      "False\n",
      "True\n"
     ]
    }
   ],
   "source": [
    "x = 3\n",
    "y = 7\n",
    "\n",
    "# Ekspresi aritmetika\n",
    "print(x * y) # outputnya numerik, yaitu 21\n",
    "print(x + y, '\\n') # 10\n",
    "\n",
    "# Ekspresi relasional\n",
    "print(x < y) # outputnya boolean, yaitu True\n",
    "print(x == y, '\\n') # False\n",
    "\n",
    "# Ekspresi logika\n",
    "print(True & False) # outputnya boolean, logic gate, False\n",
    "print(False | True) # True"
   ]
  },
  {
   "cell_type": "markdown",
   "id": "8af62e0e",
   "metadata": {},
   "source": [
    "## Jenis-Jenis Operator\n",
    "Selain ekspresi dengan beragam jenis, operator pun memiliki berbagai jenis yang dikelompokkan menjadi **operator aritmetika**, **operator relational**, **operator logika**, dan **operator assignment**.\n",
    "\n",
    "### Operator Aritmetika\n",
    "Jenis pertama adalah operator untuk **melakukan operasi aritmetika**. Perhatikan tabel di bawah ini untuk memahami contoh penerapan operator aritmetika. Asumsikan x = 11 dan y = 5.\n",
    "\n",
    "|Operator|Deskripsi|Contoh|\n",
    "|:---:|:---:|:---:|\n",
    "|Penjumlahan (+)|Menambahkan nilai dari kedua operan.|x + y = 16|\n",
    "|Pengurangan (-)|Mengurangi nilai dari kedua operan.|x - y = 6|\n",
    "|Perkalian (*)|Mengalikan nilai dari kedua operan.|x * y = 55|\n",
    "|Pangkat (**)|Memangkatkan nilai dari dua operan.|x ** y = 161051|\n",
    "|Pembagian Riil (/)|Membagi nilai dari kedua operan. Jika operan adalah float, hasil operasi adalah bilangan riil.|x / y = 2.2|\n",
    "|Pembagian Bulat (//)|Membagi nilai dari kedua operan. Jika operan adalah integer, hasil operasi adalah bilangan bulat.|x // y = 2|\n",
    "|Modulo (%)|Sisa hasil pembagian nilai dari dua operan.|x % y = 1|"
   ]
  },
  {
   "cell_type": "code",
   "execution_count": 60,
   "id": "e8673635",
   "metadata": {},
   "outputs": [
    {
     "name": "stdout",
     "output_type": "stream",
     "text": [
      "16\n",
      "6\n",
      "55\n",
      "161051\n",
      "2.2\n",
      "2\n",
      "1\n"
     ]
    }
   ],
   "source": [
    "x = 11\n",
    "y = 5\n",
    "\n",
    "print(x + y)\n",
    "print(x - y)\n",
    "print(x * y)\n",
    "print(x ** y)\n",
    "print(x / y)\n",
    "print(x // y)\n",
    "print(x % y)"
   ]
  },
  {
   "cell_type": "markdown",
   "id": "2ce6d570",
   "metadata": {},
   "source": [
    "### Operator Relasional\n",
    "Operator relasional merupakan operator **perbandingan antara dua operan yang berupa integer, float, string, ataupun boolean**. Hasil akhir dari operator ini adalah **nilai bertipe boolean**. Perhatikan tabel di bawah untuk memahami contoh penerapan operator relasional. Asumsikan kedua variabel bertipe numerik atau float dengan x = 5 dan y = 10.\n",
    "\n",
    "|Operator|Deskripsi|Contoh|\n",
    "|:---:|:---:|:---:|\n",
    "|Sama dengan (==)|Menghasilkan True, jika kedua operan bernilai sama.|x == y, menghasilkan False.|\n",
    "|Tidak Sama dengan (!=)|Menghasilkan True, jika kedua operan tidak bernilai sama.|x != y, menghasilkan True.|\n",
    "|Lebih Besar dari (>)|Menghasilkan True, jika operan kiri lebih besar dari operan kanan.|x > y, menghasilkan False.|\n",
    "|Kurang dari (<)|Menghasilkan True, jika operan kanan lebih besar dari operan kiri.|x < y, menghasilkan True.|\n",
    "|Lebih Besar dari Sama dengan (>=)|Menghasilkan True, jika operan kiri lebih besar atau sama dengan operan kanan.|x >= y, menghasilkan False.|\n",
    "|Kurang dari Sama dengan (<=)|Menghasilkan True, jika operan kanan lebih besar atau sama dengan operan kiri.|x <= y, menghasilkan True.|"
   ]
  },
  {
   "cell_type": "code",
   "execution_count": 61,
   "id": "e67cba07",
   "metadata": {},
   "outputs": [
    {
     "name": "stdout",
     "output_type": "stream",
     "text": [
      "False\n",
      "True\n",
      "False\n",
      "True\n",
      "False\n",
      "True\n"
     ]
    }
   ],
   "source": [
    "x = 5\n",
    "y = 10\n",
    "\n",
    "print(x == y)\n",
    "print(x != y)\n",
    "print(x > y)\n",
    "print(x < y)\n",
    "print(x >= y)\n",
    "print(x <= y)"
   ]
  },
  {
   "cell_type": "markdown",
   "id": "cc42b340",
   "metadata": {},
   "source": [
    "Kode di atas telah menggunakan operan bertipe integer, Anda juga bisa mengubahnya dengan operan bertipe float.\n",
    "\n",
    "Namun, berbeda halnya dengan operan bertipe *string*. Anda dapat melihat tabel di bawah untuk contoh penerapannya. Asumsikan x = \"Dicoding\" dan y = \"Indonesia\".\n",
    "\n",
    "|Operator|Deskripsi|Contoh|\n",
    "|:---:|:---:|:---:|\n",
    "|Sama dengan (==)|Menghasilkan True, jika kedua string memiliki **nilai yang identik/sama persis**.|x == y, menghasilkan False.|\n",
    "|Tidak Sama dengan (!=)|Menghasilkan True, jika kedua string memiliki **nilai yang tidak sama**.|x != y, menghasilkan True.|\n",
    "|Lebih Besar dari (>)|Menghasilkan True, jika **huruf pertama pada string pertama memiliki nilai unicode dengan urutan yang lebih tinggi dibandingkan huruf pertama pada string kedua**.|x > y, menghasilkan False.|\n",
    "|Kurang dari (<)|Menghasilkan True, jika **huruf pertama pada string pertama memiliki nilai unicode dengan urutan yang lebih rendah dibandingkan huruf pertama pada string kedua**.|x < y, menghasilkan True.|\n",
    "|Lebih Besar dari Sama dengan (>=)|Menghasilkan True, jika **huruf pertama pada string pertama memiliki nilai unicode dengan urutan yang lebih tinggi atau sama dibandingkan huruf pertama pada string kedua**.|x >= y, menghasilkan False.|\n",
    "|Kurang dari Sama dengan (<=)|Menghasilkan True, jika **huruf pertama pada string pertama memiliki nilai unicode dengan urutan yang lebih rendah atau sama dibandingkan huruf pertama pada string kedua**.|x <= y, menghasilkan True.|\n",
    "\n",
    "Catatan: Nilai unicode adalah standar internasional yang menetapkan kode numerik untuk setiap karakter dari hampir semua sistem tulisan dan simbol-simbol yang digunakan oleh manusia."
   ]
  },
  {
   "cell_type": "code",
   "execution_count": 64,
   "id": "4e110ec3",
   "metadata": {},
   "outputs": [
    {
     "name": "stdout",
     "output_type": "stream",
     "text": [
      "False\n",
      "True\n",
      "False\n",
      "True\n",
      "False\n",
      "True\n"
     ]
    }
   ],
   "source": [
    "x = \"Dicoding\"\n",
    "y = \"Indonesia\"\n",
    "\n",
    "print(x == y)\n",
    "print(x != y)\n",
    "print(x > y)\n",
    "print(x < y)\n",
    "print(x >= y)\n",
    "print(x <= y)"
   ]
  },
  {
   "cell_type": "markdown",
   "id": "0f85d588",
   "metadata": {},
   "source": [
    "### Operator Logika\n",
    "Operator logika merupakan jenis operator untuk **melakukan operasi logika dengan kedua operannya bertipe boolean**. Hasil akhir dari operasi ini adalah **nilai bertipe boolean**. Perhatikan kode di bawah ini untuk memahami contoh penerapannya, asumsikan bahwa p = True dan q = False.\n",
    "\n",
    "|Operator|Deskripsi|Contoh|\n",
    "|:---:|:---:|:---:|\n",
    "|\"AND\" atau \"&\"|Logika yang hanya menghasilkan True jika kedua operan bernilai True.|p and q = False, p & q = False|\n",
    "|\"OR\" atau \"\\|\"|Logika yang menghasilkan True jika salah satu dari kedua operan bernilai True.|p or q = True, p | q = True|\n",
    "|NOT|Logika yang bertujuan untuk membalikkan nilai logika dari operannya.|not q = True|\n"
   ]
  },
  {
   "cell_type": "code",
   "execution_count": 66,
   "id": "fba344df",
   "metadata": {},
   "outputs": [
    {
     "name": "stdout",
     "output_type": "stream",
     "text": [
      "True\n",
      "False\n",
      "False\n",
      "False \n",
      "\n",
      "True\n",
      "True\n",
      "True\n",
      "False \n",
      "\n",
      "False\n",
      "True\n"
     ]
    }
   ],
   "source": [
    "# operator AND &\n",
    "print(True & True)\n",
    "print(True and False)\n",
    "print(False & True)\n",
    "print(False and False, '\\n')\n",
    "\n",
    "# operator OR |\n",
    "print(True | True)\n",
    "print(True or False)\n",
    "print(False | True)\n",
    "print(False or False, '\\n')\n",
    "\n",
    "# operator NOT\n",
    "print(not True)\n",
    "print(not False)"
   ]
  },
  {
   "cell_type": "markdown",
   "id": "c43dd4a4",
   "metadata": {},
   "source": [
    "### Operator Assignment\n",
    "Operator selanjutnya adalah assignment. Operator ini bertujuan untuk **melakukan proses assignment atau pemberian nilai pada suatu variabel dengan nilai tetap**. Perhatikan tabel di bawah ini untuk memahami contoh penerapan operator assignment. Asumsikan x = 11 dan y = 5.\n",
    "\n",
    "|Operator|Deskripsi|Contoh|\n",
    "|:---:|:---:|:---:|\n",
    "|+=|Menyederhanakan operasi x = x + y.|x += y, menghasilkan nilai 16.|\n",
    "|-=|Menyederhanakan operasi x = x - y.|x -= y, menghasilkan nilai 6.|\n",
    "|*=|Menyederhanakan operasi x = x * y.|x *= y, menghasilkan nilai 55.|\n",
    "|/=|Menyederhanakan operasi x = x / y.|x /= y, menghasilkan nilai 2.2.|\n",
    "|%=|Menyederhanakan operasi x = x % y.|x %= y, menghasilkan nilai 1.|"
   ]
  },
  {
   "cell_type": "code",
   "execution_count": 67,
   "id": "aaba0360",
   "metadata": {},
   "outputs": [
    {
     "name": "stdout",
     "output_type": "stream",
     "text": [
      "16 \n",
      "\n",
      "6 \n",
      "\n",
      "55 \n",
      "\n",
      "2.2 \n",
      "\n",
      "1 \n",
      "\n"
     ]
    }
   ],
   "source": [
    "# +=\n",
    "x = 11\n",
    "x += 5\n",
    "print(x, '\\n')\n",
    "\n",
    "# -=\n",
    "x = 11\n",
    "x -= 5\n",
    "print(x, '\\n')\n",
    "\n",
    "# *=\n",
    "x = 11\n",
    "x *= 5\n",
    "print(x, '\\n')\n",
    "\n",
    "# /=\n",
    "x = 11\n",
    "x /= 5\n",
    "print(x, '\\n')\n",
    "\n",
    "# %=\n",
    "x = 11\n",
    "x %= 5\n",
    "print(x, '\\n')"
   ]
  }
 ],
 "metadata": {
  "kernelspec": {
   "display_name": ".venv",
   "language": "python",
   "name": "python3"
  },
  "language_info": {
   "codemirror_mode": {
    "name": "ipython",
    "version": 3
   },
   "file_extension": ".py",
   "mimetype": "text/x-python",
   "name": "python",
   "nbconvert_exporter": "python",
   "pygments_lexer": "ipython3",
   "version": "3.13.2"
  }
 },
 "nbformat": 4,
 "nbformat_minor": 5
}
