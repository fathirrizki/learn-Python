{
 "cells": [
  {
   "cell_type": "markdown",
   "id": "49f7eb57",
   "metadata": {},
   "source": [
    "## Transformasi Angka, Karakter, dan String\n",
    "Pada materi ini, Anda akan mempelajari berbagai cara mentransformasi tipe data string. Ada banyak method/metode yang dapat membantu Anda mentransformasi tipe data string."
   ]
  },
  {
   "cell_type": "code",
   "execution_count": 135,
   "id": "97e96a4a",
   "metadata": {},
   "outputs": [
    {
     "name": "stdout",
     "output_type": "stream",
     "text": [
      "DATA\n",
      "bigdata \n",
      "\n",
      "_________Hai\n",
      "Hai_________\n",
      "Hai \n",
      "\n",
      "True\n",
      "False \n",
      "\n",
      "Fathir_Jago_Data!\n",
      "Fathir Jago Data!\n",
      "['Belajar', 'Python', 'Menyenangkan']\n",
      "['Halooo', 'Saya Fathir', 'Data Enthusiast', 'dan Career Seeker'] \n",
      "\n",
      "Saya suka belajar Matematika dan Pemrograman\n",
      "Saya suka belajar Bisnis dan Pemrograman \n",
      "\n",
      "True\n",
      "False\n",
      "True\n",
      "False\n",
      "True\n",
      "True\n",
      "True\n",
      "True\n"
     ]
    }
   ],
   "source": [
    "# Mengubah Huruf Besar/Kecil\n",
    "kata = 'data'\n",
    "print(kata.upper()) # .upper() mengubah huruf menjadi kapital\n",
    "kata = 'BIGDATA'\n",
    "print(kata.lower(),'\\n') # .lower() mengubah huruf menjadi kecil\n",
    "\n",
    "# Awalan dan Akhiran\n",
    "print('_________Hai_________'.rstrip('_')) # menghapus karakter pada sebelah kanan (right strip)\n",
    "print('_________Hai_________'.lstrip('_')) # menghapus karakter pada sebelah kiri (left strip)\n",
    "print('_________Hai_________'.strip('_'), '\\n') # menghapus karakter pada kedua sisi\n",
    "\n",
    "# Menemukan kata\n",
    "print('Fathir Orang Sukses'.startswith('Fathir')) # mengembalikan True jika terdapat kata yang dimaksud di awal string\n",
    "print('Fathir Orang Sukses'.endswith('Fathir'), '\\n') # mengembalikan True jika terdapat kata yang dimaksud di akhir string\n",
    "\n",
    "# Memisah dan Menggabung String\n",
    "print('_'.join(['Fathir','Jago','Data!'])) # menggabungkan string pada list di argumen dengan delimiter '_'\n",
    "print(' '.join(['Fathir','Jago','Data!']))\n",
    "print('Belajar Python Menyenangkan'.split()) # memisahkan string menjadi beberapa string dalam list\n",
    "print('''Halooo\n",
    "Saya Fathir\n",
    "Data Enthusiast\n",
    "dan Career Seeker'''.split('\\n'), '\\n') # dapat memisahkan string multiline\n",
    "\n",
    "# Mengganti Elemen String\n",
    "x = 'Saya suka belajar Matematika dan Pemrograman'\n",
    "print(x)\n",
    "print(x.replace('Matematika','Bisnis'), '\\n') # dengan method .replace(), mengganti 'Matematika' dengan 'Bisnis' !CASE SENSITIVE!\n",
    "\n",
    "# Pengecekan String\n",
    "print('MACHINE LEARNING'.isupper()) # mengecek semua huruf pada string huruf kapital atau tidak\n",
    "print('MACHINE LEARNING'.islower()) # mengecek semua huruf pada string huruf kecil atau tidak\n",
    "print('password'.isalpha()) # memberikan output True jika semua karakter string merupakan huruf alphabet\n",
    "print('password123'.isalpha()) # huruf di dalam string membuat output menjadi False, karena string tidak murni mengandung alphabet\n",
    "print('SQL123python'.isalnum()) # output True jika string adalah alfanumerik, yaitu hanya huruf atau hanya angka atau berisi keduanya.\n",
    "print('12345'.isdecimal()) # output True jika semua karakter dalam string adalah numerik\n",
    "print(' \\n \\t '.isspace()) # output True jika string hanya berisi whitespace, seperti spasi, tab, newline, atau karakter whitespace lainnya.\n",
    "print('Jatuh Cinta Seperti Di Film-Film'.istitle()) # output True jika string berisi huruf kapital pada setiap kata pertamanya"
   ]
  },
  {
   "cell_type": "markdown",
   "id": "ea79f9f5",
   "metadata": {},
   "source": [
    "### Formatting pada String\n",
    "Dalam kategori ini terdapat beberapa metode formatting, yaitu **zfill()**, **rjust()**, **ljust()**, **center()**, dll.\n",
    "\n",
    "#### zfill() (zero fill)\n",
    "Metode zfill() bertujuan untuk *menambahkan nilai nol (0) di depan sebuah string dengan panjang tertentu*. Tujuan dari metode ini adalah membantu untuk **memastikan bahwa sebuah angka atau nilai memiliki panjang tetap**, terutama ketika ingin menyimpan nilai dalam format yang konsisten.\n",
    "\n",
    "Metode zfill() ini berguna ketika ingin *memastikan bahwa angka atau nilai dalam string memiliki panjang tetap dan sesuai* dengan format yang diinginkan. Metode zfill() dapat diterapkan untuk **menetapkan nomor nota** atau **nomor antrian**.\n",
    "\n",
    "#### rjust()\n",
    "Metode rjust() berguna untuk *merapikan pencetakan teks*. Dengan metode rjust() ini, Anda dapat **membuat teks menjadi rata kanan** sehingga tampilannya lebih rapi.\n",
    "\n",
    "#### ljust()\n",
    "Metode ljust() adalah kebalikan dari metode rjust() yang bertujuan untuk **membuat teks menjadi rata kiri**.\n",
    "\n",
    "#### center()\n",
    "Metode center() menjadikan **teks rata tengah**."
   ]
  },
  {
   "cell_type": "code",
   "execution_count": 128,
   "id": "b8cde0d3",
   "metadata": {},
   "outputs": [
    {
     "name": "stdout",
     "output_type": "stream",
     "text": [
      "00test\n",
      "00012345 \n",
      "\n",
      "      ini rjust\n",
      "------ini rjust \n",
      "\n",
      "ini ljust      \n",
      "ini ljust------ \n",
      "\n",
      "   ini center  \n",
      "---ini center--\n"
     ]
    }
   ],
   "source": [
    "# zfill()\n",
    "print('test'.zfill(6)) # menetapkan panjang string sesuai argumen, jika string tidak memenuhi maka akan diisi dengan 0 (zero)\n",
    "print('12345'.zfill(8), '\\n')\n",
    "\n",
    "# rjust()\n",
    "print('ini rjust'.rjust(15)) # menetapkan panjang string sesuai argumen, membuat string rata kanan, defaultnya whitespace/spasi\n",
    "print('ini rjust'.rjust(15,'-'), '\\n') # boleh menggunakan karakter lain sebagai pengisi\n",
    "\n",
    "# ljust()\n",
    "print('ini ljust'.ljust(15)) # menetapkan panjang string sesuai argumen, membuat string rata kiri, defaultnya whitespace/spasi\n",
    "print('ini ljust'.ljust(15,'-'), '\\n') # boleh menggunakan karakter lain sebagai pengisi\n",
    "\n",
    "# center()\n",
    "print('ini center'.center(15)) # menetapkan panjang string sesuai argumen, membuat string rata tengah, defaultnya whitespace/spasi\n",
    "print('ini center'.center(15,'-')) # boleh menggunakan karakter lain sebagai pengisi"
   ]
  },
  {
   "cell_type": "markdown",
   "id": "4e03d79d",
   "metadata": {},
   "source": [
    "### String Literals\n",
    "Umumnya, string ditulis dengan mudah di Python, *diapit oleh tanda petik tunggal atau ganda*. Namun, dalam kondisi tertentu, dibutuhkan petik tunggal di tengah string (misalnya, struktur kepemilikan dalam bahasa **Inggris—Dicoding's Cat** atau penyebutan **Jum'at** pada hari dalam bahasa Indonesia).\n",
    "\n",
    "**Escape character** memungkinkan Anda untuk *menggunakan karakter yang sebelumnya tidak bisa dimasukkan dalam string*. Umumnya diawali dengan **backslash ( \\ )** dan diikuti karakter tertentu yang diinginkan. Beberapa contoh escape character lainnya sebagai berikut:\n",
    "1) \\' Single quote\n",
    "2) \\\" Double quote\n",
    "3) \\t Tab\n",
    "4) \\n Newline (line break)\n",
    "5) \\ \\ Backslash"
   ]
  },
  {
   "cell_type": "code",
   "execution_count": 130,
   "id": "9bde0f8e",
   "metadata": {},
   "outputs": [
    {
     "name": "stdout",
     "output_type": "stream",
     "text": [
      "Hari ini hari Jum'at\n",
      "Dia dijadikan \"Kambing Hitam\" oleh temannya\n",
      "Aku\tKamu\n",
      "Ini line 1\n",
      "Ini line 2\n",
      "Mau makan Bakso\\Mie Ayam?\n"
     ]
    }
   ],
   "source": [
    "print('Hari ini hari Jum\\'at')\n",
    "print(\"Dia dijadikan \\\"Kambing Hitam\\\" oleh temannya\")\n",
    "print('Aku\\tKamu')\n",
    "print('Ini line 1\\nIni line 2')\n",
    "print('Mau makan Bakso\\\\Mie Ayam?')"
   ]
  },
  {
   "cell_type": "markdown",
   "id": "54707f27",
   "metadata": {},
   "source": [
    "### Raw String\n",
    "Python juga menyediakan cara untuk *mencetak string sesuai dengan apa pun input atau teks yang diberikan*. Metode ini dinamakan **raw strings**. Umumnya, ia digunakan untuk regex atau beberapa implementasi lain yang sangat bergantung pada keberadaan backslash. Untuk mengimplementasikan raw strings, **sisipkan huruf r sebelum pembuka string**."
   ]
  },
  {
   "cell_type": "code",
   "execution_count": 134,
   "id": "3f0acbca",
   "metadata": {},
   "outputs": [
    {
     "name": "stdout",
     "output_type": "stream",
     "text": [
      "Teman\\tdia dijadikan \\\"Kambing Hitam\\\" pada\\n hari Jum\\'at saat ditanya mau makan Bakso\\\\Mie Ayam?\n"
     ]
    }
   ],
   "source": [
    "print(r'Teman\\tdia dijadikan \\\"Kambing Hitam\\\" pada\\n hari Jum\\'at saat ditanya mau makan Bakso\\\\Mie Ayam?')"
   ]
  },
  {
   "cell_type": "markdown",
   "id": "0c62a458",
   "metadata": {},
   "source": [
    "## Operasi pada List, Set, dan String\n",
    "Dalam modul ini, Anda akan belajar mengenai contoh-contoh **operasi pada list, set ,dan string**. Banyak fungsi dalam Python yang dapat digunakan untuk melakukan operasi pada list, set, dan string.\n",
    "\n",
    "- len()\n",
    "\n",
    "    Fungsi len() bertujuan untuk **menghitung panjang atau banyaknya elemen** dari list, set, dan string. **Khusus pada string, program akan menghitung jumlah karakternya**.\n",
    "\n",
    "- min() dan max()\n",
    "\n",
    "    Fungsi min() dan max() dapat mengetahui berapa **nilai minimum** dan **maksimum** dari **suatu list**.\n",
    "\n",
    "- .count()\n",
    "\n",
    "    Metode .count() digunakan untuk **mengetahui berapa kali suatu objek muncul dalam list**.\n",
    "\n",
    "- in dan not in\n",
    "\n",
    "    In dan not in merupakan **operator** yang diperuntukkan untuk **mengetahui nilai atau objek yang ada dalam list**. Anda bisa menggunakan operator ini untuk *memastikan suatu nilai ada dalam list bahkan dalam string*. Operator in dan not in akan *mengembalikan nilai boolean True atau False*."
   ]
  },
  {
   "cell_type": "code",
   "execution_count": 143,
   "id": "28a503d7",
   "metadata": {},
   "outputs": [
    {
     "name": "stdout",
     "output_type": "stream",
     "text": [
      "8\n",
      "27\n",
      "6 \n",
      "\n",
      "91\n",
      "2 \n",
      "\n",
      "3\n",
      "4 \n",
      "\n",
      "True\n",
      "False\n",
      "True\n",
      "False\n"
     ]
    }
   ],
   "source": [
    "# len()\n",
    "arr = [1,2,3,'a','b','c','b',2]\n",
    "print(len(arr)) # menghitung jumlah elemen dalam list arr\n",
    "print(len('Natural Language Processing')) # menghitung seluruh karakter dalam string, whitespace/spasi juga termasuk\n",
    "print(len(set(arr)), '\\n') # elemen yang duplikat dihilangkan\n",
    "\n",
    "# min() dan max()\n",
    "angka = [12,84,2,45,11,3,91]\n",
    "print(max(angka)) # mengetahui nilai maksimum dari list angka\n",
    "print(min(angka), '\\n') # mengetahui nilai minimum dari list angka\n",
    "\n",
    "# .count()\n",
    "angka = [12,84,2,45,11,3,91,2,10,4,2]\n",
    "print(angka.count(2)) # mengetahui berapa kali suatu objek muncul dalam list angka\n",
    "print('barasuara'.count('a'), '\\n') # mengetahui berapa kali huruf 'a' muncul pada string\n",
    "\n",
    "# in and not in\n",
    "kalimat = 'Belajar Python sebagai dasar Artificial Intelligence'\n",
    "print('Python' in kalimat) # in berarti mengecek apakah kata 'Python' ada di string kalimat, jika iya maka True\n",
    "print('kompleks' in kalimat)\n",
    "print('Berduka' not in kalimat) # not in berarti mengecek apakah kata 'Berduka' tidak ada di string kalimat, jika iya maka True\n",
    "print('Artificial' not in kalimat)"
   ]
  },
  {
   "cell_type": "markdown",
   "id": "0ef37b52",
   "metadata": {},
   "source": [
    "### Memberikan Nilai untuk Multiple Variable\n",
    "Python dapat memberikan nilai untuk multiple variable (variabel yang banyak) secara sekaligus, seperti berikut:"
   ]
  },
  {
   "cell_type": "code",
   "execution_count": 149,
   "id": "895eb929",
   "metadata": {},
   "outputs": [
    {
     "name": "stdout",
     "output_type": "stream",
     "text": [
      "['Apple Macbook Air', 'Silver', True]\n",
      "Apple Macbook Air\n",
      "Silver\n",
      "True \n",
      "\n",
      "('Fore', 'Matcha', '25%', '0%')\n",
      "Fore\n",
      "Matcha\n",
      "25%\n",
      "0%\n"
     ]
    }
   ],
   "source": [
    "data = ['Apple Macbook Air', 'Silver', True]\n",
    "brand, color, isLightWeight = data # jumlah variabel yang ingin dimasukkan haruslah sama dengan jumlah variabel yang ada pada list atau tuple\n",
    "\n",
    "print(data)\n",
    "print(brand)\n",
    "print(color)\n",
    "print(isLightWeight, '\\n')\n",
    "\n",
    "data = ('Fore','Matcha','25%', '0%')\n",
    "store, order, sugarLevel, syrupLevel = data\n",
    "\n",
    "print(data)\n",
    "print(store)\n",
    "print(order)\n",
    "print(sugarLevel)\n",
    "print(syrupLevel)"
   ]
  },
  {
   "cell_type": "markdown",
   "id": "a4b6e7b3",
   "metadata": {},
   "source": [
    "### Sort\n",
    "Metode .sort() untuk mengurutkan angka atau urutan huruf."
   ]
  },
  {
   "cell_type": "code",
   "execution_count": 18,
   "id": "e478145f",
   "metadata": {},
   "outputs": [
    {
     "name": "stdout",
     "output_type": "stream",
     "text": [
      "[1, 6, 32, 7, 1, 2, -8, 0, 24, -1]\n",
      "[-8, -1, 0, 1, 1, 2, 6, 7, 24, 32] \n",
      "\n",
      "['mobil', 'helikopter', 'motor', 'pesawat', 'kapal']\n",
      "['helikopter', 'kapal', 'mobil', 'motor', 'pesawat']\n",
      "['pesawat', 'motor', 'mobil', 'kapal', 'helikopter'] \n",
      "\n",
      "[1, 'halo', True, 0.8, 'greeting'] \n",
      "\n",
      "['Kapal', 'Motor', 'Pesawat', 'hElikopter', 'mobil']\n"
     ]
    }
   ],
   "source": [
    "arr = [1,6,32,7,1,2,-8,0,24,-1]\n",
    "print(arr)\n",
    "arr.sort() # list arr diurutkan dengan metode .sort()\n",
    "print(arr, '\\n')\n",
    "\n",
    "# Beberapa hal yang perlu kamu ketahui mengenai sort sebagai berikut:\n",
    "kendaraan = ['mobil','helikopter','motor','pesawat','kapal']\n",
    "print(kendaraan)\n",
    "kendaraan.sort() # diurutkan berdasarkan urutan nilai huruf pada ASCII\n",
    "print(kendaraan)\n",
    "kendaraan.sort(reverse=True) # diurutkan terbalik (descending), karena basicnya sort itu ascending\n",
    "print(kendaraan, '\\n')\n",
    "\n",
    "urutan = [1,'halo',True,0.8,'greeting']\n",
    "# urutan.sort() # TIDAK BISA MENGURUTKAN CAMPURAN SEKALIGUS\n",
    "print(urutan, '\\n')\n",
    "\n",
    "kendaraan = ['mobil','hElikopter','Motor','Pesawat','Kapal']\n",
    "kendaraan.sort() # sort mengurutkan berdasarkan ASCII, nilai huruf kapital (uppercase) akan lebih dahulu dibandingkan huruf kecil (lowercase).\n",
    "print(kendaraan)\n",
    "# ASCII (American Standard Code for Information Interchange)\n",
    "# table merupakan sebuah kode karakter yang memetakan set karakter yang umum digunakan ke dalam angka."
   ]
  }
 ],
 "metadata": {
  "kernelspec": {
   "display_name": ".venv",
   "language": "python",
   "name": "python3"
  },
  "language_info": {
   "codemirror_mode": {
    "name": "ipython",
    "version": 3
   },
   "file_extension": ".py",
   "mimetype": "text/x-python",
   "name": "python",
   "nbconvert_exporter": "python",
   "pygments_lexer": "ipython3",
   "version": "3.13.2"
  }
 },
 "nbformat": 4,
 "nbformat_minor": 5
}
