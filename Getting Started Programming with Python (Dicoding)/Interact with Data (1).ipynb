{
 "cells": [
  {
   "cell_type": "markdown",
   "id": "90bb10d5",
   "metadata": {},
   "source": [
    "## Abstraksi Data + Data Typing\n",
    "Setiap kode yang Anda buat akan dikenali sebagai *data* oleh komputer. Oleh karena itu, pentingnya mengetahui **abstraksi data** yang merupakan kemampuan Anda untuk *mengerti konteks* dan *merepresentasikannya menjadi bentuk lain* sesuai dengan konteks masalahnya.\n",
    "\n",
    "### Deklarasi dan Inisialisasi\n",
    "**Deklarasi** merujuk pada pembuatan variabel dengan **menentukan tipe data dan nama variabelnya**. Umumnya, ini dilakukan oleh bahasa pemrograman lainnya, seperti C/C++.\n",
    "\n",
    "*Contoh pada C*: int age; // int merupakan tipe data variabel, dan age merupakan nama variabel\n",
    "\n",
    "Sementara **inisialisasi** merujuk kepada *pemberian nilai awal pada variabel yang sebelumnya telah dideklarasikan*.\n",
    "\n",
    "*Contoh pada C*: int age = 19; // mengisi variabel age dengan nilai 19\n",
    "\n",
    "**Python tidak mengharuskan deklarasi tipe data variabel**. Hal ini disebabkan Python merupakan bahasa pemrograman yang menerapkan **loosely typed**. Artinya, Anda tidak perlu mendeklarasikan tipe data variabel secara eksplisit."
   ]
  },
  {
   "cell_type": "code",
   "execution_count": 8,
   "id": "fba68729",
   "metadata": {},
   "outputs": [
    {
     "name": "stdout",
     "output_type": "stream",
     "text": [
      "<class 'int'>\n",
      "<class 'float'>\n"
     ]
    }
   ],
   "source": [
    "age = 19\n",
    "salary = 5000000.0\n",
    "\n",
    "print(type(age)) # fungsi type() digunakan untuk mengetahui tipe data sebuah variabel\n",
    "print(type(salary))"
   ]
  },
  {
   "cell_type": "markdown",
   "id": "08146ac4",
   "metadata": {},
   "source": [
    "Python juga merupakan bahasa pemrograman yang menerapkan **dynamic typing**. Artinya, Python adalah bahasa pemrograman yang *hanya mengetahui tipe variabel saat program berjalan dan melakukan proses assignment*. Hal ini memungkinkan kita untuk *mengubah tipe data dari suatu variabel seiring berjalannya program*."
   ]
  },
  {
   "cell_type": "code",
   "execution_count": 11,
   "id": "63373bdd",
   "metadata": {},
   "outputs": [
    {
     "name": "stdout",
     "output_type": "stream",
     "text": [
      "<class 'int'>\n",
      "<class 'str'>\n"
     ]
    }
   ],
   "source": [
    "x = 6\n",
    "print(type(x))\n",
    "\n",
    "x = '6' # mengubah tipe data variabel saat run time (dynamic typing)\n",
    "print(type(x))"
   ]
  },
  {
   "cell_type": "markdown",
   "id": "507955b4",
   "metadata": {},
   "source": [
    "## Tipe Data\n",
    "Data sendiri memiliki tipe yang berbeda-beda. Dalam Python, tipe data dikelompokkan menjadi dua, yakni **tipe data primitif** dan **tipe data collection**.\n",
    "\n",
    "### Tipe Data Primitif\n",
    "**Tipe data primitif** merupakan jenis *paling dasar dalam pemrograman*. Tipe data ini **menyimpan single value**. Berikut adalah berbagai tipe data primitif.\n",
    "\n",
    "#### Numbers\n",
    "\n",
    "||Numbers|\n",
    "|:---:|:---:|\n",
    "|Integer|Bilangan bulat positif atau negatif dan tidak memiliki angka desimal. Contoh: 1; -20; 999; dan 0.|\n",
    "|Float|Bilangan riil yang dapat mewakili bilangan bulat atau bilangan desimal. Contoh: 3.14; 1; dan 4.01E+1|\n",
    "|Complex|Representasi dari bilangan kompleks dalam matematika. Contoh: 1+2j|\n",
    "\n",
    "Tipe data primitif pertama, yakni **numbers** adalah tipe data angka berupa bilangan *bulat*, *riil*, dan *kompleks*.\n",
    "\n",
    "Ciri dari bilangan numbers adalah Anda dapat **mengoperasikan bilangan tersebut dengan operasi matematika sederhana**, seperti pertambahan (+), pengurangan (-), perkalian (*), dan operasi matematika lainnya."
   ]
  },
  {
   "cell_type": "code",
   "execution_count": null,
   "id": "73fbdce6",
   "metadata": {},
   "outputs": [
    {
     "name": "stdout",
     "output_type": "stream",
     "text": [
      "<class 'int'>\n",
      "<class 'float'>\n",
      "<class 'complex'>\n"
     ]
    }
   ],
   "source": [
    "x = 6 # int\n",
    "print(type(x))\n",
    "\n",
    "x = 6.0 # float\n",
    "print(type(x))\n",
    "\n",
    "x = 1+2j # complex\n",
    "print(type(x))"
   ]
  },
  {
   "cell_type": "markdown",
   "id": "ac0b6d9a",
   "metadata": {},
   "source": [
    "Perlu diperhatikan bahwa tipe data numbers bersifat **immutable** yang artinya *nilai di dalamnya tidak dapat diubah*. Mari lihat contoh di bawah ini."
   ]
  },
  {
   "cell_type": "code",
   "execution_count": 26,
   "id": "a5aaa0b9",
   "metadata": {},
   "outputs": [
    {
     "name": "stdout",
     "output_type": "stream",
     "text": [
      "6\n",
      "140725025113160\n",
      "7\n",
      "140725025113192\n"
     ]
    }
   ],
   "source": [
    "var = 6\n",
    "print(var)\n",
    "print(id(var)) # menggunakan fungsi id() untuk melihat alamat memori\n",
    "\n",
    "var = 7 # mengubah/mengganti nilai\n",
    "print(var)\n",
    "print(id(var))"
   ]
  },
  {
   "cell_type": "markdown",
   "id": "eb810a60",
   "metadata": {},
   "source": [
    "Pada contoh di atas, kita berusaha untuk melakukan perubahan tipe data numbers dengan melakukan *inisialisasi ulang variabel*. Namun, ternyata hal tersebut bukan merupakan proses mengubah nilai variabel. Proses tersebut lebih bisa disebut sebagai **membuat objek baru dengan nilai baru**. Ketika menjalankan program di atas, Anda juga dapat melihat alamat memori (memory address) dari variabel “var” yang pertama dan yang kedua **berbeda**. Hal ini membuktikan secara natural bahwa **integer atau numbers merupakan immutable**. Alih-alih nilai integer di atas diperbarui, ternyata nilai tersebut masih bernilai sama karena kita masih bisa menampilkannya dengan nama variabel yang identik.\n",
    "\n",
    "Sebenarnya, **semua tipe data primitif atau single-value (numbers, boolean, string) sudah dapat dipastikan adalah immutable secara natural**. Banyak programmer beranggapan bahwa dengan melakukan inisialisasi ulang variabel pada Python dapat memperbarui atau mengubah nilai tersebut. Nyatanya, tindakan tersebut *menyebabkan program membuat objek baru dengan nilai baru alih-alih mengubahnya*.\n",
    "\n",
    "#### Boolean\n",
    "\n",
    "||Boolean|\n",
    "|:---:|:---:|\n",
    "|True|Bernilai benar|\n",
    "|False|Bernilai salah|\n",
    "\n",
    "Tipe data primitif kedua adalah **boolean**, yakni tipe data yang *hanya bernilai TRUE atau FALSE*. Tipe data ini *merepresentasikan nilai kebenaran (truth values*).\n",
    "\n",
    "Sebenarnya, setiap variabel yang memiliki nilai bisa dievaluasi dan menghasilkan nilai true. Hanya ada beberapa *nilai yang akan dianggap bernilai false* sebagai berikut:\n",
    "1) Nilai yang sudah didefinisikan bernilai salah: None dan False.\n",
    "2) Angka nol dari semua tipe numerik: 0, 0.0, 0j, Decimal(0), Fraction(0,1).\n",
    "3) Urutan (sequence) dan koleksi (collection) yang kosong: “”, (), {}, set(), range(0). "
   ]
  },
  {
   "cell_type": "code",
   "execution_count": null,
   "id": "11dbfadc",
   "metadata": {},
   "outputs": [
    {
     "name": "stdout",
     "output_type": "stream",
     "text": [
      "<class 'bool'>\n",
      "<class 'bool'>\n"
     ]
    }
   ],
   "source": [
    "x = True # bool\n",
    "print(type(x))\n",
    "x = False # bool\n",
    "print(type(x))"
   ]
  },
  {
   "cell_type": "markdown",
   "id": "9d10c316",
   "metadata": {},
   "source": [
    "#### String\n",
    "String merupakan **karakter yang berurutan**. Ketika Anda membuat variabel bernilai string tentu *diawali dengan single quote (‘’) atau double quote (“”)*."
   ]
  },
  {
   "cell_type": "code",
   "execution_count": 54,
   "id": "55774359",
   "metadata": {},
   "outputs": [
    {
     "name": "stdout",
     "output_type": "stream",
     "text": [
      "<class 'str'>\n",
      "<class 'str'>\n"
     ]
    }
   ],
   "source": [
    "x = 'Mahir Python' # ini str\n",
    "print(type(x))\n",
    "x = \"Mahir SQL\" # ini str juga\n",
    "print(type(x))"
   ]
  },
  {
   "cell_type": "markdown",
   "id": "102dc0c5",
   "metadata": {},
   "source": [
    "Beberapa *fakta menarik* lainnya dari string Python adalah berikut.\n",
    "1) Anda dapat menggunakan **tiga single quote atau double quote** untuk *menyimpan string yang lebih dari satu baris (multi-line)*."
   ]
  },
  {
   "cell_type": "code",
   "execution_count": 18,
   "id": "fd19867f",
   "metadata": {},
   "outputs": [
    {
     "name": "stdout",
     "output_type": "stream",
     "text": [
      "Halo Saya Muhammad Fathir Rizki!\n",
      "Saya sedang belajar Python\n",
      "Agar bisa menjadi Data specialist\n",
      "\n",
      "Halo Saya Muhammad Fathir Rizki!\n",
      "Saya sedang belajar Python\n",
      "Agar bisa menjadi AI specialist\n",
      "\n"
     ]
    }
   ],
   "source": [
    "multi_line = '''Halo Saya Muhammad Fathir Rizki!\n",
    "Saya sedang belajar Python\n",
    "Agar bisa menjadi Data specialist\n",
    "''' # multi line\n",
    "print(multi_line)\n",
    "\n",
    "multi_line = \"\"\"Halo Saya Muhammad Fathir Rizki!\n",
    "Saya sedang belajar Python\n",
    "Agar bisa menjadi AI specialist\n",
    "\"\"\" # multi line juga, cuman pake \"\"\n",
    "print(multi_line)"
   ]
  },
  {
   "cell_type": "markdown",
   "id": "35dadb86",
   "metadata": {},
   "source": [
    "2) String merupakan urutan karakter yang setiap karakternya **memiliki indeks**. Anda dapat mengakses setiap karakter dari string (*substring*) dengan menggunakan *metode indexing*. Perlu diingat bahwa indeks **selalu dimulai dari 0**."
   ]
  },
  {
   "cell_type": "code",
   "execution_count": 56,
   "id": "aa0c0176",
   "metadata": {},
   "outputs": [
    {
     "name": "stdout",
     "output_type": "stream",
     "text": [
      "S\n",
      "j\n"
     ]
    }
   ],
   "source": [
    "x = \"SQL juara\"\n",
    "print(x[0])\n",
    "print(x[4])\n",
    "\n",
    "# x[0] = A\n",
    "# tidak bisa mengubah substring karena immutable"
   ]
  },
  {
   "cell_type": "markdown",
   "id": "af2fd8e4",
   "metadata": {},
   "source": [
    "3) Namun, Anda **tidak dapat mengubah substring di dalamnya**. Ini dikarenakan string pada Python bersifat *immutable*.\n",
    "4) Anda dapat mengakses beberapa substring dengan menggunakan *metode indexing dan slicing*.\n",
    "\n",
    "    Pada kode di bawah, diambil substring dari indeks ke-2 hingga indeks terakhir dengan menggunakan **metode slicing**. Metode slicing adalah cara yang sering digunakan untuk *mendapatkan bagian dari suatu list atau array*. Metode ini dapat diterapkan pada string untuk mengambil satu atau banyak substring. "
   ]
  },
  {
   "cell_type": "code",
   "execution_count": 57,
   "id": "c0d0aa27",
   "metadata": {},
   "outputs": [
    {
     "name": "stdout",
     "output_type": "stream",
     "text": [
      "coding\n"
     ]
    }
   ],
   "source": [
    "x = 'Dicoding'\n",
    "print(x[2:])"
   ]
  },
  {
   "cell_type": "markdown",
   "id": "e567c66c",
   "metadata": {},
   "source": [
    "5) Anda dapat menampilkan teks/string berdasarkan input dari pengguna dengan berbagai cara:\n",
    "    - Formatted String\n",
    "    - %-formatting\n",
    "    - str.format()\n",
    "\n",
    "    Perhatikan kode-kode di bawah ini!"
   ]
  },
  {
   "cell_type": "code",
   "execution_count": 66,
   "id": "1c805b39",
   "metadata": {},
   "outputs": [
    {
     "name": "stdout",
     "output_type": "stream",
     "text": [
      "Calon orang sukses: Muhammad Fathir Rizki\n",
      "Calon orang sukses: Muhammad Fathir Rizki\n",
      "Calon orang sukses: Muhammad Fathir Rizki\n"
     ]
    }
   ],
   "source": [
    "nama = 'Muhammad Fathir Rizki'\n",
    "\n",
    "# Formatted String\n",
    "print(f\"Calon orang sukses: {nama}\")\n",
    "\n",
    "# %-formatting\n",
    "print(\"Calon orang sukses: %s\" % (nama))\n",
    "\n",
    "# str.format()\n",
    "print(\"Calon orang sukses: {}\" .format(nama))"
   ]
  },
  {
   "cell_type": "markdown",
   "id": "a88cfa4f",
   "metadata": {},
   "source": [
    "### Tipe Data Collection\n",
    "Tipe data collection merupakan tipe data yang **menyimpan satu atau lebih data primitif sebagai satu kelompok**.\n",
    "\n",
    "#### List\n",
    "List merupakan jenis **kumpulan data terurut (ordered sequence)** dan salah satu tipe data yang sering digunakan pada Python. List dalam Python ini *serupa, tetapi tak sama dengan array pada bahasa pemrograman lainnya*. List Python **tidak mengharuskan memiliki tipe data yang sama** di dalamnya, sedangkan array sebaliknya.\n",
    "\n",
    "Melakukan inisialisasi list pada Python cukup mudah, yakni menggunakan **kurung siku “[]”** dan **setiap elemennya dipisahkan dengan koma**.\n",
    "\n",
    "Setiap data atau elemen dalam list **memiliki indeks yang selalu dimulai dari 0**. Anda dapat mengakses setiap indeks pada list dengan *metode indexing*. "
   ]
  },
  {
   "cell_type": "code",
   "execution_count": 110,
   "id": "02c6326c",
   "metadata": {},
   "outputs": [
    {
     "name": "stdout",
     "output_type": "stream",
     "text": [
      "<class 'list'>\n",
      "True\n",
      "True\n",
      "coding\n"
     ]
    }
   ],
   "source": [
    "x = [1, 2.2, 'Dicoding', True]\n",
    "print(type(x)) # list\n",
    "print(x[3]) # mengakses elemen melalui metode indexing\n",
    "print(x[-1]) # cara lain untuk melakukan indexing\n",
    "print(x[2][2:]) # mengakses dan slicing substring 'Dicoding'"
   ]
  },
  {
   "cell_type": "markdown",
   "id": "061d3e9a",
   "metadata": {},
   "source": [
    "List Python bersifat **mutable** yang artinya *nilai di dalamnya dapat diubah*."
   ]
  },
  {
   "cell_type": "code",
   "execution_count": 84,
   "id": "61a68bd5",
   "metadata": {},
   "outputs": [
    {
     "name": "stdout",
     "output_type": "stream",
     "text": [
      "['Indonesia', 19, False, 0.5]\n"
     ]
    }
   ],
   "source": [
    "x = [\"Sukses\", 19, False, 0.5]\n",
    "x[0] = 'Indonesia' # mengubah elemen di indeks ke-0\n",
    "print(x)"
   ]
  },
  {
   "cell_type": "markdown",
   "id": "88276f6c",
   "metadata": {},
   "source": [
    "Adapun konsep slicing merujuk pada pengambilan data berdasarkan indeks dari rentang tertentu. Slicing pada Python mengikuti pola sebagai berikut.\n",
    "\n",
    "|sequence[start:stop:step]|\n",
    "|---|\n",
    "\n",
    "Start merupakan **indeks pertama yang Anda ambil**. Stop merupakan **indeks terakhir yang menjadi batasan**. Step merupakan **jumlah elemen yang ingin Anda lewati di antara setiap elemen slice**. Secara default, *nilai step adalah 1*. Hal penting yang harus Anda ingat adalah *nilai start bersifat inklusif* sedangkan *stop bersifat eksklusif*."
   ]
  },
  {
   "cell_type": "code",
   "execution_count": 20,
   "id": "b8b3cf27",
   "metadata": {},
   "outputs": [
    {
     "name": "stdout",
     "output_type": "stream",
     "text": [
      "[1, 3, 5]\n",
      "[3, 4, 5, 6, 7, 8, 9, 10]\n",
      "[1, 3, 5, 7, 9]\n",
      "[1, 2, 3, 4, 5, 6, 7]\n"
     ]
    }
   ],
   "source": [
    "x = [1,2,3,4,5,6,7,8,9,10]\n",
    "\n",
    "print(x[0:5:2]) # [1, 3, 5]\n",
    "print(x[2:]) # [3, 4, 5, 6, 7, 8, 9, 10]\n",
    "print(x[:9:2]) # [1, 3, 5, 7, 9]\n",
    "print(x[:7]) # [1, 2, 3, 4, 5, 6, 7]"
   ]
  },
  {
   "cell_type": "markdown",
   "id": "6f9dc01a",
   "metadata": {},
   "source": [
    "#### Tuple\n",
    "**Tuple** adalah **jenis dari list yang tidak dapat diubah elemennya**. Umumnya, tuple digunakan untuk *data yang bersifat sekali deklarasi dan dapat dieksekusi lebih cepat*. Tuple didefinisikan dengan kurung **“()“** dan setiap elemen di dalamnya **dipisahkan dengan koma**.\n",
    "\n",
    "*Metode indexing* dan *slicing* juga berlaku pada tuple *sama seperti list*. Tuple bersifat **immutable** yang artinya tidak dapat diubah."
   ]
  },
  {
   "cell_type": "code",
   "execution_count": 112,
   "id": "5a4f1704",
   "metadata": {},
   "outputs": [
    {
     "name": "stdout",
     "output_type": "stream",
     "text": [
      "<class 'tuple'>\n",
      "Juara Data\n",
      "(2.1, 'Juara Data', True)\n"
     ]
    }
   ],
   "source": [
    "x = (2.1,'Juara Data', True, 49) # menggunakan tanda () bukan []\n",
    "print(type(x)) # tuple\n",
    "print(x[1])\n",
    "print(x[0:3:1])\n",
    "# tuple[3] = 55 TIDAK BISA KARENA IMMUTABLE"
   ]
  },
  {
   "cell_type": "markdown",
   "id": "7aa6de42",
   "metadata": {},
   "source": [
    "#### Set\n",
    "Set adalah **kumpulan item bersifat unik**, **tanpa urutan (unordered collection)**, dan dapat diinisialisasikan dengan kurawal **“{}”** di mana setiap elemennya dipisahkan dengan koma. Tidak sama seperti list, dalam set kita *tidak bisa melakukan indexing* karena set **tidak memiliki indeks**. Selain tanpa urutan (unordered collection). Set juga bersifat unik, artinya, **data yang Anda simpan pada set tidak akan ada duplikat**. Anda dapat memanfaatkan hal ini untuk *menghilangkan duplikat pada suatu data*."
   ]
  },
  {
   "cell_type": "code",
   "execution_count": null,
   "id": "7bca61bd",
   "metadata": {},
   "outputs": [
    {
     "name": "stdout",
     "output_type": "stream",
     "text": [
      "<class 'set'>\n",
      "{16, 1, 2, 6, 23, 11}\n"
     ]
    }
   ],
   "source": [
    "x = {1,2,2,6,11,23,16,6}\n",
    "# print(x[0]) 'set' object is not subscriptable\n",
    "print(type(x)) # set\n",
    "print(x) # akan menghilangkan data yang duplikat"
   ]
  },
  {
   "cell_type": "markdown",
   "id": "30bd7edc",
   "metadata": {},
   "source": [
    "Terakhir, set adalah **himpunan dalam matematika**. Ini maknanya Anda *dapat melakukan operasi union (gabungan) dan intersection (irisan)* pada set. Python menyediakan method “**.union()**” dan “**.intersection()**” untuk tipe data set."
   ]
  },
  {
   "cell_type": "code",
   "execution_count": 120,
   "id": "3f57f6af",
   "metadata": {},
   "outputs": [
    {
     "name": "stdout",
     "output_type": "stream",
     "text": [
      "Union set:  {1, 2, 3, 4, 5, 8}\n",
      "Intersection set:  {3, 5}\n"
     ]
    }
   ],
   "source": [
    "set1 = {1,3,5,8}\n",
    "set2 = {2,3,4,5}\n",
    "\n",
    "union = set1 .union(set2) # {1,2,3,4,5,8}\n",
    "intersection = set1 .intersection(set2) # {3,5}\n",
    "\n",
    "print('Union set: ', union)\n",
    "print('Intersection set: ', intersection)"
   ]
  },
  {
   "cell_type": "markdown",
   "id": "cc4cccbc",
   "metadata": {},
   "source": [
    "#### Dictionary\n",
    "Dictionary pada Python merupakan **kumpulan pasangan key-value yang bersifat tidak berurutan**. Dictionary dapat digunakan untuk *menyimpan data kecil hingga besar*. Pada Python, *dictionary didefinisikan dengan kurawal* **\"{}\"** dan tambahan definisi berikut:\n",
    "1) Setiap elemen pasangan key-value dipisahkan dengan koma (,);\n",
    "2) Key dan value dipisahkan dengan titik dua (:);\n",
    "3) Key dan value dapat berupa tipe variabel/objek apa pun.\n",
    "\n",
    "Dalam mengambil setiap nilai/elemen pada dictionary, Anda harus **mengetahui key (kunci)** untuk mengakses setiap **value-nya (nilai)**. Hal ini berbeda dengan tipe data sebelumnya yang cukup mengharuskan Anda untuk menyebutkan indeksnya saja. "
   ]
  },
  {
   "cell_type": "code",
   "execution_count": null,
   "id": "6fef9b8f",
   "metadata": {},
   "outputs": [
    {
     "name": "stdout",
     "output_type": "stream",
     "text": [
      "<class 'dict'>\n",
      "{'name': 'Muhammad Fathir Rizki', 'age': 19, 'job': 'AI specialist', 'isSuccess': True}\n",
      "AI specialist\n"
     ]
    }
   ],
   "source": [
    "x = {'name':'Muhammad Fathir Rizki', 'age':19, 'job':'AI specialist', 'isSuccess':True}\n",
    "print(type(x)) # dict\n",
    "print(x)\n",
    "# print(x[3]) TIDAK BISA KARENA UNORDERED COLLECTION\n",
    "print(x['job']) # mengakses elemen dengan key-nya"
   ]
  },
  {
   "cell_type": "markdown",
   "id": "850ea332",
   "metadata": {},
   "source": [
    "Beberapa hal lain terkait dictionary dapat dilihat pada poin-poin berikut.\n",
    "1) Menambah Data pada Dictionary\n",
    "\n",
    "    Untuk menambahkan data pada Dictionary, Anda cukup **memasukkan key dan value-nya** seperti pada contoh kode di bawah, yakni “x[‘status’] = ‘College Student’”.\n",
    "\n",
    "2) Menghapus Data pada Dictionary\n",
    "\n",
    "    Anda dapat menghapus data pada Dictionary dengan menggunakan sintaks **“del”**. Pada kode di bawah, data “age” dihapus.\n",
    "\n",
    "3) Mengubah Data pada Dictionary\n",
    "\n",
    "    Untuk mengubah value pada Dictionary, Anda dapat melakukannya dengan **mengakses key-nya dan lakukan inisialisasi variabel dengan nilai baru**. Pada kode di bawah, data “name” diubah dari “Muhammad Fathir Rizki” menjadi “Orang Sukses”."
   ]
  },
  {
   "cell_type": "code",
   "execution_count": 134,
   "id": "b5f294f2",
   "metadata": {},
   "outputs": [
    {
     "name": "stdout",
     "output_type": "stream",
     "text": [
      "{'name': 'Muhammad Fathir Rizki', 'age': 19, 'job': 'AI specialist', 'isSuccess': True, 'status': 'College Student'}\n",
      "{'name': 'Muhammad Fathir Rizki', 'job': 'AI specialist', 'isSuccess': True, 'status': 'College Student'}\n",
      "{'name': 'Orang Sukses', 'job': 'AI specialist', 'isSuccess': True, 'status': 'College Student'}\n"
     ]
    }
   ],
   "source": [
    "x = {'name':'Muhammad Fathir Rizki', 'age':19, 'job':'AI specialist', 'isSuccess':True}\n",
    "\n",
    "# Menambah Data\n",
    "x['status'] = 'College Student'\n",
    "print(x)\n",
    "# Menghapus Data\n",
    "del x['age']\n",
    "print(x)\n",
    "# Mengubah Data\n",
    "x['name'] = 'Orang Sukses'\n",
    "print(x)"
   ]
  },
  {
   "cell_type": "markdown",
   "id": "ac8597dc",
   "metadata": {},
   "source": [
    "AGAR MEMUDAHKAN, berikut visualisasi Tipe Data Collection dalam bentuk tabel:\n",
    "\n",
    "|Collection Data Types|initialization|Mutable|Ordered|Unique|Information|\n",
    "|:---:|:---:|:---:|:---:|:---:|:---:|\n",
    "|List|[...]|True|True|False|Ordered sequence of items|\n",
    "|Tuple|(...)|False|True|False|Immutable ordered sequence|\n",
    "|Set|{...} / set()|True|False|True|Unordered collection of unique items|\n",
    "|Dictionary|{'key':'value'}|True|True (insertion-ordered)|True|Collection of key-value pairs|"
   ]
  },
  {
   "cell_type": "markdown",
   "id": "7a4da6cc",
   "metadata": {},
   "source": [
    "### Konversi antara Tipe Data\n",
    "Anda dapat melakukan *konversi antar tipe data dengan menggunakan beberapa fungsi*. **Fungsi** merupakan **blok kode yang dapat dipanggil untuk melakukan tugas tertentu**. Di bawah ini merupakan berbagai fungsi yang dapat digunakan untuk mengonversi data."
   ]
  },
  {
   "cell_type": "code",
   "execution_count": 17,
   "id": "d25f7c1b",
   "metadata": {},
   "outputs": [
    {
     "name": "stdout",
     "output_type": "stream",
     "text": [
      "10.0 \n",
      "\n",
      "2\n",
      "-3 \n",
      "\n",
      "25\n",
      "25\n",
      "4.1\n",
      "4.1 \n",
      "\n",
      "{1, 2, 3}\n",
      "(4, 5, 6)\n",
      "['h', 'e', 'l', 'l', 'o'] \n",
      "\n",
      "{1: 2, 3: 4}\n",
      "{5: 6, 7: 8}\n",
      "{'a': 'b', 'c': 'd'}\n",
      "{'e': 'f', 'g': 'h'}\n"
     ]
    }
   ],
   "source": [
    "# Konversi Integer ke Float\n",
    "print(float(10), '\\n') # 10.0\n",
    "\n",
    "# Konversi Float ke Integer\n",
    "print(int(2.5)) # 2\n",
    "print(int(-3.9),'\\n') # -3\n",
    "\n",
    "# Konversi dari-dan-ke String\n",
    "print(int('25')) # 25 <int>\n",
    "print(str(25)) # 25 <str>\n",
    "print(float(\"4.1\")) # 4.1 <float>\n",
    "print(str(4.1),'\\n') # 4.1 <str>\n",
    "# print(int(\"1p\")) invalid literal for int() with base 10: '1p'\n",
    "\n",
    "# Konversi Kumpulan Data\n",
    "print(set([1,2,3])) # menjadi set {1,2,3}\n",
    "print(tuple({4,5,6})) # menjadi tuple (4,5,6)\n",
    "print(list('hello'),'\\n') # menjadi list ['h','e','l','l','o']\n",
    "\n",
    "# Konversi Dictionary\n",
    "# Untuk konversi ke dictionary, data harus memenuhi persyaratan key-value.\n",
    "print(dict([[1,2],[3,4]])) # list dalam list\n",
    "print(dict(((5,6), (7,8)))) # tuple dalam tuple\n",
    "print(dict([('a','b'),('c','d')])) # tuple dalam list\n",
    "print(dict((['e','f'],['g','h']))) # list dalam tuple\n",
    "# print(dict({{1,2},{3,4}})) unhashable type: 'set'"
   ]
  }
 ],
 "metadata": {
  "kernelspec": {
   "display_name": ".venv",
   "language": "python",
   "name": "python3"
  },
  "language_info": {
   "codemirror_mode": {
    "name": "ipython",
    "version": 3
   },
   "file_extension": ".py",
   "mimetype": "text/x-python",
   "name": "python",
   "nbconvert_exporter": "python",
   "pygments_lexer": "ipython3",
   "version": "3.13.2"
  }
 },
 "nbformat": 4,
 "nbformat_minor": 5
}
