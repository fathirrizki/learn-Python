{
 "cells": [
  {
   "cell_type": "markdown",
   "id": "213674e7",
   "metadata": {},
   "source": [
    "## Duck Typing\n",
    "|\"If it walks like a duck and it quacks like a duck, then it must be a duck\"|\n",
    "|:---:|\n",
    "\n",
    "Duck typing menjelaskan bahwa sebuah *tipe atau class* dari sebuah object **tidak lebih penting** daripada *method* yang menjadi perilakunya.\n",
    "\n",
    "## Class, Object, dan Method\n",
    "Object-oriented programming adalah *paradigma pemrograman* berorientasi pada **pengorganisasian kode menjadi objek-objek** yang memiliki **atribut** dan **perilaku (method)**. Objek merupakan *perwujudan dari class* dengan anggapan bahwa kelas adalah *cetakan* yang memungkinkan kita dapat membuat banyak objek berdasarkan cetakan tersebut.\n",
    "\n",
    "Method adalah **perilaku** atau **tindakan** yang dapat dilakukan oleh *objek atau kelas*. Atribut adalah **variabel yang menjadi identitas** dari *objek atau kelas*.\n",
    "\n",
    "|Nama|Deskripsi|Contoh|\n",
    "|:---:|:---:|:---:|\n",
    "|Class (Kelas)|Cetakan (blueprint) untuk membuat objek-objek yang memiliki karakteristik dan perilaku serupa.|Mobil; Manusia.|\n",
    "|Object (Objek)|Perwujudan dari kelas.|Mobil Dicoding; Budi, Herman, Asep.|\n",
    "|Perilaku (Method)|Perilaku atau tindakan yang dapat dilakukan oleh objek atau kelas.|Maju, mundur, berbelok, berhenti.|\n",
    "|Atribut|Variabel yang menjadi identitas dari objek atau kelas.|Warna, kecepatan, merek.|\n",
    "\n",
    "### Class\n",
    "Pembuatan class dalam Python *mirip seperti fungsi*, yakni perlu menggunakan keyword untuk bisa membuatnya. Keyword atau kata kunci untuk membuat kelas dalam Python adalah **\"class\"**. Quick info, class merupakan blok kode sehingga Anda perlu **memperhatikan indentasi** untuk membuatnya.\n",
    "\n",
    "```\n",
    "class class_name:\n",
    "    code_block_that_contain_attribute_or_method\n",
    "```\n",
    "\n",
    "### Object\n",
    "Untuk memanggil kelas yang telah dibuat, kita **membuat sebuah objek**. Berdasarkan KBBI dari kemendikbud, objek merupakan *benda, hal, dan sebagainya yang dijadikan sasaran untuk diteliti, diperhatikan, dan sebagainya*. Keterkaitan antara objek dan class sangat erat. Contohnya, jika Anda membuat kelas bernama manusia, objeknya adalah manusia dengan nama yang berbeda.\n",
    "\n",
    "Anda bisa umpamakan kelas adalah **bentuk abstrak dari objek**, layaknya *cetakan* atau *blueprint*. Saat kelas diwujudkan menjadi bentuk yang lebih nyata, proses ini disebut sebagai **instansiasi**. Itulah sebabnya objek disebut juga sebagai **instance** atau **instance of the class**."
   ]
  },
  {
   "cell_type": "code",
   "execution_count": 3,
   "id": "3f8fe737",
   "metadata": {},
   "outputs": [
    {
     "name": "stdout",
     "output_type": "stream",
     "text": [
      "Ungu\n",
      "Ungu \n",
      "\n",
      "Matic\n",
      "Manual\n"
     ]
    }
   ],
   "source": [
    "class Mobil:\n",
    "    warna = 'Ungu' # Atribut yang didefiniskan di kelas\n",
    "    jenis = 'Matic' # Atribut yang didefiniskan di kelas\n",
    "\n",
    "mobil_1 = Mobil() # Memanggil kelas yang berarti membuat object, mobil_1 adalah object\n",
    "\n",
    "print(Mobil.warna)\n",
    "print(mobil_1.warna, '\\n')\n",
    "\n",
    "mobil_1.jenis = 'Manual' # Mengganti nilai atribut pada object mobil_1\n",
    "\n",
    "print(Mobil.jenis)\n",
    "print(mobil_1.jenis) # Berbeda dari atribut kelas, karena sudah digantikan dengan nilai baru"
   ]
  },
  {
   "cell_type": "markdown",
   "id": "bced78fd",
   "metadata": {},
   "source": [
    "Pada contoh di atas, kita memanggil atribut objek dan kelas yang berasal dari kelas Mobil, yaitu \"Ungu\". Untuk memanggil atribut, kita dapat **menyebutkan objek** atau **instance** diikuti **dengan nama atributnya**.\n",
    "\n",
    "Memanggil atribut kelas: `print(class_name.attribute_name)`\n",
    "\n",
    "Memanggil atribut objek: `print(object_name.attribute_name)`\n",
    "\n",
    "Kita pun **dapat mengubah atribut kelas atau objek**, untuk mengubahnya dapat menggunakan cara yang sama seperti memanggil atribut terlebih dahulu lalu inisialisasi value/nilai perubahan.\n",
    "\n",
    "### Attribute\n",
    "Dalam Python, ada *dua jenis* atribut kelas yang dapat dibagi, yaitu **atribut kelas** dan **atribut objek** atau **instance**.\n",
    "\n",
    "Atribut kelas adalah jenis atribut yang secara **otomatis terdefinisi** dan **menjadi bawaan kelas** *ketika instance dibuat berdasarkan kelas tersebut*. Anda dapat menganggapnya sebagai *nilai default* atau *bawaan dari kelas*. Jika Anda membuat beberapa objek berdasarkan kelas yang memiliki jenis atribut ini, setiap objek akan memiliki atribut yang sama dengan *nilai yang sama*.\n",
    "\n",
    "Namun, perlu diperhatikan bahwa jenis atribut kelas memiliki kelemahan, yaitu ketika nilai atribut kelas diubah, **perubahan tersebut akan memengaruhi semua objek yang dibuat berdasarkan kelas** tersebut. Kelemahan ini akan menjadi masalah jika kita ingin setiap objek memiliki atribut masing-masing yang menjadi ciri khasnya. Sama seperti manusia yang bisa beragam dan mempunyai ciri khas walau dalam satu \"blueprint\" yang sama."
   ]
  },
  {
   "cell_type": "code",
   "execution_count": 2,
   "id": "98f3dbd5",
   "metadata": {},
   "outputs": [
    {
     "name": "stdout",
     "output_type": "stream",
     "text": [
      "kintamani\n",
      "kintamani\n",
      "bitter\n",
      "bitter \n",
      "\n",
      "gayo\n",
      "gayo\n"
     ]
    }
   ],
   "source": [
    "class Coffee:\n",
    "    beans = 'kintamani' # Atribut kelas\n",
    "    taste = 'bitter' # Atribut kelas\n",
    "\n",
    "coffee_1 = Coffee() # Instansiasi\n",
    "coffee_2 = Coffee() # Instansiasi\n",
    "\n",
    "print(coffee_1.beans)\n",
    "print(coffee_2.beans)\n",
    "print(coffee_1.taste)\n",
    "print(coffee_2.taste, '\\n')\n",
    "\n",
    "Coffee.beans = 'gayo' # Mengubah atribut kelas\n",
    "\n",
    "print(coffee_1.beans) # Akan berubah karena atribut kelas diubah\n",
    "print(coffee_2.beans)"
   ]
  },
  {
   "cell_type": "markdown",
   "id": "a5182f59",
   "metadata": {},
   "source": [
    "### Class Constructor\n",
    "Jenis atribut yang kedua adalah **atribut objek** atau **atribut instance**. Jenis atribut ini memungkinkan setiap instance dari kelas **memiliki atribut yang berbeda-beda sesuai dengan keinginan**. Untuk membuat atribut instance kita perlu menggunakan *class constructor*.\n",
    "\n",
    "Pembangun kelas atau class constructor adalah sebuah *fungsi khusus* dalam Python yang digunakan untuk **menentukan nilai awal atau kondisi awal dari suatu kelas**. Dengan fungsi ini, saat kita melakukan proses instansiasi atau pembuatan objek baru, hal pertama yang dilakukan adalah *memanggilnya terlebih dahulu*."
   ]
  },
  {
   "cell_type": "code",
   "execution_count": 1,
   "id": "de9793be",
   "metadata": {},
   "outputs": [],
   "source": [
    "class Human:\n",
    "    def __init__(self): # Self menjadi parameter, ia merujuk kepada objek yang diinstansiasikan\n",
    "        self.species = 'Homo Sapiens'"
   ]
  },
  {
   "cell_type": "markdown",
   "id": "4374766e",
   "metadata": {},
   "source": [
    "Pada contoh di atas, kita membuat fungsi bernama \"\\_\\_init\\_\\_\" sebagai *fungsi khusus* untuk menjadi **constructor**. Selanjutnya, kita menggunakan *parameter self*, yakni sebuah **kata kunci untuk merujuk pada objek yang sedang diproses saat ini**.\n",
    "\n",
    "Ini artinya ketika Anda membuat instance baru bernama \"human_1\", constructor akan **dipanggil pertama kali** dan **self akan merujuk pada instance atau objek** \"human_1\" tersebut. Begitu pun kalau kita membuat instance baru lainnya bernama \"human_2\", constructor akan dipanggil pertama kali dan self akan merujuk pada instance \"human_2\".\n",
    "\n",
    "Hal ini memungkinkan setiap objek baru tersebut **memiliki atribut masing-masing**, *tidak lagi atribut kelas*. Jadi, kita **dapat mengubah atribut suatu objek tanpa memengaruhi objek lainnya**.\n",
    "\n",
    "Dengan begitu, *self.species* yang didefinisikan dalam constructor adalah **jenis dari atribut instance atau atribut objek**, yakni atribut yang terkait dengan instance atau objek itu sendiri, bukan kelas."
   ]
  },
  {
   "cell_type": "code",
   "execution_count": 14,
   "id": "a29f2547",
   "metadata": {},
   "outputs": [
    {
     "name": "stdout",
     "output_type": "stream",
     "text": [
      "['__class__', '__delattr__', '__dict__', '__dir__', '__doc__', '__eq__', '__firstlineno__', '__format__', '__ge__', '__getattribute__', '__getstate__', '__gt__', '__hash__', '__init__', '__init_subclass__', '__le__', '__lt__', '__module__', '__ne__', '__new__', '__reduce__', '__reduce_ex__', '__repr__', '__setattr__', '__sizeof__', '__static_attributes__', '__str__', '__subclasshook__', '__weakref__', 'isAlive', 'name', 'sex', 'species']\n",
      "['__class__', '__delattr__', '__dict__', '__dir__', '__doc__', '__eq__', '__firstlineno__', '__format__', '__ge__', '__getattribute__', '__getstate__', '__gt__', '__hash__', '__init__', '__init_subclass__', '__le__', '__lt__', '__module__', '__ne__', '__new__', '__reduce__', '__reduce_ex__', '__repr__', '__setattr__', '__sizeof__', '__static_attributes__', '__str__', '__subclasshook__', '__weakref__', 'isAlive', 'name', 'sex', 'species']\n",
      "['__class__', '__delattr__', '__dict__', '__dir__', '__doc__', '__eq__', '__firstlineno__', '__format__', '__ge__', '__getattribute__', '__getstate__', '__gt__', '__hash__', '__init__', '__init_subclass__', '__le__', '__lt__', '__module__', '__ne__', '__new__', '__reduce__', '__reduce_ex__', '__repr__', '__setattr__', '__sizeof__', '__static_attributes__', '__str__', '__subclasshook__', '__weakref__', 'species']\n"
     ]
    }
   ],
   "source": [
    "class Human:\n",
    "    species = 'Homo Sapiens' # Atribut kelas\n",
    "\n",
    "    def __init__(self,name,sex): # Atribut objek\n",
    "        self.name = name\n",
    "        self.sex = sex\n",
    "        self.isAlive = True # Atribut objek yang nilainya sudah ditentukan\n",
    "\n",
    "human_1 = Human('Jeff', 'Male')\n",
    "human_2 = Human('Alia', 'Female')\n",
    "\n",
    "print(dir(human_1))\n",
    "print(dir(human_2))\n",
    "print(dir(Human))"
   ]
  },
  {
   "cell_type": "markdown",
   "id": "7c6b991e",
   "metadata": {},
   "source": [
    "### Method\n",
    "Setelah atribut, saatnya membahas **method sebagai perilaku** atau **tindakan yang dapat dilakukan oleh objek atau kelas**. Pada pembuatan metode , sebenarnya kita *membuat fungsi di dalam kelas itu sendiri*. Dengan kata lain, kita menggunakan kata kunci **\"def\"** atau membuat fungsi sebagai suatu metode. Python membagi method menjadi tiga jenis sebagai berikut:\n",
    "\n",
    "1. Metode dari object (*object method*).\n",
    "2. Metode secara statis (*static method*).\n",
    "3. Metode dari class (*class method*).\n",
    "\n",
    "Dua metode terakhir sangat erat kaitannya dengan konsep dekorator. Dekorator adalah **fungsi dalam Python yang mengembalikan fungsi lain**, biasanya **diawali dengan sintaks \"@\"** di awal.  Contoh sederhana dekorator sebagai berikut:"
   ]
  },
  {
   "cell_type": "code",
   "execution_count": 88,
   "id": "f8161de3",
   "metadata": {},
   "outputs": [
    {
     "name": "stdout",
     "output_type": "stream",
     "text": [
      "Sebelum fungsi dieksekusi.\n",
      "Hello, world!\n",
      "Setelah fungsi dieksekusi.\n"
     ]
    }
   ],
   "source": [
    "def my_decorator(func):\n",
    "    def wrapper():\n",
    "        print(\"Sebelum fungsi dieksekusi.\")\n",
    "        func()\n",
    "        print(\"Setelah fungsi dieksekusi.\")\n",
    "    return wrapper\n",
    "\n",
    "# Dekorasi fungsi dengan decorator\n",
    "@my_decorator\n",
    "def say_hello():\n",
    "    print(\"Hello, world!\")\n",
    "\n",
    "# Memanggil fungsi yang sudah didekorasi\n",
    "say_hello()"
   ]
  },
  {
   "cell_type": "markdown",
   "id": "5bd99cf6",
   "metadata": {},
   "source": [
    "#### Metode dari Objek (Object Method)\n",
    "Jenis pertama adalah **method yang melekat terhadap objek**. Ciri dari jenis metode ini adalah adanya **parameter self** yang merujuk pada objek saat ini."
   ]
  },
  {
   "cell_type": "code",
   "execution_count": 125,
   "id": "c95cc35d",
   "metadata": {},
   "outputs": [
    {
     "name": "stdout",
     "output_type": "stream",
     "text": [
      "Your order is:\n",
      "Large sized Matcha with Sugar level: 0%, Syrup level: 25%, Ice level: Less\n",
      "\n",
      "Your order is:\n",
      "Small sized Matcha with Sugar level: 100%, Syrup level: 100%, Ice level: Normal\n"
     ]
    }
   ],
   "source": [
    "class Matcha:\n",
    "    def __init__(self,sugar = '100%',syrup = '100%',ice = 'Normal'):\n",
    "        self.sugar = sugar\n",
    "        self.syrup = syrup\n",
    "        self.ice = ice\n",
    "        self.size = 'Small'\n",
    "\n",
    "    def change_size(self,size):\n",
    "        self.size = size\n",
    "\n",
    "    def check_order(self):\n",
    "        print(f'''Your order is:\n",
    "{self.size} sized Matcha with Sugar level: {self.sugar}, Syrup level: {self.syrup}, Ice level: {self.ice}''')\n",
    "\n",
    "order_1 = Matcha('0%','25%','Less')\n",
    "order_2 = Matcha()\n",
    "\n",
    "order_1.change_size('Large') # Mengubah size menggunakan metode objek \"change_size\"\n",
    "\n",
    "order_1.check_order()\n",
    "print('')\n",
    "order_2.check_order()"
   ]
  },
  {
   "cell_type": "markdown",
   "id": "9139bc99",
   "metadata": {},
   "source": [
    "Jika menyadarinya, perbedaan ketika Anda memanggil method dan atribut terletak pada **penempatan tanda kurung “()”**. Ketika memanggil atribut, Anda *cukup menyebutkan nama atribut* tersebut tanpa ada tanda kurung “()”. Tetapi untuk memanggil method harus *menyebutkan nama method beserta tanda kurung “()” setelahnya*.\n",
    "\n",
    "Selain itu, saat kode di bawah ini dieksekusi,\n",
    "\n",
    "`order_1.change_size()`\n",
    "\n",
    "ia setara dengan kita melakukan kode berikut.\n",
    "\n",
    "`Matcha.change_size(order_1, 'Large')`\n",
    "\n",
    "Hal inilah yang dimaksud dengan **self pada object method** karena ketika kita memanggil object method, argumen pertamanya adalah *objek dia sendiri (self)*.\n",
    "\n",
    "Namun, object method adalah metode yang *melekat terhadap suatu objek* dan *menggunakan parameter self*. Jadi, kita **tidak bisa memanggil metode ini langsung melalui kelasnya**.\n",
    "\n",
    "#### Metode secara Statis (Static Method)\n",
    "Static method adalah **fungsi atau method pada sebuah kelas yang bersifat statis**. Artinya, metode atau fungsi ini *bersifat independen* dan *tidak terikat pada instance kelas*. Metode ini dapat dianggap seperti *kita membuat fungsi seperti biasa*, tetapi didefinisikan dalam kelas sehingga ini **menjadi perilaku untuk kelas tersebut**. Untuk membuat static method, Anda bisa menambahkan *dekorator @staticmethod* tepat sebelum mendefinisikan fungsi atau metode."
   ]
  },
  {
   "cell_type": "code",
   "execution_count": null,
   "id": "2e83060d",
   "metadata": {},
   "outputs": [
    {
     "name": "stdout",
     "output_type": "stream",
     "text": [
      "Ini adalah metode dari kelas Mobil\n",
      "Ini adalah metode dari kelas Mobil\n"
     ]
    }
   ],
   "source": [
    "class Mobil:\n",
    "    def __init__(self,brand):\n",
    "        self.brand = brand\n",
    "    \n",
    "    @staticmethod\n",
    "    def intro_mobil():\n",
    "        print('Ini adalah metode dari kelas Mobil')\n",
    "\n",
    "Mobil.intro_mobil() # Kelas dapat berperilaku method \"intro_mobil()\"\n",
    "\n",
    "mobil_1 = Mobil('Ford')\n",
    "mobil_1.intro_mobil() # Objek dapat berperilaku method \"intro_mobil()\" juga"
   ]
  },
  {
   "cell_type": "markdown",
   "id": "2eccefbd",
   "metadata": {},
   "source": [
    "#### Metode dari Kelas (Class Method)\n",
    "Metode terakhir adalah class method yang termasuk jenis metode cukup spesial dalam Python. Jika *object method identik dengan parameter self yang merujuk pada objek*, class method juga **memerlukan sebuah parameter** yang merujuk pada kelas.\n",
    "\n",
    "Pada contoh di bawah, kita membuat program yang sama, tetapi ada sedikit perbedaan, yakni **dekorator @classmethod digunakan**. Pada bagian fungsi intro_mobil, kita menambahkan **parameter cls**. Ini adalah *parameter wajib* dalam menggunakan dekorator @classmethod.\n",
    "\n",
    ">Catatan:\n",
    "Penamaan cls merupakan **kesepakatan bersama dari programmer Python** untuk memudahkan pembacaan kode. Anda dapat mengganti namanya, *tidak harus cls*."
   ]
  },
  {
   "cell_type": "code",
   "execution_count": 142,
   "id": "697ec00a",
   "metadata": {},
   "outputs": [
    {
     "name": "stdout",
     "output_type": "stream",
     "text": [
      "Ini adalah metode dari kelas Mobil\n",
      "Ini adalah metode dari kelas Mobil\n"
     ]
    }
   ],
   "source": [
    "class Mobil:\n",
    "    def __init__(self,brand):\n",
    "        self.brand = brand\n",
    "    \n",
    "    @classmethod\n",
    "    def intro_mobil(cls):\n",
    "        print('Ini adalah metode dari kelas Mobil')\n",
    "\n",
    "Mobil.intro_mobil() # Kelas dapat berperilaku method \"intro_mobil()\"\n",
    "\n",
    "mobil_1 = Mobil('Ford')\n",
    "mobil_1.intro_mobil() # Kelas dapat berperilaku method \"intro_mobil()\" juga"
   ]
  },
  {
   "cell_type": "markdown",
   "id": "840c4c29",
   "metadata": {},
   "source": [
    "Mengapa demikian? Sebab, ketika menggunakan class method, kita akan **menambahkan argumen tambahan pada posisi pertama berupa kelas itu sendiri**."
   ]
  },
  {
   "cell_type": "code",
   "execution_count": 151,
   "id": "c3a98b51",
   "metadata": {},
   "outputs": [
    {
     "name": "stdout",
     "output_type": "stream",
     "text": [
      "Nama: Asep, Gaji: 900\n",
      "Nama: Budi, Gaji: 1500\n",
      "2\n",
      "2\n"
     ]
    }
   ],
   "source": [
    "class Karyawan:\n",
    "    jumlah_karyawan = 0\n",
    "\n",
    "    def __init__(self,nama: str,gaji: int):\n",
    "        self.nama = nama\n",
    "        self.gaji = gaji\n",
    "        Karyawan.jumlah_karyawan += 1\n",
    "\n",
    "    def info(self):\n",
    "        print(f'Nama: {self.nama}, Gaji: {self.gaji}')\n",
    "\n",
    "    @classmethod # classmethod bisa menjadi init alternatif\n",
    "    def init(cls,nama: str,gaji: int):\n",
    "        return cls(nama,gaji)\n",
    "\n",
    "class Manajer(Karyawan):\n",
    "    pass\n",
    "\n",
    "orang_1 = Karyawan.init('Asep', 900)\n",
    "orang_2 = Manajer.init('Budi', 1500)\n",
    "orang_1.info()\n",
    "orang_2.info()\n",
    "print(Karyawan.jumlah_karyawan)\n",
    "print(Manajer.jumlah_karyawan) # Merujuk pada jumlah_karyawan di kelas Karyawan"
   ]
  },
  {
   "cell_type": "markdown",
   "id": "ad6dc33e",
   "metadata": {},
   "source": [
    "## Inheritance (Pewarisan)\n",
    "Kita dapat *membuat sebuah kelas baru* dengan *menggunakan kelas induk yang sudah ada*. Konsep ini disebut dengan '**inheritance**' atau dalam bahasa Indonesia artinya **pewarisan**.\n",
    "\n",
    "### Mekanisme Pewarisan\n",
    "Untuk melakukan pewarisan, anggap kita memiliki \"kelas A\" sebagai *induk* atau *kelas dasar*. Dari kelas A tersebut kita *membuat kelas baru bernama \"kelas B\"* sebagai *kelas turunan* dari kelas yang didapatkan (kelas A). Ketika kelas B mewarisi kelas A, secara otomatis kelas ini **memiliki fitur-fitur yang dimiliki oleh kelas A tersebut**, dalam hal ini **atribut-atribut** dan **metode-metode**.\n",
    "\n",
    "Kita bisa memiliki *perilaku dan atribut yang sama* dengan kelas sebelumnya. Bahkan kita bisa **menambahkan hal baru**. Hal yang perlu diperhatikan, jika kelas B memiliki *nama metode yang sama* dengan kelas A, metode tersebut akan **menimpa metode yang diwariskan oleh kelas A**."
   ]
  },
  {
   "cell_type": "code",
   "execution_count": 173,
   "id": "e4b89d2e",
   "metadata": {},
   "outputs": [
    {
     "name": "stdout",
     "output_type": "stream",
     "text": [
      "200\n",
      "Velocity added: 220\n",
      "Velocity after turbo: 270\n"
     ]
    }
   ],
   "source": [
    "class Bike:\n",
    "\n",
    "    def __init__(self,brand,velocity):\n",
    "        self.brand = brand\n",
    "        self.velocity = velocity\n",
    "    \n",
    "    def add_velocity(self):\n",
    "        self.velocity += 10\n",
    "\n",
    "class SportBike(Bike): # Membuat kelas baru berdasarkan kelas induk \"Bike\"\n",
    "\n",
    "    def add_velocity(self):\n",
    "        self.velocity += 20 # Override\n",
    "\n",
    "    def turbo(self): # Membuat method baru\n",
    "        self.velocity += 50\n",
    "\n",
    "bike_1 = SportBike('Ducati', 200) # Instansiasi\n",
    "\n",
    "print(bike_1.velocity)\n",
    "bike_1.add_velocity() # Memanggil method\n",
    "print(f'Velocity added: {bike_1.velocity}')\n",
    "bike_1.turbo() # Memanggil method\n",
    "print(f'Velocity after turbo: {bike_1.velocity}')"
   ]
  },
  {
   "cell_type": "markdown",
   "id": "7057fd79",
   "metadata": {},
   "source": [
    "### Override\n",
    "Selanjutnya, seperti yang dijelaskan di awal, ketika kita membuat metode baru di kelas turunan (kelas baru) dengan *nama yang sama* seperti metode di kelas induk, itu akan **menyebabkan metode baru menimpa (override) metode dari kelas induk**.\n",
    "\n",
    "Pada contoh di atas, kita *menambahkan metode baru bernama add_velocity*. Metode ini juga *ada di kelas Bike dasar*. Namun, kita **melakukan perbedaan** pada metode baru ini berupa penambahan kecepatan yang *awalnya sebesar 10* di kelas induk, **menjadi sebesar 20 di kelas baru**. Hasilnya, dapat kita lihat bahwa kecepatan kini bertambah 20 setiap kita memanggil metode add_velocity().\n",
    "\n",
    "Namun, perlu dipahami bahwa menimpa **bukan berarti mengubah metode dari kelas induk**. Hal ini karena metode dari kelas baru tersebut *merupakan hasil dari pewarisan* sehingga *tidak akan mengubah metode dari kelas induk*.\n",
    "\n",
    "### Super\n",
    "Lantas, bagaimana cara untuk kita ingin *menggunakan metode atau atribut dari kelas induk*, tetapi **tidak ingin menuliskan ulang semua kode**? Ini adalah tujuan dari adanya **super** dalam konsep OOP. Nama super sebenarnya merujuk pada kelas induk yang disebut juga sebagai **super class**. Kita bisa memanfaatkan konsep ini untuk **menghindari kode berulang dan memanfaatkan fungsi yang sudah ada pada kelas induk (super class)**."
   ]
  },
  {
   "cell_type": "code",
   "execution_count": null,
   "id": "2c07decb",
   "metadata": {},
   "outputs": [
    {
     "name": "stdout",
     "output_type": "stream",
     "text": [
      "200 \n",
      "\n",
      "Be careful! velocity raised up\n",
      "210\n"
     ]
    }
   ],
   "source": [
    "class Bike:\n",
    "\n",
    "    def __init__(self,brand,velocity):\n",
    "        self.brand = brand\n",
    "        self.velocity = velocity\n",
    "    \n",
    "    def add_velocity(self):\n",
    "        self.velocity += 10\n",
    "\n",
    "class SportBike(Bike): # Membuat kelas baru berdasarkan kelas induk \"Bike\"\n",
    "\n",
    "    def add_velocity(self):\n",
    "        super().add_velocity() # Menggunakan ulang kode yang sama persis dengan kelas dasar, oleh karena itu menggunakan super()\n",
    "        print('Be careful! velocity raised up')\n",
    "\n",
    "    def turbo(self): # Membuat method baru\n",
    "        self.velocity += 50\n",
    "\n",
    "bike_1 = SportBike('Ducati', 200) # Instansiasi\n",
    "print(bike_1.velocity, '\\n')\n",
    "bike_1.add_velocity()\n",
    "print(bike_1.velocity)"
   ]
  },
  {
   "cell_type": "markdown",
   "id": "0d0a1703",
   "metadata": {},
   "source": [
    "```\n",
    "def add_velocity(self):\n",
    "        super().add_velocity()\n",
    "        print('Be careful! velocity raised up')\n",
    "```\n",
    "\n",
    "Pada metode ini, kita menggunakan \"super()\" untuk **mengambil metode add_velocity yang berasal dari super class atau induknya**, yaitu kelas Bike. Dengan begitu, program akan menjalankan metode tersebut dan di bawahnya kita *menambahkan teks baru sesuai kebutuhan* pada kelas turunan berupa \"Be careful! velocity raised up\"."
   ]
  },
  {
   "cell_type": "code",
   "execution_count": 178,
   "id": "0dcb7da3",
   "metadata": {},
   "outputs": [
    {
     "name": "stdout",
     "output_type": "stream",
     "text": [
      "100\n",
      "150\n"
     ]
    }
   ],
   "source": [
    "# Code that worth to be saved hehe\n",
    "class Human:\n",
    "    species = 'Homo Sapiens'\n",
    "\n",
    "    def __init__(self,name: str,age: int):\n",
    "        self.name = name\n",
    "        self.age = age\n",
    "        self.stamina = 100\n",
    "\n",
    "    def drink(self):\n",
    "        print('Hmmm feeling fresh!')\n",
    "        self.stamina += 5\n",
    "\n",
    "    def eat(self):\n",
    "        print('Yum yum!')\n",
    "        self.stamina += 10\n",
    "\n",
    "    def move(self):\n",
    "        print('Its moving!')\n",
    "        self.stamina -= 20\n",
    "\n",
    "    def work(self):\n",
    "        print('Working for family')\n",
    "        self.stamina -= 35\n",
    "\n",
    "class Athlete(Human): # Mewariskan, Inheritance\n",
    "\n",
    "    def __init__(self, name, age):\n",
    "        super().__init__(name, age)\n",
    "        self.stamina = 150 # Berbeda dengan kelas sebelumnya\n",
    "\n",
    "    def drink(self):\n",
    "        print('Hmmm feeling fresh!')\n",
    "        self.stamina += 10 # Berbeda dengan kelas sebelumnya\n",
    "\n",
    "    def eat(self):\n",
    "        print('Yum yum!')\n",
    "        self.stamina += 15 # Berbeda dengan kelas sebelumnya\n",
    "\n",
    "    def move(self):\n",
    "        print('Its moving!')\n",
    "        self.stamina -= 10 # Berbeda dengan kelas sebelumnya\n",
    "\n",
    "    def work(self):\n",
    "        print('Working for family')\n",
    "        self.stamina -= 25 # Berbeda dengan kelas sebelumnya\n",
    "\n",
    "    def run(self): # Metode baru khusus kelas Athlete\n",
    "        print('Im running champ!')\n",
    "        self.stamina -= 15\n",
    "\n",
    "orang_1 = Human('Bagas', 31)\n",
    "orang_2 = Athlete('Laura', 21)\n",
    "print(orang_1.stamina)\n",
    "print(orang_2.stamina)"
   ]
  }
 ],
 "metadata": {
  "kernelspec": {
   "display_name": ".venv",
   "language": "python",
   "name": "python3"
  },
  "language_info": {
   "codemirror_mode": {
    "name": "ipython",
    "version": 3
   },
   "file_extension": ".py",
   "mimetype": "text/x-python",
   "name": "python",
   "nbconvert_exporter": "python",
   "pygments_lexer": "ipython3",
   "version": "3.13.2"
  }
 },
 "nbformat": 4,
 "nbformat_minor": 5
}
