{
 "cells": [
  {
   "cell_type": "markdown",
   "id": "8e34019c",
   "metadata": {},
   "source": [
    "## Pengenalan Aksi Sekuensial\n",
    "Dalam bahasa pemrograman Python, program yang Anda buat akan dijalankan *secara sekuensial*. Apa maksudnya? Kode yang Anda bangun akan berjalan **sesuai dengan urutan perintahnya**. Aksi sekuensial sendiri memiliki makna sebagai *sederetan instruksi* yang akan dijalankan oleh komputer *berdasarkan urutan penulisannya*.\n",
    "\n",
    "## Python Interpreter\n",
    "Kode dari program Python yang Anda bangun akan ditransformasi menjadi kode yang mudah dimengerti oleh mesin menggunakan program *compiler* atau *interpreter*. **Compiler** merupakan **program yang akan menerjemahkan bahasa pemrograman menjadi bahasa mesin sebelum dijalankan dan menghasilkan output**. Ini artinya program yang Anda bangun secara keseluruhan akan *diubah terlebih dahulu semuanya* menjadi bahasa mesin. \n",
    "\n",
    "Hal berbeda terjadi pada **interpreter**, yang akan **menerjemahkan bahasa Python satu per satu dan menghasilkan output secara langsung**. Hal ini memungkinkan Anda untuk *melihat hasil program segera* setelah satu baris kode dieksekusi hingga selesai.\n",
    "\n",
    "### Block Code\n",
    "Sebuah program Python dapat berupa *pernyataan atau statement*, bisa juga terdiri atas *blok kode*. Sebuah **blok merujuk pada potongan kode program Python yang dijalankan sebagai satu unit**. Kode blok dapat berupa *modul*, *fungsi*, *kelas*, *control flow*, dan sebagainya.\n",
    "\n",
    "**Python sangat memperhatikan indentasi** karena hal tersebut tidak hanya membantu *merapikan kode* yang Anda bangun, tetapi juga menjelaskan satu kode blok secara utuh. Dengan indentasi, program akan *mengetahui letak awal* dan *akhir sebuah blok kode*."
   ]
  },
  {
   "cell_type": "code",
   "execution_count": 1,
   "id": "8afb055e",
   "metadata": {},
   "outputs": [
    {
     "name": "stdout",
     "output_type": "stream",
     "text": [
      "Hello World!\n",
      "0\n",
      "1\n",
      "2\n",
      "3\n",
      "4\n",
      "Hello Indonesia!\n"
     ]
    }
   ],
   "source": [
    "print('Hello World!') # statement/pernyataan\n",
    "\n",
    "for a in range(5): # start Block Code dari perulangan\n",
    "    print(a) # end Block Code dari perulangan\n",
    "\n",
    "print('Hello Indonesia!')"
   ]
  },
  {
   "cell_type": "markdown",
   "id": "c7c062f0",
   "metadata": {},
   "source": [
    "### Case-sensitive\n",
    "Python termasuk **bahasa pemrograman case-sensitive**. Ini artinya Python memperlakukan *huruf besar dan kecil sebagai karakter yang berbeda* dalam penamaan variabel, nama fungsi, atau penulisan kode secara umum.\n",
    "\n",
    "## One-liner\n",
    "**One-liner** merupakan gaya penulisan pada Python yang memungkinkan Anda untuk **membuat sebuah kode hanya dalam satu baris**. One-liner adalah *salah satu keunggulan dalam Python* yang susah untuk diimplementasikan bagi beberapa bahasa pemrograman lainnya.\n",
    "\n",
    "Tujuan dari one-liner ini adalah **membuat satu baris kode yang singkat dan jelas**. Perlu diingat bahwa *tidak semua kode* blok dapat dijadikan one-liner, seperti deklarasi fungsi, modul, dan kelas."
   ]
  },
  {
   "cell_type": "code",
   "execution_count": 2,
   "id": "c018397c",
   "metadata": {},
   "outputs": [
    {
     "name": "stdout",
     "output_type": "stream",
     "text": [
      "Setelah pertukaran: \n",
      "x = 2\n",
      "y = 1\n"
     ]
    }
   ],
   "source": [
    "# Contoh kode yang menggunakan One-liner\n",
    "x = 1\n",
    "y = 2\n",
    "\n",
    "x, y = y, x    # One-liner\n",
    "\n",
    "print('Setelah pertukaran: ')\n",
    "print('x =', x)\n",
    "print('y =', y)"
   ]
  }
 ],
 "metadata": {
  "kernelspec": {
   "display_name": ".venv",
   "language": "python",
   "name": "python3"
  },
  "language_info": {
   "codemirror_mode": {
    "name": "ipython",
    "version": 3
   },
   "file_extension": ".py",
   "mimetype": "text/x-python",
   "name": "python",
   "nbconvert_exporter": "python",
   "pygments_lexer": "ipython3",
   "version": "3.13.2"
  }
 },
 "nbformat": 4,
 "nbformat_minor": 5
}
