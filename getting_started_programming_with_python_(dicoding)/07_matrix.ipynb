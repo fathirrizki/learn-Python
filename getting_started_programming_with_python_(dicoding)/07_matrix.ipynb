{
 "cells": [
  {
   "cell_type": "markdown",
   "id": "efd88bf5",
   "metadata": {},
   "source": [
    "## Fundamental Matriks\n",
    "Untuk pengingat, array merupakan salah satu jenis *struktur data linear* dan terdiri dari *kumpulan elemen bertipe data sama* dengan *indeks yang berurutan atau linear*. Sebenarnya, array adalah **jenis struktur data 1 dimensi** yang menyimpan semua datanya secara linear. Pada materi ini, kita akan mempelajari **jenis array 2 dimensi**, yakni **matriks**.\n",
    "\n",
    "Matriks pada matematika merupakan himpunan yang terdiri dari bilangan atau elemen **berdasarkan baris dan kolom**. Dalam matematika, struktur matriks sebagai berikut:\n",
    "\n",
    "```\n",
    "    |0 1 0 0 0| -> Baris ke-1\n",
    "    |4 2 2 0 0| -> Baris ke-2\n",
    "A = |2 4 2 0 0| -> Baris ke-3\n",
    "    |1 1 2 0 0| -> Baris ke-4\n",
    "    |0 0 1 2 1| -> Baris ke-5\n",
    "\n",
    "     kolom 1-5\n",
    "```\n",
    "\n",
    "Contoh matriks dalam matematika *beragam jenisnya*, beberapa di antaranya sebagai berikut:\n",
    "\n",
    "1. Matriks Pengukuran\n",
    "\n",
    "    Matriks pengukuran adalah jenis matriks dengan indeks (i, j) yang **merepresentasikan suatu titik koordinat**. Setiap elemen dari matriks ini merepresentasikan **hasil pengukuran** pada suatu titik koordinat tertentu dan *termasuk bilangan real atau tipe data float*.\n",
    "\n",
    "2. Matriks Satuan\n",
    "\n",
    "    Selanjutnya adalah matriks satuan dengan **elemen bernilai hanya 0 atau 1**. Setiap elemen matriks ini *bertipe data integer*.\n",
    "\n",
    "Anda pun dapat **melakukan berbagai operasi pada matriks**, seperti *penjumlahan*, *perkalian*, menentukan *determinan*, *transpose*, dan sebagainya. Bahkan matriks juga dapat dipakai untuk persoalan algoritmik, yakni untuk menyimpan informasi yang cirinya ditentukan oleh **dua dimensi atau baris dan kolom**, seperti *cell pada spreadsheet*.\n",
    "\n",
    "Sementara itu dalam pemrograman, matriks adalah **kumpulan data yang diatur dalam bentuk tabel dua dimensi dengan setiap elemennya terdefinisi berdasarkan baris dan kolom**. Matriks dalam pemrograman diimplementasikan **menggunakan array dua dimensi**. Bahkan dalam Python, matriks dapat diimplementasikan menggunakan *nested list* atau *list di dalam list*."
   ]
  },
  {
   "cell_type": "code",
   "execution_count": 22,
   "id": "0295468d",
   "metadata": {},
   "outputs": [
    {
     "name": "stdout",
     "output_type": "stream",
     "text": [
      "[[1, 2, 3], [4, 5, 6], [7, 8, 9]]\n",
      "6\n",
      "[7, 8, 9]\n"
     ]
    }
   ],
   "source": [
    "# Membuat matriks dengan nested list\n",
    "matrix = [[1,2,3],\n",
    "          [4,5,6],\n",
    "          [7,8,9]]\n",
    "\n",
    "print(matrix)\n",
    "print(matrix[1][2]) # Metode indexing\n",
    "print(matrix[2][0:3:1]) # Metode slicing"
   ]
  },
  {
   "cell_type": "markdown",
   "id": "86af8537",
   "metadata": {},
   "source": [
    "Matriks dalam pemrograman dapat kita simpulkan sebagai berikut.\n",
    "\n",
    "1. Matriks adalah kumpulan data yang diatur dalam bentuk **tabel dua dimensi** dengan setiap elemennya terdefinisi berdasarkan *baris dan kolom*.\n",
    "2. Setiap elemen matriks dapat diakses melalui **metode indexing** jika kedua indeks telah diketahui.\n",
    "3. Elemen matriks dideklarasikan **memiliki tipe homogen** yang artinya elemen tersebut harus mempunyai **tipe data yang sama**. Jika elemen tersebut adalah bilangan real, seluruh elemen lainnya pun adalah bilangan real. Walaupun dalam list Python Anda dapat membuat matriks dengan tipe data berbeda, alangkah lebih baik jika tetap mengikuti aturan ini.\n",
    "\n",
    "Namun, perlu diingat bahwa mendeklarasikan matriks menggunakan list **sangat memakan banyak memori**. Masih ingatkah Anda dengan materi array yang menyatakan bahwa setiap nilai atau elemen dalam list akan disimpan pada masing-masing tempat memori? Hal ini berlaku juga pada matriks.\n",
    "\n",
    "Oleh karena itu, menggunakan nested list sebagai matriks dianggap cara yang cukup praktis, tetapi **tidak efektif dalam mengelola penyimpanan memori**. Programmer Python biasanya menggunakan **library tambahan seperti NumPy** untuk membuat matriks dengan jumlah elemen besar. Library NumPy sering dipakai oleh programmer Python untuk melakukan tugas-tugas dalam *ranah science* dan *engineering* karena dianggap memiliki **penggunaan penyimpanan memori yang efisien**."
   ]
  },
  {
   "cell_type": "code",
   "execution_count": 31,
   "id": "b685df61",
   "metadata": {},
   "outputs": [
    {
     "name": "stdout",
     "output_type": "stream",
     "text": [
      "[[1 2 3]\n",
      " [4 5 6]\n",
      " [7 8 9]]\n"
     ]
    }
   ],
   "source": [
    "import numpy as np # Mengakses library NumPy\n",
    "\n",
    "matrix = np.array([[1,2,3],[4,5,6],[7,8,9]])\n",
    "print(matrix)"
   ]
  },
  {
   "cell_type": "markdown",
   "id": "e650dc8c",
   "metadata": {},
   "source": [
    "## Implementasi Matriks pada Python\n",
    "\n",
    "### Deklarasi Matriks\n",
    "Ada **dua cara** untuk mendeklarasikan matriks menggunakan Python sebagai berikut:\n",
    "\n",
    "1. Deklarasi sekaligus inisialisasi nilai matriks.\n",
    "\n",
    "    Cara pertama adalah **mendeklarasikan matriks sekaligus menginisialisasikan nilainya** dengan ukuran N baris dan M Kolom (NxM). Cara ini dilakukan jika kita telah mengetahui nilai yang perlu diberikan.\n",
    "\n",
    "    ```\n",
    "    new_matrix = [[val-11, val-12, ..., val-1m],\n",
    "                  [val-21, val-22, ..., val-2m],\n",
    "                   ...\n",
    "                  [val-n1, val-n2, ..., val-nm]]\n",
    "    ```\n",
    "\n",
    "2. Deklarasi dengan nilai default.\n",
    "\n",
    "    Cara kedua adalah **mendeklarasikan matriks dengan nilai default**. Sebagaimana materi array, nilai default ditentukan oleh kesepakatan bersama sesuai kebutuhan dengan nilainya di luar rentang yang ditentukan. Cara kedua ini **melibatkan list comprehension** yang sama seperti pada materi array.\n",
    "\n",
    "    Struktur dari deklarasi dengan nilai default sebagai berikut (misal jumlah baris dan kolom = n dan m):\n",
    "\n",
    "    `new_matrix = [[default_value for b in range(m)] for a in range(n)]`"
   ]
  },
  {
   "cell_type": "code",
   "execution_count": 33,
   "id": "a343290c",
   "metadata": {},
   "outputs": [
    {
     "name": "stdout",
     "output_type": "stream",
     "text": [
      "[[0 0 0 0 0]\n",
      " [0 0 0 0 0]\n",
      " [0 0 0 0 0]\n",
      " [0 0 0 0 0]\n",
      " [0 0 0 0 0]]\n"
     ]
    }
   ],
   "source": [
    "# Deklarasi matrix default element dengan list comprehension\n",
    "# Matriks berukuran 5 baris dan 5 kolom\n",
    "import numpy as np\n",
    "\n",
    "matrix = np.array([[0 for b in range(5)] for a in range(5)])\n",
    "\n",
    "print(matrix)"
   ]
  },
  {
   "cell_type": "markdown",
   "id": "9ffa1873",
   "metadata": {},
   "source": [
    "### Akses Elemen Matriks\n",
    "Mengakses elemen dari matriks, perlu mengetahui indeks dari baris dan kolom. Seperti berikut:\n",
    "\n",
    "`matrix[index_baris][index_kolom]`\n",
    "\n",
    "INGAT INDEKS SELALU BERAWAL DARI 0"
   ]
  },
  {
   "cell_type": "code",
   "execution_count": 65,
   "id": "e4462c07",
   "metadata": {},
   "outputs": [
    {
     "name": "stdout",
     "output_type": "stream",
     "text": [
      "[[ 2  4  6  8 10]\n",
      " [ 4  8 12 16 20]\n",
      " [ 6 12 18 24 30]\n",
      " [ 8 16 24 32 40]\n",
      " [10 20 30 40 50]] \n",
      "\n",
      "24\n",
      "[24 32 40]\n"
     ]
    }
   ],
   "source": [
    "import numpy as np\n",
    "\n",
    "matrix = np.array([[a*b*2 for b in range(1, 6)] for a in range(1, 6)])\n",
    "\n",
    "print(matrix, '\\n')\n",
    "print(matrix[2][3]) # Mengakses dengan metode indexing\n",
    "print(matrix[3][2:]) # Mengakses dengan metode slicing"
   ]
  },
  {
   "cell_type": "markdown",
   "id": "f6526f6b",
   "metadata": {},
   "source": [
    "## Operasi Matriks pada Python\n",
    "Dalam matematika ataupun pemrograman, operasi matriks dapat melibatkan **dua matriks** sekaligus atau pun **satu matriks** saja. Beberapa operasi tersebut di antaranya sebagai berikut:\n",
    "\n",
    "1. Operasi 1 matriks.\n",
    "\n",
    "    * Menghitung **total** semua elemen matriks.\n",
    "    * **Mengalikan** elemen matriks dengan konstanta.\n",
    "    * **Transpose** matriks.\n",
    "    * **Inverse** matriks.\n",
    "    * Menentukan **determinan**, dan sebagainya.\n",
    "\n",
    "2. Operasi 2 matriks.\n",
    "\n",
    "    * **Menambahkan** dua matriks.\n",
    "    * **Mengalikan** dua matriks.\n",
    "    * **Pembagian** dua matriks, dan sebagainya."
   ]
  },
  {
   "cell_type": "code",
   "execution_count": 82,
   "id": "9355577f",
   "metadata": {},
   "outputs": [
    {
     "name": "stdout",
     "output_type": "stream",
     "text": [
      "Matriks original:\n",
      "[[1 2 3]\n",
      " [4 5 6]\n",
      " [7 8 9]]\n",
      "\n",
      "Matriks setelah dikalikan skalar 2:\n",
      "[[ 2  4  6]\n",
      " [ 8 10 12]\n",
      " [14 16 18]]\n"
     ]
    }
   ],
   "source": [
    "import numpy as np\n",
    "\n",
    "matrix = np.array([[1,2,3],[4,5,6],[7,8,9]])\n",
    "print(f'Matriks original:\\n{matrix}\\n')\n",
    "\n",
    "new_matrix = np.array([[0 for b in range(3)] for a in range(3)]) # Membuat matriks baru dengan nilai default 0, guna menampung matriks baru\n",
    "\n",
    "for c in range(3): # Perkalian skalar tiap elemen matriks\n",
    "    for d in range(3):\n",
    "        new_matrix[c][d] = matrix[c][d] * 2\n",
    "\n",
    "print(f'Matriks setelah dikalikan skalar 2:\\n{new_matrix}')"
   ]
  },
  {
   "cell_type": "code",
   "execution_count": 83,
   "id": "a6c09bf2",
   "metadata": {},
   "outputs": [
    {
     "name": "stdout",
     "output_type": "stream",
     "text": [
      "[[10  0]\n",
      " [ 2 -4]]\n"
     ]
    }
   ],
   "source": [
    "# Cara lebih simple menggunakan fungsi dari NumPy\n",
    "import numpy as np\n",
    "\n",
    "matrix = np.array([[5,0],[1,-2]])\n",
    "new_matrix = matrix * 2 # Perkalian skalar menggunakan library NumPy\n",
    "\n",
    "print(new_matrix)"
   ]
  }
 ],
 "metadata": {
  "kernelspec": {
   "display_name": ".venv",
   "language": "python",
   "name": "python3"
  },
  "language_info": {
   "codemirror_mode": {
    "name": "ipython",
    "version": 3
   },
   "file_extension": ".py",
   "mimetype": "text/x-python",
   "name": "python",
   "nbconvert_exporter": "python",
   "pygments_lexer": "ipython3",
   "version": "3.13.2"
  }
 },
 "nbformat": 4,
 "nbformat_minor": 5
}
