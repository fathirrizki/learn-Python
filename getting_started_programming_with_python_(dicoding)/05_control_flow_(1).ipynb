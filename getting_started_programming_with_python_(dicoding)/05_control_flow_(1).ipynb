{
 "cells": [
  {
   "cell_type": "markdown",
   "id": "b54f330c",
   "metadata": {},
   "source": [
    "## Percabangan dan Ternary Operators\n",
    "**Control flow** adalah sebuah cara untuk **memberi tahu program mengenai instruksi yang harus dijalankan** dan **di mana harus memulai dan berakhir**. Python akan menjalankan kode Anda berdasarkan *deretan instruksi* yang dibuat secara *sekuensial*.\n",
    "\n",
    "Dalam Python, program dapat berupa *blok kode*. Python **sangat memperhatikan indentasi** untuk membangun sebuah blok kode. Salah satu blok pemrograman adalah *perulangan*. Perulangan adalah satu dari beberapa control flow.\n",
    "\n",
    "Control flow memungkinkan program untuk *berjalan berdasarkan jalur eksekusi*. Control flow terbagi menjadi beberapa jenis, yakni **kondisi tertentu** (**percabangan**), **mengulang blok kode secara berulang** (**perulangan**), **melewati sebagian kode** dan **berhenti di kode tertentu**, hingga **mendefinisikan fungsi**.\n",
    "\n",
    "### Percabangan (Branch)\n",
    "Dalam pemrograman, sebuah kode program dapat berjalan *berdasarkan kondisi tertentu*. Maknanya, Anda dapat memberikan instruksi berdasarkan \"Jika-maka\" (if-else). **Percabangan mengembalikan nilai Boolean (True/False)**, nilai ini yang akan menentukan instruksi atau arah pemrograman akan berjalan."
   ]
  },
  {
   "cell_type": "code",
   "execution_count": 2,
   "id": "c88d6404",
   "metadata": {},
   "outputs": [
    {
     "name": "stdout",
     "output_type": "stream",
     "text": [
      "Ibu membeli dan memasak ayam\n"
     ]
    }
   ],
   "source": [
    "# Contoh percabangan\n",
    "ketersediaan = \"Daging ayam\"\n",
    "\n",
    "if ketersediaan == \"Daging ayam\": # Syntax 'if' akan mengevaluasi\n",
    "    print(\"Ibu membeli dan memasak ayam\") # Akan berjalan jika hasil evaluasi bernilai True\n",
    "else:\n",
    "    print(\"Ibu membeli dan memasak tempe\") # Akan berjalan jika hasil evaluasi bernilai False"
   ]
  },
  {
   "cell_type": "markdown",
   "id": "aa9876fa",
   "metadata": {},
   "source": [
    "#### `if`\n",
    "**If** adalah statement Python yang akan **mengecek nilai variabel** di dalamnya memenuhi kriteria suatu kondisi atau tidak. Jika memenuhi kriteria, *kondisi tersebut bernilai true*. Jika tidak memenuhi kriteria, *kondisi akan bernilai false*. Jika kondisi if bernilai true, kode yang berada dalam blok kode if akan dieksekusi. Perlu diingat bahwa **if merupakan blok kode**. Jadi, Anda perlu *memperhatikan indentasi* untuk menjalankan kode.\n",
    "\n",
    "Hal lain yang perlu diperhatikan adalah **Python menganggap setiap nilai kosong (zero) dan null sebagai False**. Sebaliknya, nilai yang *tidak kosong (non-zero)* dan *tidak null (non-null)* akan bernilai *True*. Beberapa nilai yang dianggap sebagai false oleh Python sebagai berikut.\n",
    "\n",
    "1. Nilai yang sudah didefinisikan bernilai salah: **None** dan **False**.\n",
    "2. **Angka nol dari semua tipe numerik**: 0, 0.0, 0j, Decimal(0), Fraction(0,1).\n",
    "3. Urutan (sequence) dan koleksi (collection) yang **kosong**: \"\", (), {}, set(), range(0).\n",
    "\n",
    "Selain nilai di atas, *Python akan menganggap semua nilai sebagai true*."
   ]
  },
  {
   "cell_type": "code",
   "execution_count": 4,
   "id": "77d9ed9f",
   "metadata": {},
   "outputs": [
    {
     "name": "stdout",
     "output_type": "stream",
     "text": [
      "Output ini dijalankan ketika bernilai False\n"
     ]
    }
   ],
   "source": [
    "a = []\n",
    "\n",
    "if a: # Mengevaluasi apakah variabel a bernilai True atau False\n",
    "    print('Output ini dijalankan ketika bernilai True')\n",
    "else:\n",
    "    print('Output ini dijalankan ketika bernilai False')"
   ]
  },
  {
   "cell_type": "markdown",
   "id": "e85d16b0",
   "metadata": {},
   "source": [
    "Terakhir, if statement **memiliki versi one-liner-nya**. Ini memungkinkan Anda untuk membuat kode if dalam bentuk *single statement* atau *satu baris*, tanpa perlu memperhatikan indentasi dan membuat blok kode."
   ]
  },
  {
   "cell_type": "code",
   "execution_count": 9,
   "id": "636dff0a",
   "metadata": {},
   "outputs": [
    {
     "name": "stdout",
     "output_type": "stream",
     "text": [
      "Selamat Anda mendapatkan nilai 'A'!\n"
     ]
    }
   ],
   "source": [
    "# Percabangan One-liner\n",
    "score = 100\n",
    "\n",
    "if score >= 90: print('Selamat Anda mendapatkan nilai \\'A\\'!')"
   ]
  },
  {
   "cell_type": "markdown",
   "id": "64bb8456",
   "metadata": {},
   "source": [
    "#### `else`\n",
    "**Else** adalah *statement yang menjadi jalan keluar* saat kondisi atau **hasil evaluasi if statement bernilai false**. Maksudnya adalah program akan menjalani blok kode if terlebih dahulu dan jika hasilnya adalah false, program akan *menjalankan else statement sebagai jalan keluar* atau *kondisi terakhir*.\n",
    "\n",
    "Else termasuk statement bersifat **opsional**. Umumnya, else statement digunakan *ketika memiliki kondisi terakhir* saat semua kondisi tidak terpenuhi. Kondisi else statement **sudah pasti terpenuhi** karena merupakan jalan keluar terakhir dalam suatu percabangan.\n",
    "\n",
    "#### `elif`\n",
    "**Elif** merupakan kependekan dari *else if* dan *alternatif untuk if bertingkat atau switch case*. Elif statement berada pada posisi *setelah if*. Anda dapat menambahkan elif statement lebih dari satu karena **tidak dibatasi** dan **opsional**.\n",
    "\n",
    "Jika kondisi elif statement menghasilkan *true*, blok kode di dalamnya *akan dieksekusi*. Kondisi else statement akan dijalankan dan kode di dalamnya akan dieksekusi jika **semua kondisi sebelumnya salah atau menghasilkan false**.\n",
    "\n",
    "Struktur keseluruhan if, elif, else statement:\n",
    "\n",
    "```\n",
    "if (kondisi):\n",
    "    (blok kode if)\n",
    "elif (kondisi lain):\n",
    "    (blok kode elif)\n",
    "else:\n",
    "    (blok kode else)\n",
    "```\n",
    "\n",
    "Untuk informasi tambahan, kita juga dapat menambahkan '**and**' atau '**or**' operator dalam kondisi percabangan."
   ]
  },
  {
   "cell_type": "code",
   "execution_count": 11,
   "id": "dc01f8ce",
   "metadata": {},
   "outputs": [
    {
     "name": "stdout",
     "output_type": "stream",
     "text": [
      "Kamu mendapatkan nilai A, tetapi perilaku Anda kurang baik\n",
      "Perbaiki lagi ya!\n"
     ]
    }
   ],
   "source": [
    "nilai = 92\n",
    "perilaku = 'tidak baik'\n",
    "\n",
    "if nilai>=80 and perilaku == 'baik':\n",
    "    print(\"Selamat! Anda mendapat nilai A dan telah berkelakuan baik\")\n",
    "    print(\"Pertahankan!\")\n",
    "elif nilai>=80 and perilaku != 'baik':\n",
    "    print(\"Kamu mendapatkan nilai A, tetapi perilaku Anda kurang baik\")\n",
    "    print(\"Perbaiki lagi ya!\")\n",
    "else:\n",
    "    print(\"Yuk belajar lebih giat lagi!\")"
   ]
  },
  {
   "cell_type": "markdown",
   "id": "b39261a9",
   "metadata": {},
   "source": [
    "### Ternary Operators\n",
    "**Ternary operators** termasuk *conditional expressions pada Python*. Conditional expressions adalah bentuk ekspresi yang bertujuan untuk **mengevaluasi kondisi** dan m**engembalikan nilai berdasarkan hasil evaluasinya**. Anda bisa asumsikan bahwa ternary operators ini merupakan versi one-liner dari if dan else.\n",
    "\n",
    "Ternary operators dibangun dengan menempatkan \"blok kode jika benar\" pada **posisi awal**, lalu **diikuti oleh** \"if statement\" serta \"kondisi\"-nya. Kemudian \"else statement\" **ditempatkan di akhir** beserta dengan \"blok kode jika salah\".\n",
    "\n",
    "Format if-else statement:\n",
    "\n",
    "```\n",
    "if (kondisi):\n",
    "    (blok_kode_jika_benar)\n",
    "else:\n",
    "    (blok_kode_jika_salah)\n",
    "```\n",
    "\n",
    "Format Ternary Operator:\n",
    "\n",
    "```\n",
    "(blok_kode_jika_benar) if (kondisi) else (blok_kode_jika_salah)\n",
    "```"
   ]
  },
  {
   "cell_type": "code",
   "execution_count": 44,
   "id": "c426cffe",
   "metadata": {},
   "outputs": [
    {
     "name": "stdout",
     "output_type": "stream",
     "text": [
      "selamat!\n",
      "selamat!\n"
     ]
    }
   ],
   "source": [
    "lulus = True\n",
    "\n",
    "# ---if-else statement---\n",
    "\n",
    "if lulus:\n",
    "    print('selamat!')\n",
    "else:\n",
    "    print('perbaiki lagi ya!')\n",
    "\n",
    "# ---Ternary Operator---\n",
    "\n",
    "print('selamat!') if lulus else print('perbaiki lagi ya!')"
   ]
  },
  {
   "cell_type": "markdown",
   "id": "59350285",
   "metadata": {},
   "source": [
    "Perlu diingat bahwa tujuan dari one-liner *bukanlah sekadar untuk memudahkan kode dibaca* karena hanya dibuat dalam satu baris, melainkan untuk membuat kode menjadi lebih **singkat** dan **jelas**. Opsi lain dari ternary operators adalah melibatkan **tuple**.\n",
    "\n",
    "Format if-else statement:\n",
    "\n",
    "```\n",
    "if (kondisi):\n",
    "    (blok_kode_jika_benar)\n",
    "else:\n",
    "    (blok_kode_jika_salah)\n",
    "```\n",
    "\n",
    "Format Ternary tuples:\n",
    "\n",
    "```\n",
    "('blok_kode_jika_salah','blok_kode_jika_benar')[kondisi]\n",
    "```"
   ]
  },
  {
   "cell_type": "code",
   "execution_count": 43,
   "id": "ad28d91e",
   "metadata": {},
   "outputs": [
    {
     "name": "stdout",
     "output_type": "stream",
     "text": [
      "selamat!\n",
      "selamat!\n"
     ]
    }
   ],
   "source": [
    "lulus = True\n",
    "\n",
    "# ---if-else statement---\n",
    "\n",
    "if lulus:\n",
    "    print('selamat!')\n",
    "else:\n",
    "    print('perbaiki lagi ya!')\n",
    "\n",
    "# ---Ternary tuples---\n",
    "\n",
    "kelulusan = ('perbaiki lagi ya!','selamat!')[lulus] # Blok kode dalam string\n",
    "print(kelulusan)"
   ]
  },
  {
   "cell_type": "markdown",
   "id": "6037dbde",
   "metadata": {},
   "source": [
    "Perlu diingat oleh Anda, **ternary tuples sebaiknya dihindari** terutama untuk kode dan klausa true/false yang kompleks. Komunitas Python sendiri menganggap bahwa cara ternary tuples ini **kurang \"pythonic\" atau \"tidak Python banget!\"** karena cukup membingungkan untuk meletakkan kondisi saat True atau False.\n",
    "\n",
    "## Perulangan (Loop)\n",
    "\n",
    "### `for`\n",
    "**For** termasuk sintaks dalam Python yang bersifat **definite iteration**. Definite iteration adalah sebuah *proses iterasi* atau *perulangan* ketika **jumlah pengulangannya ditentukan secara eksplisit sebelumnya**.\n",
    "\n",
    "Format perulangan for:\n",
    "\n",
    "```\n",
    "for (variable) in (iterable):\n",
    "    (statement(s))\n",
    "```"
   ]
  },
  {
   "cell_type": "markdown",
   "id": "eb72af1d",
   "metadata": {},
   "source": [
    "`(iterable)` merupakan *segala object dalam Python yang dapat diiterasi* seperti list, tuple, hingga string. Ada pula `(var)` merupakan *variabel yang akan mengambil elemen berikutnya* dari `(iterable)` setiap kali iterasi berjalan."
   ]
  },
  {
   "cell_type": "code",
   "execution_count": null,
   "id": "62dc951f",
   "metadata": {},
   "outputs": [
    {
     "name": "stdout",
     "output_type": "stream",
     "text": [
      "B e l a j a r   P y t h o n   A s i k "
     ]
    }
   ],
   "source": [
    "contoh = 'Belajar Python Asik'\n",
    "\n",
    "for var in contoh: # Variabel \"var\" menyimpan setiap karakter/elemen dari string \"contoh\" setiap kali iterasi berjalan\n",
    "    print(var, end=' ') # argumen end secara default \\n"
   ]
  },
  {
   "cell_type": "markdown",
   "id": "faeac272",
   "metadata": {},
   "source": [
    "Anda juga dapat melakukan perulangan *berdasarkan panjang suatu nilai* dengan menggunakan fungsi `range()`."
   ]
  },
  {
   "cell_type": "code",
   "execution_count": 24,
   "id": "f4c9608d",
   "metadata": {},
   "outputs": [
    {
     "name": "stdout",
     "output_type": "stream",
     "text": [
      "0 1 2 3 4 5 6 7 8 9 "
     ]
    }
   ],
   "source": [
    "for a in range(10): # Secara default akan mengatur iterasi dimulai dari 0\n",
    "    print(a, end=' ')"
   ]
  },
  {
   "cell_type": "markdown",
   "id": "fd3ca7fe",
   "metadata": {},
   "source": [
    "Jika Anda perhatikan lebih baik, program di atas menampilkan angka dari 0 hingga 9 padahal kita menentukannya \"10\". Mengapa itu terjadi? Pada dasarnya, `range()` adalah fungsi bawaan dalam Python yang akan **menghasilkan urutan bilangan dimulai dari indeks ke-0**. Sintaksis umum dari fungsi `range()` sebagai berikut:\n",
    "\n",
    "`range(start,stop,step)`\n",
    "\n",
    "Berikut adalah penjelasan detail terkait fungsi `range()`.\n",
    "\n",
    "1. \"Start\" merupakan **nilai awal** dari urutan bilangan yang bersifat opsional, jika Anda tidak memasukkannya, nilai awal akan dianggap 0. \n",
    "2. \"Stop\" merupakan **nilai batas** yang wajib dimasukkan. Urutan akan berhenti sebelum mencapai nilai \"stop\" (eksklusif). \n",
    "3. \"Step\" merupakan **nilai penambahan** antara setiap dua bilangan dalam urutan yang bersifat opsional. Jika nilai tersebut tidak diberikan, secara default nilai yang dimasukkan adalah 1."
   ]
  },
  {
   "cell_type": "code",
   "execution_count": 38,
   "id": "a193b887",
   "metadata": {},
   "outputs": [
    {
     "name": "stdout",
     "output_type": "stream",
     "text": [
      "4\n",
      "6\n",
      "8\n"
     ]
    }
   ],
   "source": [
    "for a in range(4,9,2):\n",
    "    print(a)"
   ]
  },
  {
   "cell_type": "markdown",
   "id": "14bb3d34",
   "metadata": {},
   "source": [
    "### `while`\n",
    "While termasuk sintaks dalam Python yang bersifat **indefinite iteration**. Indefinite iteration adalah sebuah **proses iterasi yang akan berhenti ketika memenuhi kondisi tertentu**.\n",
    "\n",
    "Format perulangan while:\n",
    "\n",
    "```\n",
    "while (kondisi):\n",
    "    (statement_yang_akan_diulang_selama_kondisi_bernilai_True)\n",
    "```\n",
    "\n",
    "`(kondisi)` merupakan ekspresi yang akan **dievaluasi** dan *menghasilkan nilai true atau false*. Selama hasil evaluasi bernilai true, program *akan terus berjalan hingga menghasilkan nilai false*."
   ]
  },
  {
   "cell_type": "code",
   "execution_count": 41,
   "id": "f74a1161",
   "metadata": {},
   "outputs": [
    {
     "name": "stdout",
     "output_type": "stream",
     "text": [
      "1\n",
      "2\n",
      "3\n",
      "4\n",
      "5\n"
     ]
    }
   ],
   "source": [
    "count = 1\n",
    "\n",
    "while count <= 5:\n",
    "    print(count)\n",
    "    count += 1 # Increment agar perulangan terhindar dari infinite loop"
   ]
  },
  {
   "cell_type": "code",
   "execution_count": null,
   "id": "df5af1df",
   "metadata": {},
   "outputs": [],
   "source": []
  },
  {
   "cell_type": "markdown",
   "id": "cece5388",
   "metadata": {},
   "source": [
    "Perhatikan bahwa kita menggunakan jenis **ekspresi uner** untuk melakukan *increment*. Increment adalah pola untuk menambahkan suatu variabel dengan nilai tetap. Dengan hal ini, setiap perulangan bernilai true maka variabel \"counter\" akan terus ditambah dengan nilai \"1\". Pada perulangan di atas, nilai variabel \"counter\" akan bertambah hingga nilainya adalah \"5\". Ketika nilai variabel \"counter\" menyentuh \"5\" maka hasil evaluasi akan bertambah menjadi \"6\", tetapi **angka 6 tersebut tidak memenuhi kondisi \"<=5\"** sehingga kode `print()` tidak akan dijalankan dan hanya akan memunculkan angka hingga 5.\n",
    "\n",
    "Namun, Anda harus berhati-hati untuk tidak melakukan **infinite loop**, yakni sebuah kondisi ketika **perulangan tidak berhenti** karena **tidak memenuhi kondisi yang diinginkan**. Contohnya adalah ketika melakukan perulangan, kita tidak memberikan increment yang menyebabkan variabel atau counter tidak akan memenuhi kondisi while.\n",
    "\n",
    "### for bersarang (nested for loop)\n",
    "Ketika Anda membuat perulangan, sering kali menemukan **perulangan dalam perulangan** atau disebut sebagai **nested loop**. Format dari nested loop sebagai berikut:\n",
    "\n",
    "```\n",
    "for (variabel_luar) in (iterable_luar):\n",
    "    for (variabel_dalam) in (iterable_dalam):\n",
    "        (statement(s))\n",
    "```"
   ]
  },
  {
   "cell_type": "code",
   "execution_count": 49,
   "id": "af1fcdc7",
   "metadata": {},
   "outputs": [
    {
     "name": "stdout",
     "output_type": "stream",
     "text": [
      "1 1\n",
      "1 2\n",
      "2 1\n",
      "2 2\n"
     ]
    }
   ],
   "source": [
    "# Implementasi nested loop\n",
    "\n",
    "for a in range(1, 3): # Outer loop\n",
    "    for b in range(1, 3): # Inner loop\n",
    "        print(f'{a} {b}')"
   ]
  },
  {
   "cell_type": "markdown",
   "id": "94669b4d",
   "metadata": {},
   "source": [
    "### Kontrol Perulangan\n",
    "Selain membuat perulangan, kita juga dapat **mengontrol perulangan** dengan menggunakan beberapa pernyataan di antaranya sebagai berikut.\n",
    "\n",
    "#### `break`\n",
    "**Break** statement adalah pernyataan untuk **menghentikan perulangan** dan kemudian program akan otomatis keluar dari perulangan tersebut, lalu dilanjutkan dengan mengeksekusi blok perulangan selanjutnya. Jika Anda memiliki perulangan yang bertingkat seperti for bersarang, break akan **menghentikan perulangan sesuai dengan tingkatan atau letak perulangannya berada**."
   ]
  },
  {
   "cell_type": "code",
   "execution_count": 61,
   "id": "15c617a7",
   "metadata": {},
   "outputs": [
    {
     "name": "stdout",
     "output_type": "stream",
     "text": [
      "Perulangan luar: 0\n",
      "Perulangan dalam: 0\n",
      "Perulangan dalam: 1\n",
      "Perulangan luar: 1\n",
      "Perulangan dalam: 0\n",
      "Perulangan dalam: 1\n",
      "\n",
      "\n",
      "Huruf saat ini: D\n",
      "Huruf saat ini: i\n",
      "Huruf saat ini: c\n",
      "Huruf saat ini: o\n"
     ]
    }
   ],
   "source": [
    "# Implementasi break statement\n",
    "\n",
    "for a in range(2):  # Perulangan tingkat pertama\n",
    "    print(\"Perulangan luar:\", a)\n",
    "    for b in range(10):  # Perulangan tingkat kedua\n",
    "        print(\"Perulangan dalam:\", b)\n",
    "        if b == 1:\n",
    "            break  # Menghentikan perulangan dalam jika b = 1\n",
    "\n",
    "# Program akan berhenti karena ada statement break yang diberikan jika bertemu angka \"1\".\n",
    "\n",
    "print('\\n')\n",
    "\n",
    "# Another implementasi break statement\n",
    "\n",
    "for huruf in 'Dico ding':\n",
    "    if huruf == ' ':\n",
    "        break\n",
    "    print(f'Huruf saat ini: {huruf}')"
   ]
  },
  {
   "cell_type": "markdown",
   "id": "903ec9a3",
   "metadata": {},
   "source": [
    "#### `continue`\n",
    "**Continue statement** adalah pernyataan untuk **membuat iterasi berhenti**, kemudian **melanjutkan ke iterasi berikutnya**. Continue seolah *mengabaikan pernyataan (statement)* yang berada antara continue hingga akhir blok."
   ]
  },
  {
   "cell_type": "code",
   "execution_count": 63,
   "id": "e28eb893",
   "metadata": {},
   "outputs": [
    {
     "name": "stdout",
     "output_type": "stream",
     "text": [
      "Huruf saat ini: D\n",
      "Huruf saat ini: i\n",
      "Huruf saat ini: c\n",
      "Huruf saat ini: o\n",
      "Huruf saat ini: d\n",
      "Huruf saat ini: i\n",
      "Huruf saat ini: n\n",
      "Huruf saat ini: g\n"
     ]
    }
   ],
   "source": [
    "# Implementasi break statement\n",
    "\n",
    "for huruf in 'Dico ding':\n",
    "    if huruf == ' ':\n",
    "        continue # Melanjutkan iterasi, sehingga statement di bawah hingga akhir blok diabaikan\n",
    "    print(f'Huruf saat ini: {huruf}')"
   ]
  },
  {
   "cell_type": "markdown",
   "id": "16aa9419",
   "metadata": {},
   "source": [
    "#### `else` setelah `for`\n",
    "Pada Python juga dikenal **else setelah for** yang berfungsi untuk **perulangan bersifat pencarian**. Else setelah for ini bisa dikatakan sebagai *memberikan jalan keluar program saat pencarian tidak ditemukan*."
   ]
  },
  {
   "cell_type": "code",
   "execution_count": 76,
   "id": "93c492af",
   "metadata": {},
   "outputs": [
    {
     "name": "stdout",
     "output_type": "stream",
     "text": [
      "Angka tidak ditemukan.\n"
     ]
    }
   ],
   "source": [
    "numbers = [1, 2, 3, 4, 5]\n",
    "\n",
    "for num in numbers:\n",
    "    if num == 6: # mencari angka 6 pada list/iterable\n",
    "        print(\"Angka ditemukan! Program berhenti!\")\n",
    "        break\n",
    "else: # jika seluruh iterasi sudah selesai dan break statement tidak dijalankan, else akan dijalankan\n",
    "    print(\"Angka tidak ditemukan.\")"
   ]
  },
  {
   "cell_type": "markdown",
   "id": "5cd16a76",
   "metadata": {},
   "source": [
    "Perlu diperhatikan oleh Anda, if dan else pada contoh tersebut berkaitan walaupun berbeda blok. Pada else setelah for, statement else **tidak akan dieksekusi saat if pernah sekali saja benar**. Dengan kata lain, **break dalam if harus tidak terjadi** untuk memicu else setelah for.\n",
    "\n",
    "#### `else` setelah `while`\n",
    "Berbeda dengan else setelah for, pada statement **else setelah while**, blok statement else akan **selalu dieksekusi** saat kondisi pada while menjadi *salah*."
   ]
  },
  {
   "cell_type": "code",
   "execution_count": 89,
   "id": "baa46ed7",
   "metadata": {},
   "outputs": [
    {
     "name": "stdout",
     "output_type": "stream",
     "text": [
      "Fathir Sukses\n",
      "Fathir Sukses\n",
      "Fathir Sukses\n",
      "Blok else dieksekusi karena kondisi pada while salah (3<3 == False).\n",
      "\n",
      "9\n",
      "8\n"
     ]
    }
   ],
   "source": [
    "count = 0\n",
    "\n",
    "while count < 3:\n",
    "    print(\"Fathir Sukses\")\n",
    "    count += 1\n",
    "else: # else akan selalu dieksekusi setelah kondisi while menjadi salah\n",
    "    print(\"Blok else dieksekusi karena kondisi pada while salah (3<3 == False).\\n\")\n",
    "\n",
    "# Studi kasus lain\n",
    "\n",
    "a = 10\n",
    "while a > 0:\n",
    "    a = a - 1\n",
    "    if a == 7:\n",
    "        break # Pengulangan terhenti ketika a bernilai 7, disini pengulangan terhenti saat while bernilai True\n",
    "    print(a)\n",
    "else: # Karena pengulangan terhenti saat while masih bernilai True, else tidak akan dijalankan\n",
    "    print(\"Loop selesai\")"
   ]
  },
  {
   "cell_type": "markdown",
   "id": "bc22ea5e",
   "metadata": {},
   "source": [
    "#### `pass`\n",
    "**Pass statement** adalah pernyataan yang digunakan jika Anda menginginkan sebuah pernyataan atau blok pernyataan (statement), tetapi **tidak ada tindakan** atau **program tidak melakukan apa pun**."
   ]
  },
  {
   "cell_type": "code",
   "execution_count": 98,
   "id": "fd1546b5",
   "metadata": {},
   "outputs": [
    {
     "name": "stdout",
     "output_type": "stream",
     "text": [
      "Ini di luar blok kode percabangan\n"
     ]
    }
   ],
   "source": [
    "a = 10\n",
    "\n",
    "if a > 5:\n",
    "    pass # Blok kode ini dijalankan, pas membuat program tidak melakukan apa pun\n",
    "else:\n",
    "    print(\"Nilai a tidak memenuhi kondisi\")\n",
    "\n",
    "print('Ini di luar blok kode percabangan')"
   ]
  },
  {
   "cell_type": "markdown",
   "id": "394f81b9",
   "metadata": {},
   "source": [
    "Statement pass digunakan dalam situasi-situasi ketika Python *memerlukan adanya pernyataan*, tetapi *tidak memiliki tindakan yang perlu dilakukan pada saat itu*. Biasanya itu adalah kondisi ketika Anda membutuhkan **placeholder** untuk menunjukkan bahwa tidak ada operasi yang perlu dilakukan. Hal ini dapat membantu kita mengatur struktur kode secara rapi dan memungkinkan penambahan implementasi di kemudian hari.\n",
    "\n",
    "### List Comprehension\n",
    "Terkadang ada kalanya Anda perlu membuat sebuah list baru berdasarkan list yang sudah ada. Pada contoh di bawah, kita mencoba melakukan *operasi perpangkatan* dari variabel list \"angka\". Hasil dari operasi tersebut kemudian disimpan pada variabel baru bernama \"pangkat\". Anda menggunakan fungsi `.append()` untuk menambahkan nilai baru ke dalam variabel \"pangkat\"."
   ]
  },
  {
   "cell_type": "code",
   "execution_count": 99,
   "id": "9848de04",
   "metadata": {},
   "outputs": [
    {
     "name": "stdout",
     "output_type": "stream",
     "text": [
      "[1, 4, 9, 16]\n"
     ]
    }
   ],
   "source": [
    "angka = [1, 2, 3, 4]\n",
    "pangkat = []\n",
    "\n",
    "for n in angka:\n",
    "    pangkat.append(n**2)\n",
    "print(pangkat)"
   ]
  },
  {
   "cell_type": "markdown",
   "id": "e9d8b864",
   "metadata": {},
   "source": [
    "Namun, alih-alih membuat kode program seperti di atas. Anda dapat melakukan hal berikut."
   ]
  },
  {
   "cell_type": "code",
   "execution_count": 100,
   "id": "02731fb1",
   "metadata": {},
   "outputs": [
    {
     "name": "stdout",
     "output_type": "stream",
     "text": [
      "[1, 4, 9, 16]\n"
     ]
    }
   ],
   "source": [
    "angka = [1, 2, 3, 4]\n",
    "\n",
    "pangkat = [n**2 for n in angka]\n",
    "print(pangkat)"
   ]
  },
  {
   "cell_type": "markdown",
   "id": "0bd493bf",
   "metadata": {},
   "source": [
    "Pada kode di atas, kita melakukan perulangan dengan memasukkan operasi perulangan tersebut ke dalam **inisialisasi variabel \"pangkat\"**. Hal ini memudahkan kita sehingga *tidak perlu menggunakan fungsi* `.append()` untuk menambahkan nilai baru.\n",
    "\n",
    "Konsep ini disebut sebagai **list comprehension**, sebuah cara untuk *menghasilkan list baru berdasarkan list atau iterables yang telah ada sebelumnya*. Sintaks dasarnya adalah berikut:\n",
    "\n",
    "`new_list = [expression for_loop_one_or_more_conditions]`\n",
    "\n",
    "\n",
    "Mari bedah satu per satu struktur tersebut.\n",
    "\n",
    "1. `new_list` merupakan *variabel* yang dideklarasikan oleh Anda.\n",
    "2. `expression` merupakan *ekspresi yang akan dijalankan* seiring perulangan bernilai benar.\n",
    "\n",
    "`for_loop_one_or_more_conditions` merupakan *perulangan for yang Anda definisikan*. Misalnya \"for n in angka\" yang ada pada contoh sebelumnya."
   ]
  }
 ],
 "metadata": {
  "kernelspec": {
   "display_name": ".venv",
   "language": "python",
   "name": "python3"
  },
  "language_info": {
   "codemirror_mode": {
    "name": "ipython",
    "version": 3
   },
   "file_extension": ".py",
   "mimetype": "text/x-python",
   "name": "python",
   "nbconvert_exporter": "python",
   "pygments_lexer": "ipython3",
   "version": "3.13.2"
  }
 },
 "nbformat": 4,
 "nbformat_minor": 5
}
