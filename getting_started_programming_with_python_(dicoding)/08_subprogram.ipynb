{
 "cells": [
  {
   "cell_type": "markdown",
   "id": "74dfac79",
   "metadata": {},
   "source": [
    "## Definisi Subprogram\n",
    "Semakin besar sebuah program, bagian kode yang berulang akan bertambah sehingga *tidak efisien* jika Anda perlu mengetik ulang atau bahkan melakukan copy-paste. Salah satu kode yang sering berulang adalah **rumus** atau **formula**. Lalu, apakah ada cara untuk menghindari kode yang perlu diketik berulang, dan sebaliknya, dapat digunakan berkali-kali? Jawabannya adalah ada, inilah yang disebut sebagai **subprogram** dan **salah satu jenisnya adalah fungsi**.\n",
    "\n",
    "Subprogram adalah **serangkaian instruksi dirancang untuk melakukan operasi yang sering digunakan dalam suatu program**. Subprogram yang sering digunakan terdiri dari dua jenis, yakni berikut:\n",
    "\n",
    "1. Fungsi\n",
    "\n",
    "    Fungsi adalah **blok kode** yang dapat **menerima input**, **melakukan pemrosesan**, dan **mengembalikan output**. Hasil atau output tersebut dinyatakan dalam sebuah *tipe data yang eksplisit*. Artinya, fungsi yang dibuat dapat ditentukan untuk mengembalikan tipe data integer, string, atau lainnya.\n",
    "\n",
    "2. Prosedur\n",
    "\n",
    "    Prosedur adalah **deretan instruksi** yang **jelas keadaan awal (initial state)** dan **keadaan akhirnya (final state)**. Prosedur mirip dengan program secara umum, tetapi *memiliki cakupan yang kecil dan terbatas*.\n",
    "\n",
    "## Fungsi\n",
    "\n",
    "### Fungsi dalam Matematika\n",
    "Fungsi dalam pemrograman sebenarnya didasari oleh **konsep pemetaan (asosiasi)** dan **fungsi dalam matematika**. Fungsi pada matematika merupakan **pemetaan** antara **dua himpunan nilai**, yaitu *domain* dan *range*. Kita bisa bayangkan fungsi sebagai sebuah mesin yang memiliki input (domain) dan output (range). Output tersebut *pasti terkait* dengan input bagaimana pun kondisinya.\n",
    "\n",
    "Notasi atau bentuk rumus fungsi dalam matematika beragam. Salah satu yang umum dijumpai adalah notasi berikut:\n",
    "\n",
    "|f(x) = 2x|\n",
    "|:---:|\n",
    "\n",
    "Dengan catatan sebagai berikut.\n",
    "\n",
    "* f = nama fungsi\n",
    "* x = input\n",
    "* 2x = apa yang harus dikeluarkan (output)\n",
    "\n",
    "### Fungsi dalam Pemrograman\n",
    "Fungsi dalam pemrograman didasari oleh fungsi dalam matematika. Jadi, baik fungsi pemrograman maupun fungsi matematika memiliki tujuan yang sama, yaitu **mengubah suatu bentuk menjadi bentuk lain dengan aturan yang sama**.\n",
    "\n",
    "Jadi, kalau kita definisikan, fungsi dalam pemrograman adalah **blok kode yang dapat digunakan kembali untuk mengeksekusi fungsionalitas tertentu saat dipanggil**.\n",
    "\n",
    "Dalam Python, fungsi terbagi menjadi *dua jenis*, seperti berikut:\n",
    "\n",
    "1. Built-in Functions\n",
    "\n",
    "    Built-in functions atau dalam bahasa Indonesia berarti **fungsi bawaan** adalah **kumpulan fungsi yang sudah terintegrasi** dengan bahasa pemrograman Python sehingga **tidak perlu mengimpor modul atau library tambahan**. Fungsi bawaan ini *menyediakan fungsi-fungsi inti* dan dasar dari bahasa Python. Contoh dari fungsi bawaan adalah print(), len(), type(), range(), dan sebagainya.\n",
    "\n",
    "2. User-defined Functions\n",
    "\n",
    "    User-defined functions atau dalam bahasa Indonesia berarti **fungsi yang didefinisikan pengguna** adalah jenis fungsi yang kita **definisikan sendiri** untuk melakukan tugas spesifik tertentu.\n",
    "\n",
    "Jika ingin menggunakan fungsi lain di luar dari built-in functions, Anda bisa *mengimpor sebuah library*. Library adalah **koleksi dari banyaknya modul yang saling terkait dan dapat digunakan berulang kali**. Modul adalah **file berisi kode Python** berupa fungsi, kelas, dan sebagainya.\n",
    "\n",
    "|Library -> Package -> Module(.py)|\n",
    "|:---:|\n",
    "\n",
    "Library dalam Python terdiri dari *dua jenis*:\n",
    "\n",
    "1. Python Standard Library\n",
    "\n",
    "    Python Standard Library adalah **jenis library yang telah terpasang secara otomatis ketika Anda melakukan instalasi Python**. Python Standard Library berisi *kumpulan modul dan paket yang disertakan secara default oleh Python*. Paket (package) merupakan **sebuah direktori berisi satu atau lebih modul yang terkait dan saling berhubungan**.\n",
    "\n",
    "    Anda tidak perlu melakukan instalasi untuk menggunakan Python Standard Library. Contoh Python Standard Library adalah \"os\", \"datetime\", \"re\", dan sebagainya.\n",
    "\n",
    "2. External Library\n",
    "\n",
    "    External Library adalah jenis library yang **dikembangkan oleh individu atau organisasi di luar tim inti pengembang Python**. External library mengharuskan Anda *mengimpor library* untuk bisa menggunakannya.\n",
    "\n",
    "    Sederhananya, di luar sana banyak developer yang turut membuat kode untuk diri mereka sendiri dan pada akhirnya disebarluaskan untuk digunakan oleh developer lainnya. Contoh dari external library adalah TensorFlow yang merupakan library populer untuk menyelesaikan permasalahan pembelajaran mesin (machine learning).\n",
    "\n",
    "Mari kita sederhanakan semua penjelasan dengan tabel berikut.\n",
    "\n",
    "|Nama|Definisi|Contoh|\n",
    "|:---:|:---:|:---:|\n",
    "|Fungsi|Blok kode yang dapat digunakan kembali untuk mengeksekusi fungsionalitas tertentu saat dipanggil.|print(), len(), type()|\n",
    "|Built-in functions|Kumpulan fungsi yang sudah terintegrasi dengan bahasa pemrograman Python sehingga tidak perlu mengimpor modul atau library tambahan.|print(), len(), range()|\n",
    "|User-defined functions|Jenis fungsi yang kita definisikan sendiri untuk melakukan tugas spesifik tertentu.|contoh(), tambah()|\n",
    "|Module|File berisi kode Python berupa fungsi, kelas, dan sebagainya.|Semua file yang kita buat sendiri dengan ekstensi \".py\"|\n",
    "|Package|Sebuah direktori berisi satu atau lebih modul yang terkait dan saling berhubungan.|NumPy, Pandas|\n",
    "|Library|Koleksi dari banyaknya modul dan paket yang saling terkait dan dapat digunakan berulang kali.|Matplotlib, TensorFlow, Beautiful Soup|\n",
    "\n",
    "### Kegunaan Fungsi\n",
    "1. Program dapat dipecah menjadi **bagian yang lebih kecil** (sub).\n",
    "2. **Penggunaan ulang** kode alih-alih menulis ulang kode.\n",
    "3. Setiap fungsi **bersifat independen** dan dapat **diuji secara terpisah**.\n",
    "\n",
    "### Mendefinisikan Fungsi dalam Python\n",
    "Secara umum, fungsi terdiri dari header, body, dan return, seperti struktur berikut:\n",
    "\n",
    "```\n",
    "def function_name(parameter):                       <- function header\n",
    "    code_block                                     <- function body\n",
    "    return return_statement             <- function return\n",
    "```\n",
    "\n",
    "Dengan catatan sebagai berikut:\n",
    "\n",
    "1. Function header memberi tahu Python bahwa kita **mulai mendefinisikan suatu fungsi**.\n",
    "2. Function body adalah blok kode yang *diindentasi* setelah header fungsi menentukan **hal yang dilakukan fungsi** tersebut. Kita *menentukan semua kode* yang akan dibuat dalam function body. Ingat bahwa bagian ini adalah blok kode sehingga Anda harus memperhatikan indentasi untuk menghindari kesalahan.\n",
    "3. Function return adalah pernyataan yang digunakan dalam fungsi untuk **mengembalikan nilai atau hasil eksekusi dari fungsi tersebut**. Ketika sebuah fungsi dieksekusi, biasanya ada situasi bahwa kita ingin mendapatkan nilai atau hasil dari proses yang dilakukan oleh fungsi tersebut. Untuk itu, kita menggunakan pernyataan 'return' dalam fungsi untuk mengembalikan nilai kepada pemanggil fungsi.\n",
    "\n",
    "#### Membuat Fungsi"
   ]
  },
  {
   "cell_type": "code",
   "execution_count": 12,
   "id": "9ddcc0d5",
   "metadata": {},
   "outputs": [
    {
     "name": "stdout",
     "output_type": "stream",
     "text": [
      "30\n",
      "60\n"
     ]
    }
   ],
   "source": [
    "# Contoh membuat fungsi mencari luas persegi panjang\n",
    "def find_rectangle_area(length, width):\n",
    "    rectangle_area = length * width\n",
    "    return rectangle_area # Fungsi ini mengembalikan variabel\n",
    "\n",
    "def find_double_rectangle_area(length, width):\n",
    "    rectangle_area = length * width\n",
    "    return rectangle_area * 2 # Fungsi ini mengembalikan ekspresi variabel dikalikan 2\n",
    "\n",
    "print(find_rectangle_area(10,3))\n",
    "print(find_double_rectangle_area(10,3))"
   ]
  },
  {
   "cell_type": "markdown",
   "id": "e0c42a39",
   "metadata": {},
   "source": [
    "#### Memanggil Fungsi\n",
    "Ketika Anda memanggil sebuah fungsi, ada dua elemen sebagai berikut.\n",
    "\n",
    "1. **Nama fungsi**; tentu Anda harus menyebutkan nama fungsi yang ingin digunakan. Namun ingat, gunakan kurung tutup \"()\" untuk memanggilnya.\n",
    "2. **Argumen** bisa dikatakan sebagai *nilai yang diberikan kepada fungsi*. Nantinya, nilai tersebut akan *disimpan dalam parameter* fungsi."
   ]
  },
  {
   "cell_type": "code",
   "execution_count": 16,
   "id": "0c32e3f0",
   "metadata": {},
   "outputs": [
    {
     "name": "stdout",
     "output_type": "stream",
     "text": [
      "12\n",
      "12\n"
     ]
    }
   ],
   "source": [
    "def add(a,b):\n",
    "    result = a + b\n",
    "    return result\n",
    "\n",
    "add(9,3) # Memanggil fungsi tetapi tidak menampilkannya ke layar\n",
    "print(add(9,3)) # Memanggil fungsi dan menampilkannya ke layar\n",
    "\n",
    "hasil = add(9,3) # Nilai yang dikembalikan fungsi disimpan pada variabel hasil\n",
    "print(hasil) # Menampilkan value dari variabel hasil ke layar"
   ]
  },
  {
   "cell_type": "markdown",
   "id": "56fe0d81",
   "metadata": {},
   "source": [
    "#### Docstring\n",
    "Terakhir, untuk membuat fungsi lebih mudah dipahami oleh programmer lain, kita bisa **membuat dokumentasi berupa docstring**. Docstring adalah *akronim dari documentation string*, bertujuan untuk **membuat dokumentasi terhadap fungsi yang dibuat**. Umumnya, dokumentasi yang dijelaskan berupa argumen, return, deskripsi fungsi, dan sebagainya.\n",
    "\n",
    "Dokumentasi di bawah memiliki tiga elemen, yakni berikut.\n",
    "\n",
    "1. Deskripsi: Teks yang menjelaskan **tujuan dari fungsi** yang dibuat.\n",
    "2. Argumen: bagian yang menjelaskan **argumen yang diterima** oleh fungsi.\n",
    "3. Return: Bagian ini menjelaskan **nilai yang akan dikembalikan** oleh fungsi."
   ]
  },
  {
   "cell_type": "code",
   "execution_count": 17,
   "id": "6ccd449a",
   "metadata": {},
   "outputs": [
    {
     "name": "stdout",
     "output_type": "stream",
     "text": [
      "-5\n"
     ]
    }
   ],
   "source": [
    "def substract(a,b):\n",
    "    \"\"\"\n",
    "    Fungsi ini digunakan untuk menghitung pengurangan dua buah angka\n",
    "\n",
    "    Args:\n",
    "        a (int): Angka pertama.\n",
    "        b (int): Angka kedua.\n",
    "\n",
    "    Returns:\n",
    "        int: Angka hasil pengurangan.\n",
    "    \"\"\"\n",
    "\n",
    "    result = a - b\n",
    "    return result\n",
    "\n",
    "print(substract(3,8))"
   ]
  },
  {
   "cell_type": "markdown",
   "id": "d16a0756",
   "metadata": {},
   "source": [
    "### Argumen dan Parameter\n",
    "Argumen dan parameter adalah hal yang berbeda, sering kali programmer tertukar akan kedua istilah tersebut. Sederhananya, Anda bisa bayangkan parameter seperti black box yang akan menampung nilai dan nilai tersebut adalah argumen.\n",
    "\n",
    "```\n",
    "Def add(a,b):                   -> a dan b adalah parameter\n",
    "    result = a + b\n",
    "    return result\n",
    "\n",
    "print(add(6,10))                -> 6 dan 10 adalah Argumen\n",
    "```\n",
    "\n",
    "#### Argumen\n",
    "Argumen adalah nilai yang akan diberikan kepada fungsi. Setidaknya ada dua jenis argumen yang dikenal dalam Python.\n",
    "\n",
    "1. Keyword Argument\n",
    "\n",
    "    Keyword Argument adalah jenis argumen yang **disertai dengan nama parameter** (*identifier*) dan secara **eksplisit disebutkan**. Ketika nama parameter dalam sebuah argumen secara langsung disebutkan, artinya kita menggunakan keyword argument.\n",
    "\n",
    "    Kelebihan dari jenis argumen ini adalah walaupun kita harus menuliskan lebih banyak kata, **urutan parameter fungsi tidak perlu dipikirkan**.\n",
    "\n",
    "2. Positional Argument\n",
    "\n",
    "    Kebalikan dari keyword adalah positional, artinya Anda **tidak menyebutkan nama parameter** (*identifier*) secara eksplisit. Ketika memanggil fungsi, Anda hanya harus **memasukkan nilai yang ingin diberikan**. Namun, Anda harus **mengikuti urutan dari parameter** fungsi tersebut."
   ]
  },
  {
   "cell_type": "code",
   "execution_count": 22,
   "id": "129fdf00",
   "metadata": {},
   "outputs": [
    {
     "name": "stdout",
     "output_type": "stream",
     "text": [
      "-5\n",
      "-5 \n",
      "\n",
      "5\n",
      "-5\n"
     ]
    }
   ],
   "source": [
    "def substract(a,b):\n",
    "    result = a - b\n",
    "    return result\n",
    "\n",
    "# Keyword Argument\n",
    "print(substract(a=5, b=10))\n",
    "print(substract(b=10, a=5), '\\n')\n",
    "\n",
    "# Positional Argument\n",
    "print(substract(10, 5))\n",
    "print(substract(5, 10))"
   ]
  },
  {
   "cell_type": "markdown",
   "id": "f0f165b0",
   "metadata": {},
   "source": [
    "#### Parameter\n",
    "Menurut dokumentasi resmi Python, ada 5 jenis parameter yang bisa kita atur.\n",
    "\n",
    "1. Positional-or-Keyword\n",
    "\n",
    "    Jenis ini merupakan **parameter default** dalam Python. Dengan jenis ini, kita **dapat menggunakan positional maupun keyword argument** ketika memanggil fungsi.\n",
    "\n",
    "2. Positional-Only\n",
    "\n",
    "    Parameter ini hanya dapat dimanfaatkan dengan menggunakan jenis **argumen posisi** saat pemanggilan fungsi. Parameter ini ditentukan menggunakan sintaks **\"/\"**.\n",
    "\n",
    "3. Keyword-Only\n",
    "\n",
    "    Jenis ketiga adalah kebalikan dari yang sebelumnya. Kita harus menggunakan **keyword argument** untuk memanggil fungsi dengan jenis parameter ini. Ia ditentukan dengan sintaks **\"*\"** (asterisk).\n",
    "\n",
    "4. Var-Positional (Variadic Positional Parameter)\n",
    "\n",
    "    Parameter ini **menampung jumlah argumen posisi yang bervariasi saat pemanggilan fungsi**. Parameter ini ditentukan dengan menggunakan sintaks ***args**.\n",
    "\n",
    "    Parameter *args **mengumpulkan semua argumen posisi** yang diberikan saat pemanggilan fungsi dan **membungkusnya menjadi tuple \"args\"**. Dalam situasi ini, Anda bisa memasukkan angka sebanyak apa pun dalam argumen fungsi.\n",
    "\n",
    "5. Var-Keyword (Variadic Keyword Parameter)\n",
    "\n",
    "    Parameter ini dapat **menampung jumlah keyword argument yang bervariasi saat pemanggilan fungsi**. Parameter ini ditentukan dengan menggunakan sintaks **\\*\\*kwargs** yang berperan sebagai *dictionary (seperti tipe datanya)*. Argumen pada *pemanggil fungsi akan berperan sebagai value* dan *parameter (identifier) berperan sebagai key*.\n",
    "\n",
    "    Parameter \\*\\*kwargs akan **mengumpulkan semua pasangan key-value** yang diberikan sebagai *keyword argument*. Dalam situasi ini, Anda bisa menambahkan parameter dan argumen sejumlah yang diinginkan."
   ]
  },
  {
   "cell_type": "code",
   "execution_count": 188,
   "id": "bf2f3eb9",
   "metadata": {},
   "outputs": [
    {
     "name": "stdout",
     "output_type": "stream",
     "text": [
      "1.3333333333333333\n",
      "1.3333333333333333 \n",
      "\n",
      "1.3333333333333333\n",
      "0.75 \n",
      "\n",
      "1.3333333333333333\n",
      "1.3333333333333333 \n",
      "\n",
      "(1, 2, 3, 4, 5, 6, 7, 8, 9, 10)\n",
      "55 \n",
      "\n",
      "{'Muhammad': 100, 'Fathir': 100, 'Rizki': 100, 'Bengalbangor': 0}\n",
      "Muhammad: 100\n",
      "Fathir: 100\n",
      "Rizki: 100\n",
      "Bengalbangor: 0\n",
      "\n"
     ]
    }
   ],
   "source": [
    "# Positional-or-Keyword\n",
    "def division(a,b):\n",
    "    result = a / b\n",
    "    return result\n",
    "\n",
    "print(division(4,3))\n",
    "print(division(a=4, b=3), '\\n')\n",
    "\n",
    "# Positional-only\n",
    "def division(a,b,/): # TERNYATA hanya sebelah kiri dari slash yang wajib positional-only\n",
    "    result = a / b\n",
    "    return result\n",
    "\n",
    "print(division(4,3))\n",
    "print(division(3,4), '\\n')\n",
    "\n",
    "# Keyword-only\n",
    "def division(*,a,b): # TERNYATA hanya sebelah kanan dari slash yang wajib keyword-only\n",
    "    result = a / b\n",
    "    return result\n",
    "\n",
    "print(division(a=4, b=3))\n",
    "print(division(b=3, a=4), '\\n')\n",
    "\n",
    "# Var-Positional (Variadic Positional Parameter)\n",
    "def jumlah(*args):\n",
    "    print(args) # Menampilkan seluruh tampungan argumen posisional\n",
    "    result = 0\n",
    "    for a in args:\n",
    "        result += a\n",
    "    return result\n",
    "\n",
    "print(jumlah(1,2,3,4,5,6,7,8,9,10), '\\n')\n",
    "\n",
    "# Var-Keyword (Variadic Keyword Parameter)\n",
    "def students_mark(**kwargs):\n",
    "    print(kwargs) # Menampilkan seluruh tampungan argumen keyword\n",
    "    mark = ''\n",
    "    for key, value in kwargs.items():\n",
    "        mark += f'{key}: {value}\\n'\n",
    "    return mark\n",
    "\n",
    "print(students_mark(Muhammad=100, Fathir=100, Rizki=100, Bengalbangor=0))"
   ]
  },
  {
   "cell_type": "markdown",
   "id": "b84d68d6",
   "metadata": {},
   "source": [
    "### Fungsi Anonim (Lambda Expression)\n",
    "Cara membuat fungsi *tanpa mendeklarasikan def*, cara ini dikenal dengan **ekspresi lambda** yang digunakan untuk membuat fungsi tanpa perlu menyebutkan def ketika membuatnya. Anda bisa mengasumsikan fungsi anonim ini sebagai **fungsi one-liner**. Secara umum, struktur fungsi anonim sebagai berikut:\n",
    "\n",
    "`function = lambda parameter: return_value`\n",
    "\n",
    "Nama fungsi (function) setara dengan **nama variabel** yang digunakan untuk *menyimpan ekspresi lambda*, parameter adalah *parameter yang dibutuhkan untuk dioperasikan*, dan return_value merupakan **nilai yang kita kembalikan (return)**."
   ]
  },
  {
   "cell_type": "code",
   "execution_count": 201,
   "id": "5e65b683",
   "metadata": {},
   "outputs": [
    {
     "name": "stdout",
     "output_type": "stream",
     "text": [
      "3\n",
      "3\n"
     ]
    }
   ],
   "source": [
    "# Pendefinisian fungsi konvensional\n",
    "def add(a,b):\n",
    "    result = a + b\n",
    "    return result\n",
    "\n",
    "print(add(1,2))\n",
    "\n",
    "# Pendefinisian fungsi dengan fungsi anonim (lambda)\n",
    "add2 = lambda a,b: a + b\n",
    "\n",
    "print(add2(1,2))"
   ]
  },
  {
   "cell_type": "markdown",
   "id": "bfddfc13",
   "metadata": {},
   "source": [
    "### Variabel Global dan Lokal\n",
    "Dalam Python, ada konsep \"*scope*\" yang mengatur **jangkauan variabel dan fungsi dalam suatu program**. Konsep ini lebih dikenal sebagai **scope variable** yang mengacu pada **wilayah di dalam program tempat variabel dapat diakses dan digunakan**. Ada dua jenis scope yang umum dijumpai, khususnya ketika Anda membuat fungsi dan program yang lebih kompleks.\n",
    "\n",
    "1. Variabel Global\n",
    "\n",
    "    Suatu variabel yang didefinisikan di **luar fungsi** atau **blok kode apa pun** dan **dapat diakses dari seluruh bagian program**.\n",
    "\n",
    "2. Variabel Lokal\n",
    "\n",
    "    Variabel ini didefinisikan **dalam suatu fungsi** atau **blok kode tertentu**. Jenis ini hanya dapat diakses dari dalam fungsi atau blok kode tempat variabel tersebut didefinisikan."
   ]
  },
  {
   "cell_type": "code",
   "execution_count": 202,
   "id": "a6d04c8d",
   "metadata": {},
   "outputs": [
    {
     "name": "stdout",
     "output_type": "stream",
     "text": [
      "35\n"
     ]
    }
   ],
   "source": [
    "angka = 15 # angka merupakan variabel global\n",
    "\n",
    "def add(a):\n",
    "    result = angka + a # result merupakan variabel lokal\n",
    "    return result\n",
    "\n",
    "print(add(20))"
   ]
  },
  {
   "cell_type": "markdown",
   "id": "7c33bd67",
   "metadata": {},
   "source": [
    "### Menulis Modul pada Python\n",
    "Pembahasan terakhir terkait fungsi adalah kita akan mempelajari *cara memanggil sebuah fungsi dari berkas lain*. Masih ingat dengan modul? Ia adalah sebuah file berisi kode Python dan di dalamnya terdapat fungsi, kelas, dan sebagainya.\n",
    "\n",
    "Sebab setiap *file berekstensi .py dapat direferensikan sebagai modul*, Anda bisa melakukan **impor file dari satu file ke yang lainnya**. Layaknya ketika Anda menggunakan library, modul, dan sebagainya."
   ]
  },
  {
   "cell_type": "code",
   "execution_count": 310,
   "id": "51941eb6",
   "metadata": {},
   "outputs": [
    {
     "name": "stdout",
     "output_type": "stream",
     "text": [
      "101\n",
      "-61\n",
      "1620\n",
      "0.24691358024691357\n",
      "100\n",
      "-8\n"
     ]
    }
   ],
   "source": [
    "import example as ex # example.py harus pada direktori yang sama\n",
    "\n",
    "print(ex.add(20,81))\n",
    "print(ex.sub(20,81))\n",
    "print(ex.mul(20,81))\n",
    "print(ex.div(20,81))\n",
    "print(ex.maks(-3,5,-8,1,35,14,100))\n",
    "print(ex.mins(-3,5,-8,1,35,14,100))"
   ]
  },
  {
   "cell_type": "markdown",
   "id": "2b0409f0",
   "metadata": {},
   "source": [
    "## Prosedur\n",
    "\n",
    "### Fundamental Prosedur\n",
    "Dalam KBBI, kata prosedur memiliki makna sebagai **tahap kegiatan untuk menyelesaikan suatu aktivitas**. Hal ini sama seperti prosedur sebagai subprogram yang merupakan **pengelompokan instruksi-instruksi yang sering dipakai dalam program**.\n",
    "\n",
    "Berbeda dengan fungsi, **prosedur tidak mengharuskan adanya parameter input atau output** dan dapat dipandang sebagai *fungsi yang tidak menghasilkan nilai*. Dalam Python, prosedur **didefinisikan dengan return tanpa ekspresi** atau **nilai yang dihasilkan di akhir fungsi**.\n",
    "\n",
    "```\n",
    "def procedure_name(parameter):\n",
    "    code_block\n",
    "```\n",
    "\n",
    "Sekilas memang sangat mirip dengan fungsi, hanya saja kita **tidak mendefinisikan return** dan bahkan **return value**. Kita sebenarnya bisa menambahkan pernyataan return, tetapi kita **tidak menyertakan return value setelahnya**.\n",
    "\n",
    "### Mendefinisikan dan Memanggil Prosedur\n",
    "Untuk memanggil prosedur, caranya **serupa seperti Anda memanggil fungsi**. Cukup mendefinisikan satu baris instruksi, seperti \"add()\". Untuk pemberian argumen dan parameter pada prosedur, kita dapat memakai **cara yang sama seperti pada fungsi**."
   ]
  },
  {
   "cell_type": "code",
   "execution_count": 314,
   "id": "7ae9494e",
   "metadata": {},
   "outputs": [
    {
     "name": "stdout",
     "output_type": "stream",
     "text": [
      "Halo! selamat datang Muhammad Fathir Rizki\n",
      "\n",
      "Halo sukses selalu orang hebat!\n"
     ]
    }
   ],
   "source": [
    "# Mendefinisikan prosedur\n",
    "def greeting(name):\n",
    "    print(f'Halo! selamat datang {name}')\n",
    "\n",
    "# Memanggil prosedur\n",
    "greeting('Muhammad Fathir Rizki')\n",
    "\n",
    "print('')\n",
    "\n",
    "# Adapun prosedur tanpa parameter\n",
    "def greet():\n",
    "    print('Halo sukses selalu orang hebat!')\n",
    "\n",
    "greet()"
   ]
  }
 ],
 "metadata": {
  "kernelspec": {
   "display_name": ".venv",
   "language": "python",
   "name": "python3"
  },
  "language_info": {
   "codemirror_mode": {
    "name": "ipython",
    "version": 3
   },
   "file_extension": ".py",
   "mimetype": "text/x-python",
   "name": "python",
   "nbconvert_exporter": "python",
   "pygments_lexer": "ipython3",
   "version": "3.13.2"
  }
 },
 "nbformat": 4,
 "nbformat_minor": 5
}
