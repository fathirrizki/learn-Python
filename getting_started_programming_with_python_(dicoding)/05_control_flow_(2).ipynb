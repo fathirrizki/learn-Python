{
 "cells": [
  {
   "cell_type": "markdown",
   "id": "36989e9b",
   "metadata": {},
   "source": [
    "## Error Handling and Exception Handling\n",
    "Saat Anda membuat program, sering kali menemukan setidaknya dua jenis kesalahan berdasarkan kejadiannya.\n",
    "\n",
    "1. Kesalahan sintaks (**syntax errors**) atau sering disebut juga sebagai kesalahan penguraian (*parsing errors*).\n",
    "2. Pengecualian (**exceptions**) atau sering disebut juga sebagai kesalahan saat beroperasi (*runtime errors*).\n",
    "\n",
    "### Kesalahan Sintaks (Syntax Errors)\n",
    "Kesalahan sintaks (**syntax errors**) adalah jenis kesalahan yang terjadi ketika **Python tidak mengerti perintah Anda**. Ini mengakibatkan pesan kesalahan muncul *sebelum program tersebut berjalan*.\n",
    "\n",
    "~ Google Gemini said\n",
    "\n",
    "`SyntaxError` adalah jenis *exception (kesalahan)* yang terjadi ketika Python parser mendeteksi adanya **kesalahan dalam sintaks kode Anda**. Ini berarti kode Anda *tidak mengikuti aturan tata bahasa dasar Python*. Ketika `SyntaxError` terjadi, Python bahkan **tidak bisa mulai menjalankan kode Anda**; ia *gagal pada tahap \"parsing\"* (memahami struktur kode).\n",
    "\n",
    "|Tipe Syntax Error|Keterangan|\n",
    "|:---:|:---:|\n",
    "|`IndentationError`|Kesalahan dalam indentasi kode|\n",
    "|`Unexpected EOF` (End of File)|Ada tanda kurung (parentheses (), square brackets [], atau curly braces {}) yang tidak ditutup|\n",
    "|`invalid syntax`|Pesan kesalahan umum yang mencakup berbagai pelanggaran aturan sintaks yang tidak spesifik|\n",
    "|`f-string`|Kesalahan dalam format f-string|\n",
    "|`positional argument follows keyword argument`|Python mengharuskan semua argumen posisi datang sebelum argumen kata kunci|\n",
    "|`invalid character in identifier`|Menggunakan karakter yang tidak diizinkan dalam nama variabel|\n",
    "|`cannot assign to literal`| Mencoba memberikan nilai ke sebuah literal (nilai tetap seperti angka atau string)|\n",
    "|`non-default argument follows default argument`|Parameter dengan nilai default harus selalu berada di akhir daftar parameter|\n",
    "|`return outside function`|Pernyataan return digunakan di luar definisi fungsi|\n",
    "|`invalid character` (ASCII/Unicode Issues)|Kode berisi karakter yang tidak dikenali atau tidak valid|\n",
    "\n",
    "### Pengecualian (Exceptions)\n",
    "Pengecualian adalah kesalahan yang terjadi ketika **Python mengerti perintah Anda**, tetapi **mendapatkan masalah saat mengikutinya**. Umumnya, pengecualian bisa terjadi *ketika aplikasi sudah mulai beroperasi*.\n",
    "\n",
    "Struktur pengecualian **hampir sama** dengan struktur kesalahan sintaks. Namun, terdapat perbedaan di sana, **pengecualian memberikan pesan** `Traceback (most recent call last)`. Pesan traceback ini *menyediakan \"jejak\"* dari kode yang dieksekusi sehingga Anda dapat *melacak kembali jalur eksekusi program* sebelum mencapai titik error.\n",
    "\n",
    "|Beberapa Daftar Exception|\n",
    "|:---:|\n",
    "|`StopIteration` `StopAsyncIteration` `ArithmeticError` `FloatingPointError` `OverflowError` `ZeroDivisionError` `AssertionError` `AttributeError` `EOFError` `ImportError` `ModuleNotFoundError` `LookupError` `IndexError` `KeyError` `MemoryError` `NameError` `OSError` `BlockingIOError` `ChildProcessError` `ConnectionError` `BrokenPipeError` `ConnectionAbortedError` `ConnectionRefusedError` `ConnectionResetError` `FileExistsError` `FileNotFoundError` `InterruptedError` `IsADirectoryError` `NotADirectoryError` `PermissionError` `ProcessLookupError` `TimeoutError` `ReferenceError` `RuntimeError` `NotImplementedError` `RecursionError` `SystemError` `TypeError` `ValueError` `UnboundLocalError` `UnicodeError` `UnicodeDecodeError` `UnicodeEncodeError` `UnicodeTranslateError` `Warning`|\n",
    "\n",
    "### Penanganan Pengecualian\n",
    "Program Python yang Anda bangun dapat **dilengkapi penanganan terhadap pengecualian** dari tipe kesalahan yang Anda tentukan. Konsep ini dikenal dengan **exceptions handling** yang menggunakan pernyataan **try-except** untuk menangani pengecualian tersebut.\n",
    "\n",
    "Format try-except secara keseluruhan:\n",
    "\n",
    "```\n",
    "try:\n",
    "    (blok_kode_yang_mungkin_mengakibatkan_exception)\n",
    "except (exception):\n",
    "    (blok_kode_yang_akan_dijalankan_jika_terjadi_exception)\n",
    "else:\n",
    "    (blok_kode_yang_akan_dijalankan_jika_tidak_terjadi_exception)\n",
    "finally:\n",
    "    (blok_kode_yang_dijalankan_setelah_semua_pernyataan_di_atas_terjadi)\n",
    "```\n",
    "\n",
    "Pada `try` statement, program akan menjalankan blok kode yang **mungkin terjadi pengecualian**. Pada `except` statement, program akan mengeksekusi statement ini **jika terjadi pengecualian**. Pada `else` statement, program akan mengeksekusi statement ini **jika tidak terjadi pengecualian**. Pada `finally` statement, program akan mengeksekusi statement ini **setelah semua pernyataan di atas terjadi**."
   ]
  },
  {
   "cell_type": "code",
   "execution_count": 2,
   "id": "d3c150f5",
   "metadata": {},
   "outputs": [
    {
     "name": "stdout",
     "output_type": "stream",
     "text": [
      "rata-rata adalah 1.0\n",
      "Kode ini dieksekusi jika tidak ada exception.\n",
      "Kode ini dieksekusi terlepas dari ada atau tidaknya exception.\n"
     ]
    }
   ],
   "source": [
    "var_dict = {\"rata_rata\": \"1.0\"}\n",
    "\n",
    "try:\n",
    "    print(f\"rata-rata adalah {var_dict['rata_rata']}\")\n",
    "except KeyError: # Jalan ketika program mengangkat KeyError exception\n",
    "    print(\"Key tidak ditemukan.\")\n",
    "except TypeError: # Jalan ketika program mengangkat TypeError exception\n",
    "    print(\"Anda tidak bisa membagi nilai dengan tipe data string\")\n",
    "else:\n",
    "    print(\"Kode ini dieksekusi jika tidak ada exception.\")\n",
    "finally:\n",
    "    print(\"Kode ini dieksekusi terlepas dari ada atau tidaknya exception.\")"
   ]
  },
  {
   "cell_type": "markdown",
   "id": "dee3d64e",
   "metadata": {},
   "source": [
    "Pada program di atas, jika kita mengakses key yang tidak ada pada dictionary, KeyError exception akan terjadi dan program akan menjalankan blok kode di dalam `except KeyError:`. Selain itu, jika kita mencoba untuk membagi value dari key \"rata_rata\" dengan data numerik, TypeError exception akan terjadi dan program akan menjalankan blok kode di dalam `except TypeError:`.\n",
    "\n",
    "Jika salah satu dari blok kode `except` berjalan, maka sudah pasti blok kode `else` tidak akan dieksekusi. Blok kode `finally` akan selalu dieksekusi terlepas berjalan tidaknya blok kode `except`."
   ]
  },
  {
   "cell_type": "code",
   "execution_count": 7,
   "id": "853c7182",
   "metadata": {},
   "outputs": [
    {
     "name": "stdout",
     "output_type": "stream",
     "text": [
      "Key tidak ditemukan.\n",
      "Kode ini dieksekusi terlepas dari ada atau tidaknya exception.\n"
     ]
    }
   ],
   "source": [
    "var_dict = {\"rata_rata\": \"1.0\"}\n",
    "\n",
    "try:\n",
    "    print(var_dict[\"sum\"]) # Mencoba mengakses key yang tidak ada pada dictionary var_dict\n",
    "except KeyError:\n",
    "    print(\"Key tidak ditemukan.\")\n",
    "except TypeError:\n",
    "    print(\"Anda tidak bisa membagi nilai dengan tipe data string\")\n",
    "else:\n",
    "    print(\"Kode ini dieksekusi jika tidak ada exception.\")\n",
    "finally:\n",
    "    print(\"Kode ini dieksekusi terlepas dari ada atau tidaknya exception.\")"
   ]
  },
  {
   "cell_type": "code",
   "execution_count": 12,
   "id": "6a95277e",
   "metadata": {},
   "outputs": [
    {
     "name": "stdout",
     "output_type": "stream",
     "text": [
      "Anda tidak bisa membagi nilai dengan tipe data string\n",
      "Kode ini dieksekusi terlepas dari ada atau tidaknya exception.\n"
     ]
    }
   ],
   "source": [
    "var_dict = {\"rata_rata\": \"1.0\"}\n",
    "\n",
    "try:\n",
    "    print(var_dict[\"rata_rata\"]/2) # Mencoba membagi value dari key \"rata_rata\" yakni \"1.0\" dengan numerik\n",
    "except KeyError:\n",
    "    print(\"Key tidak ditemukan.\")\n",
    "except TypeError:\n",
    "    print(\"Anda tidak bisa membagi nilai dengan tipe data string\")\n",
    "else:\n",
    "    print(\"Kode ini dieksekusi jika tidak ada exception.\")\n",
    "finally:\n",
    "    print(\"Kode ini dieksekusi terlepas dari ada atau tidaknya exception.\")"
   ]
  },
  {
   "cell_type": "markdown",
   "id": "b656b2fd",
   "metadata": {},
   "source": [
    "### Raise Exception\n",
    "Jika sebelumnya kita *menangani kesalahan yang TIDAK DISENGAJA*, kali ini kita akan mempelajari **cara menangani kesalahan yang DISENGAJA**. Umumnya, ketika membuat kode program kita ingin membatasi program tersebut dengan kondisi tertentu.\n",
    "\n",
    "Perlu diingat bahwa umumnya, raise digunakan bersamaan dengan *if-else statement*.\n",
    "\n",
    "Misalnya, Anda ingin membuat kode program untuk *menampilkan angka dari 1 hingga 10 berdasarkan input atau masukan pengguna*. Namun, dalam program tersebut kita ingin mengontrol dengan cara berikut: *jika user memberikan input berupa bilangan negatif*, program akan memunculkan *pesan error dengan keterangan \"Bilangan negatif tidak diperbolehkan\"*."
   ]
  },
  {
   "cell_type": "code",
   "execution_count": 15,
   "id": "53ab5a20",
   "metadata": {},
   "outputs": [
    {
     "ename": "ValueError",
     "evalue": "Bilangan negatif tidak diperbolehkan",
     "output_type": "error",
     "traceback": [
      "\u001b[31m---------------------------------------------------------------------------\u001b[39m",
      "\u001b[31mValueError\u001b[39m                                Traceback (most recent call last)",
      "\u001b[36mCell\u001b[39m\u001b[36m \u001b[39m\u001b[32mIn[15]\u001b[39m\u001b[32m, line 4\u001b[39m\n\u001b[32m      1\u001b[39m var = -\u001b[32m1\u001b[39m\n\u001b[32m      3\u001b[39m \u001b[38;5;28;01mif\u001b[39;00m var < \u001b[32m0\u001b[39m:\n\u001b[32m----> \u001b[39m\u001b[32m4\u001b[39m     \u001b[38;5;28;01mraise\u001b[39;00m \u001b[38;5;167;01mValueError\u001b[39;00m(\u001b[33m'\u001b[39m\u001b[33mBilangan negatif tidak diperbolehkan\u001b[39m\u001b[33m'\u001b[39m) \u001b[38;5;66;03m# Akan menampilkan error dengan pesan custom\u001b[39;00m\n\u001b[32m      5\u001b[39m \u001b[38;5;28;01melse\u001b[39;00m:\n\u001b[32m      6\u001b[39m     \u001b[38;5;28;01mfor\u001b[39;00m i \u001b[38;5;129;01min\u001b[39;00m \u001b[38;5;28mrange\u001b[39m(var):\n",
      "\u001b[31mValueError\u001b[39m: Bilangan negatif tidak diperbolehkan"
     ]
    }
   ],
   "source": [
    "var = -1\n",
    "\n",
    "if var < 0:\n",
    "    raise ValueError('Bilangan negatif tidak diperbolehkan') # Akan menampilkan error dengan pesan custom\n",
    "else:\n",
    "    for i in range(var):\n",
    "        print(i+1)"
   ]
  },
  {
   "cell_type": "markdown",
   "id": "1da2a398",
   "metadata": {},
   "source": [
    "Pada contoh di atas, kita menggunakan percabangan untuk *melakukan evaluasi* jika nilai variabel \"var\" adalah bilangan negatif (kurang dari 0), **program akan menampilkan error** dengan pesan \"Bilangan negatif tidak diperbolehkan\". Selain itu, program akan mengeksekusi else statement jika nilai dari variabel \"var\" bukanlah bilangan negatif (lebih besar atau sama dengan 0)."
   ]
  }
 ],
 "metadata": {
  "kernelspec": {
   "display_name": ".venv",
   "language": "python",
   "name": "python3"
  },
  "language_info": {
   "codemirror_mode": {
    "name": "ipython",
    "version": 3
   },
   "file_extension": ".py",
   "mimetype": "text/x-python",
   "name": "python",
   "nbconvert_exporter": "python",
   "pygments_lexer": "ipython3",
   "version": "3.13.2"
  }
 },
 "nbformat": 4,
 "nbformat_minor": 5
}
