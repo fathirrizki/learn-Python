{
 "cells": [
  {
   "cell_type": "markdown",
   "id": "5c83c2ea",
   "metadata": {},
   "source": [
    "## Fundamental Array\n",
    "Python *tidak memiliki tipe data array* yang sering digunakan dalam bahasa pemrograman lain. Sebaliknya, Python memiliki **tipe data list** yang dapat dikatakan *mirip*, *tetapi tak sama* dengan array.\n",
    "\n",
    "Perbedaan yang menonjol adalah *cara array menyimpan nilai* sangat berbeda dengan list. Pada array, nilai di dalamnya harus memiliki **tipe data yang sama**. Namun, pada list, nilai di dalamnya **tidak harus memiliki tipe data yang sama**."
   ]
  },
  {
   "cell_type": "code",
   "execution_count": null,
   "id": "812bab16",
   "metadata": {},
   "outputs": [],
   "source": [
    "# List\n",
    "contoh = [False, 92, 'Data Scientist', 0.63]\n",
    "\n",
    "# Array\n",
    "contoh = [24, 865, 2, 51, 36] # Tipe int\n",
    "contoh = ['NLP', 'Data Engineer', 'Encoding', 'Model Test'] # Tipe str\n",
    "contoh = [0.4, 8.0, 2.5, 5.3, 1.1] # Tipe float\n",
    "contoh = [False, True, True, False, False] # Tipe bool\n",
    "contoh = [2+3j, 8j-1, 3-1j] # Tipe complex"
   ]
  },
  {
   "cell_type": "markdown",
   "id": "07286c1f",
   "metadata": {},
   "source": [
    "Perlu diketahui oleh Anda, array *bukan hanya sebuah tipe data*, melainkan salah satu tipe **struktur data berjenis linear**. Array merupakan kata dalam bahasa Inggris yang jika diterjemahkan ke bahasa Indonesia memiliki arti \"**sebuah kelompok besar yang terdiri dari beberapa hal atau orang**\". Arti ini mirip dengan array atau tipe data list dalam Python, sebuah kelompok besar yang terdiri dari beberapa nilai atau data.\n",
    "\n",
    "Struktur data adalah **cara untuk mengatur dan menyimpan data sehingga data-data tersebut dapat diakses dan bekerja secara efisien**. Dengan adanya struktur data, setiap data yang disimpan *memiliki hubungan satu sama lain* dan kita dapat *beroperasi dengan setiap data* tersebut.\n",
    "\n",
    "Ketika mempelajari materi tipe data pada modul \"interact_with_data\", sebenarnya Anda telah mempelajari **struktur data yang beragam jenisnya**. Baik *tipe data primitif* maupun *tipe data collection* yang telah dibahas sebelumnya termasuk jenis struktur data Python."
   ]
  },
  {
   "cell_type": "code",
   "execution_count": 1,
   "id": "7ddb88cf",
   "metadata": {},
   "outputs": [
    {
     "name": "stdout",
     "output_type": "stream",
     "text": [
      "array('i', [1, 2, 3, 4, 5])\n",
      "<class 'array.array'>\n"
     ]
    }
   ],
   "source": [
    "# Tersedia library array untuk membuat array\n",
    "import array\n",
    "\n",
    "arr = array.array('i',[1,2,3,4,5]) # Membuat array bertipe i / int\n",
    "print(arr)\n",
    "print(type(arr))"
   ]
  },
  {
   "cell_type": "markdown",
   "id": "2cf2f349",
   "metadata": {},
   "source": [
    "List dapat dibagi kembali menjadi *struktur data linear* dan *non-linear*. **Struktur data linear** adalah jenis struktur data yang elemen-elemen nilai di dalamnya **disusun secara berurutan atau linear**. Sebaliknya, **struktur data non-linear** merupakan jenis struktur data yang elemen-elemen nilai di dalamnya **tidak disusun secara linear**.\n",
    "\n",
    "Array adalah *salah satu jenis dari struktur data linear*. Dalam konteks ini, array terdiri dari kumpulan elemen bertipe data sama dengan indeks yang berurutan atau linear.\n",
    "\n",
    "## Implementasi Array dengan Python\n",
    "\n",
    "### Mendeklarasikan Array\n",
    "Perlu Anda ingat, *setiap elemen* yang ada pada list sebetulnya **disimpan pada satu memori**. Jika list adalah \"[1, 2, 3]\", sebetulnya Anda memerintahkan memori komputer untuk menyimpan integer \"1\" ke dalam satu tempat memori, begitu pun integer \"2\" akan disimpan dalam satu tempat memori, dan seterusnya.\n",
    "\n",
    "### Mendefinisikan Isi Array\n",
    "Berikut adalah struktur mendeklarasikan variabel array dengan mendefinisikan isi array secara langsung:\n",
    "\n",
    "`nama_var = [value0, value1, value2, ..., valuen-1]`\n",
    "\n",
    "`nama-var` merupakan nama variabel array yang dideklarasikan sebanyak n dengan elemen-elemennya adalah `value0`, `value1`, `value2`, … , `valuen-1`. Perlu diingat bahwa elemen tersebut terurut berdasarkan **indeks dari 0 hingga n-1**.\n",
    "\n",
    "### Mendefinisikan Nilai Default\n",
    "Jika tidak mengetahui nilai yang diberikan, kita *dapat memberikan nilai default terlebih dahulu* sebagai upaya untuk memberikan nilai awal. Umumnya, nilai default ini ditentukan karena kita tidak tahu nilai seharusnya.\n",
    "\n",
    "Dalam prosesnya, kita bisa secara perlahan mengganti masing-masing nilai tersebut sesuai kebutuhan. Misal kita memiliki array \"[0,0,0,0]\", yang kemudian hari kita bisa memperbaruinya menjadi \"[1,2,0,4]\", dengan begitu kita bisa mengetahui bahwa indeks ke-2 pada array tersebut belum kita perbarui.\n",
    "\n",
    "Nilai default ditentukan oleh **kesepakatan bersama sesuai kebutuhan** yang nilainya di luar dari rentang yang disepakati. Misalnya, tim Anda menentukan nilai dalam list harus berkisar dari 1 hingga 10. Kita bisa menyepakati \"0\" sebagai nilai default karena di *luar jangkauan* yang disepakati (1-10).\n",
    "\n",
    "Struktur mendeklarasikan variabel array menggunakan list comprehension dengan mendefinisikan nilai default:\n",
    "\n",
    "`nama_var = [default_value for var in range(n)]`\n",
    "\n",
    "1. `nama-var` merupakan variabel yang Anda deklarasikan.\n",
    "2. `default-value` merupakan nilai default yang Anda definisikan.\n",
    "3. `n` merupakan ukuran panjangnya array."
   ]
  },
  {
   "cell_type": "code",
   "execution_count": 3,
   "id": "ad1ba57c",
   "metadata": {},
   "outputs": [
    {
     "name": "stdout",
     "output_type": "stream",
     "text": [
      "[0, 0, 0, 0, 0, 0, 0, 0, 0, 0]\n"
     ]
    }
   ],
   "source": [
    "# Mendeklarasikan array menggunakan list comprehension dengan mendefinisikan nilai default\n",
    "arr = [0 for a in range(10)] # Membuat array dengan jumlah 10 elemen, dan nilai default 10\n",
    "\n",
    "print(arr)"
   ]
  },
  {
   "cell_type": "markdown",
   "id": "90399a4d",
   "metadata": {},
   "source": [
    "### Mengakses Elemen Array\n",
    "Mengakses elemen array dalam Python **tidak berbeda dengan mengakses elemen pada list**. Hal ini karena kita menggunakan list sebagai \"*bentuk lain*\" dari array. Anda dapat melakukan **metode indexing** untuk mengakses elemen array. Berikut adalah struktur untuk melakukan hal tersebut:\n",
    "\n",
    "`nama_var[indeks]`"
   ]
  },
  {
   "cell_type": "code",
   "execution_count": 22,
   "id": "f60a6fee",
   "metadata": {},
   "outputs": [
    {
     "name": "stdout",
     "output_type": "stream",
     "text": [
      "[1, 2, 3, 4, 5, 6, 7, 8, 9, 10]\n",
      "9\n",
      "[4, 6, 8]\n"
     ]
    }
   ],
   "source": [
    "# Mengakses elemen pada array\n",
    "arr = [a for a in range(1,11)]\n",
    "\n",
    "print(arr)\n",
    "print(arr[8]) # Mengakses elemen\n",
    "print(arr[3:9:2]) # Mengakses menggunakan metode slicing"
   ]
  },
  {
   "cell_type": "markdown",
   "id": "13e4ea18",
   "metadata": {},
   "source": [
    "## Pemrosesan Sekuensial pada Array\n",
    "Adapun pemrosesan sekuensial adalah sebuah **pemrosesan setiap elemen array yang dimulai dari elemen pada indeks terkecil hingga terbesar**. Pemrosesan sekuensial *lebih sering menggunakan pengulangan* (loop/iterasi) dalam setiap prosesnya.\n",
    "\n",
    "Sebab pemrosesan sekuensial melibatkan semua elemen di dalamnya, ada beberapa hal yang perlu diperhatikan.\n",
    "\n",
    "1. Setiap elemen array diakses secara langsung melalui **indeksnya** (metode indexing).\n",
    "2. Elemen pertama (first element) adalah elemen array dengan indeks terkecil yang **selalu dimulai dari 0**. \n",
    "3. Elemen selanjutnya (next element) dicapai melalui **suksesor indeks**.\n",
    "4. Kondisi berhenti dicapai jika **indeks yang diproses adalah indeks terbesar** yang sudah terdefinisi.\n",
    "5. Suatu array **tidak boleh kosong**, minimal memiliki satu elemen di dalamnya."
   ]
  },
  {
   "cell_type": "code",
   "execution_count": 72,
   "id": "b825086c",
   "metadata": {},
   "outputs": [
    {
     "name": "stdout",
     "output_type": "stream",
     "text": [
      "Current element: 1, next elements: 2\n",
      "Current element: 2, next elements: 3\n",
      "Current element: 3, next elements: 4\n",
      "Current element: 4, next elements: 5\n",
      "Current element: 5, next elements: None\n",
      "\n",
      "current element: 1, next element: 2\n",
      "current element: 2, next element: 3\n",
      "current element: 3, next element: 4\n",
      "current element: 4, next element: 5\n",
      "current element: 5, next element: None\n"
     ]
    }
   ],
   "source": [
    "# Contoh program pemrosesan sekuensial array\n",
    "var_arr = [1, 2, 3, 4, 5]\n",
    "\n",
    "for i in range(len(var_arr)):\n",
    "    current_element = var_arr[i]\n",
    "    next_index = i+1\n",
    "    \n",
    "    if next_index < len(var_arr):\n",
    "        next_element = var_arr[next_index]\n",
    "    else:\n",
    "        next_element = None\n",
    "        \n",
    "    print(f\"Current element: {current_element}, next elements: {next_element}\")\n",
    "\n",
    "print('')\n",
    "\n",
    "# Fathir's style\n",
    "\n",
    "var_arr = [1, 2, 3, 4, 5]\n",
    "iter_arr = iter(var_arr)\n",
    "\n",
    "for n in range(len(var_arr)):\n",
    "    next_val = next(iter_arr) + 1\n",
    "    if next_val < len(var_arr) + 1:\n",
    "        print(f'current element: {next_val - 1}, next element: {next_val}')\n",
    "    else:\n",
    "        print(f'current element: {next_val - 1}, next element: None')"
   ]
  },
  {
   "cell_type": "markdown",
   "id": "5712013e",
   "metadata": {},
   "source": [
    "## Latihan Array\n",
    "Membuat program mencari nilai terbesar (maks) dan terkecil (min) dari suatu array, program ini menerapkan pemrosesan sekuensial pada array."
   ]
  },
  {
   "cell_type": "code",
   "execution_count": 90,
   "id": "082cf2a8",
   "metadata": {},
   "outputs": [
    {
     "name": "stdout",
     "output_type": "stream",
     "text": [
      "Nilai maks: 108\n",
      "Nilai min: -51\n"
     ]
    }
   ],
   "source": [
    "arr = [93,0,-35,2,5,11,-8,24,-4,7,-51,74,108,9] # 14\n",
    "\n",
    "mins = arr[0]\n",
    "maks = arr[0]\n",
    "\n",
    "for a in range(len(arr)-1):\n",
    "    if mins > arr[a+1]:\n",
    "        mins = arr[a+1]\n",
    "    if maks < arr[a+1]:\n",
    "        maks = arr[a+1]\n",
    "\n",
    "print(f'Nilai maks: {maks}')\n",
    "print(f'Nilai min: {mins}')"
   ]
  }
 ],
 "metadata": {
  "kernelspec": {
   "display_name": ".venv",
   "language": "python",
   "name": "python3"
  },
  "language_info": {
   "codemirror_mode": {
    "name": "ipython",
    "version": 3
   },
   "file_extension": ".py",
   "mimetype": "text/x-python",
   "name": "python",
   "nbconvert_exporter": "python",
   "pygments_lexer": "ipython3",
   "version": "3.13.2"
  }
 },
 "nbformat": 4,
 "nbformat_minor": 5
}
